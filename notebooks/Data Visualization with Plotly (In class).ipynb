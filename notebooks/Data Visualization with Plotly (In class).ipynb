{
 "cells": [
  {
   "cell_type": "markdown",
   "metadata": {},
   "source": [
    "# Data Viz with Plotly"
   ]
  },
  {
   "cell_type": "markdown",
   "metadata": {},
   "source": [
    "**Goals**\n",
    "\n",
    "- In our last lecture, we are going to have some fun making some cool interactive plots with Plotly\n",
    "- Learn how to use Plotly's Python API to make plots and then how to customize those plots on the plotly website.\n",
    "- Cover a variety of plots from the usual (line, scatter) to 3D and geographic plots."
   ]
  },
  {
   "cell_type": "code",
   "execution_count": null,
   "metadata": {},
   "outputs": [],
   "source": []
  },
  {
   "cell_type": "markdown",
   "metadata": {},
   "source": [
    "### Setup\n",
    "\n",
    "1. Go to https://plot.ly/ and sign up for an account.\n",
    "2. Open your email and verify your account.\n",
    "3. Go to the api key under the settings section, click re-generate api, and copy/paste the api key here in the jupyter notebook.\n",
    "4. Install plotly library with `pip install plotly`\n",
    "\n",
    "<br>\n",
    "\n",
    "The plotly guide to plots in python https://plot.ly/python/"
   ]
  },
  {
   "cell_type": "code",
   "execution_count": null,
   "metadata": {},
   "outputs": [],
   "source": [
    "#Fill this out with your own user_name and api key\n",
    "user_name = \"geomcin\"\n",
    "api_key = \"1SF5eyqKMiCuvMrc68ct\""
   ]
  },
  {
   "cell_type": "code",
   "execution_count": null,
   "metadata": {},
   "outputs": [],
   "source": [
    "#Imports\n",
    "\n",
    "import pandas as pd\n",
    "import numpy as np\n",
    "import matplotlib.pyplot as plt\n",
    "%matplotlib inline"
   ]
  },
  {
   "cell_type": "code",
   "execution_count": null,
   "metadata": {},
   "outputs": [],
   "source": [
    "#Import plotly and sign in with user name and api\n",
    "\n"
   ]
  },
  {
   "cell_type": "code",
   "execution_count": null,
   "metadata": {},
   "outputs": [],
   "source": [
    "#Load in data\n",
    "\n",
    "spotify = pd.read_csv('../data/spotify_data.csv', index_col=[0])\n",
    "amazon = pd.read_csv('../data/amazon_cities_data.csv')\n",
    "housing = pd.read_csv('../data/kc_house_data.csv')\n",
    "pokemon = pd.read_csv('../data/Pokemon.csv')\n",
    "soccer_tweets = pd.read_pickle('../data/geotweets.pkl')\n"
   ]
  },
  {
   "cell_type": "markdown",
   "metadata": {},
   "source": [
    "We're ready to go!"
   ]
  },
  {
   "cell_type": "code",
   "execution_count": null,
   "metadata": {},
   "outputs": [],
   "source": []
  },
  {
   "cell_type": "code",
   "execution_count": null,
   "metadata": {},
   "outputs": [],
   "source": []
  },
  {
   "cell_type": "markdown",
   "metadata": {},
   "source": [
    "### Scatter plot"
   ]
  },
  {
   "cell_type": "code",
   "execution_count": null,
   "metadata": {},
   "outputs": [],
   "source": [
    "#Look at spotify data\n",
    "\n",
    "spotify.head()"
   ]
  },
  {
   "cell_type": "code",
   "execution_count": null,
   "metadata": {},
   "outputs": [],
   "source": [
    "#Assign x and y variables from spotify data\n",
    "\n",
    "x = \n",
    "y = \n",
    "\n",
    "\n",
    "#Plot the two attributes versus each other in scatter plot\n",
    "\n",
    "# Create a trace \n",
    "\n",
    "\n",
    "\n",
    "#put all the traces into a list\n",
    "\n",
    "\n",
    "# Plot and embed in ipython notebook!\n",
    "\n"
   ]
  },
  {
   "cell_type": "code",
   "execution_count": null,
   "metadata": {},
   "outputs": [],
   "source": []
  },
  {
   "cell_type": "code",
   "execution_count": null,
   "metadata": {},
   "outputs": [],
   "source": []
  },
  {
   "cell_type": "markdown",
   "metadata": {},
   "source": [
    "Tada! Your first plotly chart. If you click on edit chart, it will open a new window that takes you to the plotly website where you can further edit the plot. We'll do this later."
   ]
  },
  {
   "cell_type": "code",
   "execution_count": null,
   "metadata": {},
   "outputs": [],
   "source": []
  },
  {
   "cell_type": "markdown",
   "metadata": {},
   "source": [
    "Let's try this again but with color along with some other configurations."
   ]
  },
  {
   "cell_type": "code",
   "execution_count": null,
   "metadata": {},
   "outputs": [],
   "source": [
    "#Use valence variable to assign color\n",
    "color = \n",
    "\n",
    "\n",
    "# Create a trace \n",
    "\n",
    "\n",
    "\n",
    "#put all the traces into a list\n",
    "\n",
    "\n",
    "# Plot and embed in ipython notebook. Give it a title.\n",
    "\n"
   ]
  },
  {
   "cell_type": "code",
   "execution_count": null,
   "metadata": {},
   "outputs": [],
   "source": [
    "#Use outcome variable to assign color\n",
    "color = \n",
    "\n",
    "# Create a trace \n",
    "\n",
    "\n",
    "\n",
    "#put all the traces into a list\n",
    "\n",
    "\n",
    "\n",
    "# Plot and embed in ipython notebook. Give it a title.\n",
    "\n",
    "\n"
   ]
  },
  {
   "cell_type": "code",
   "execution_count": null,
   "metadata": {},
   "outputs": [],
   "source": []
  },
  {
   "cell_type": "markdown",
   "metadata": {},
   "source": [
    "Same plot but with two different traces."
   ]
  },
  {
   "cell_type": "code",
   "execution_count": null,
   "metadata": {},
   "outputs": [],
   "source": [
    "#Assign x0, y0, x1, y1\n",
    "\n",
    "x0 = spotify[spotify.target == 0].acousticness\n",
    "y0 = spotify[spotify.target == 0].danceability\n",
    "\n",
    "x1 = spotify[spotify.target == 1].acousticness\n",
    "y1 = spotify[spotify.target == 1].danceability"
   ]
  },
  {
   "cell_type": "code",
   "execution_count": null,
   "metadata": {},
   "outputs": [],
   "source": [
    "# Create a trace0 with x0 and y0\n",
    "\n",
    "\n",
    "\n",
    "# Create a trace1 with x1 and y1\n",
    "\n",
    "\n",
    "\n",
    "#put all the traces into a list\n",
    "\n",
    "\n",
    "# Plot and embed in ipython notebook. Give it a title.\n",
    "\n",
    "\n"
   ]
  },
  {
   "cell_type": "markdown",
   "metadata": {},
   "source": [
    "Now let's click on edit chart to customize the plot."
   ]
  },
  {
   "cell_type": "code",
   "execution_count": null,
   "metadata": {},
   "outputs": [],
   "source": []
  },
  {
   "cell_type": "code",
   "execution_count": null,
   "metadata": {},
   "outputs": [],
   "source": []
  },
  {
   "cell_type": "markdown",
   "metadata": {},
   "source": [
    "Let's include hover info"
   ]
  },
  {
   "cell_type": "code",
   "execution_count": null,
   "metadata": {},
   "outputs": [],
   "source": []
  },
  {
   "cell_type": "code",
   "execution_count": null,
   "metadata": {},
   "outputs": [],
   "source": [
    "#Assign variables from amazon dataset\n",
    "cities = \n",
    "diversity = \n",
    "transit = \n",
    "\n",
    "\n",
    "# Create trace \n",
    "\n",
    "#put all the traces into a list\n",
    "\n",
    "\n",
    "# Plot and embed in ipython notebook. Give it a title.\n",
    "\n",
    "\n"
   ]
  },
  {
   "cell_type": "markdown",
   "metadata": {},
   "source": [
    "Go ahead and hover your mouse over the dots."
   ]
  },
  {
   "cell_type": "code",
   "execution_count": null,
   "metadata": {},
   "outputs": [],
   "source": []
  },
  {
   "cell_type": "code",
   "execution_count": null,
   "metadata": {},
   "outputs": [],
   "source": []
  },
  {
   "cell_type": "markdown",
   "metadata": {},
   "source": [
    "### Line time series plot"
   ]
  },
  {
   "cell_type": "code",
   "execution_count": null,
   "metadata": {},
   "outputs": [],
   "source": [
    "#Load in apple stock price data\n",
    "\n",
    "aapl = pd.read_csv(\"https://raw.githubusercontent.com/plotly/datasets/master/finance-charts-apple.csv\")\n",
    "aapl.head()"
   ]
  },
  {
   "cell_type": "code",
   "execution_count": null,
   "metadata": {},
   "outputs": [],
   "source": []
  },
  {
   "cell_type": "code",
   "execution_count": null,
   "metadata": {},
   "outputs": [],
   "source": [
    "\n",
    "\n",
    "# Create a line plot of closing price\n",
    "\n",
    "\n",
    "# Create a line plot of opening price\n",
    "\n",
    "#put all the traces into a list\n",
    "\n",
    "\n",
    "# Plot and embed in ipython notebook!\n",
    "\n",
    "\n"
   ]
  },
  {
   "cell_type": "code",
   "execution_count": null,
   "metadata": {},
   "outputs": [],
   "source": []
  },
  {
   "cell_type": "code",
   "execution_count": null,
   "metadata": {},
   "outputs": [],
   "source": []
  },
  {
   "cell_type": "markdown",
   "metadata": {},
   "source": [
    "### Bar plot and histograms"
   ]
  },
  {
   "cell_type": "markdown",
   "metadata": {},
   "source": [
    "Histogram"
   ]
  },
  {
   "cell_type": "code",
   "execution_count": null,
   "metadata": {},
   "outputs": [],
   "source": [
    "#Filter out homes more expensive that $2M\n",
    "\n",
    "housing = housing[housing.price <= 2000000].copy()"
   ]
  },
  {
   "cell_type": "code",
   "execution_count": null,
   "metadata": {},
   "outputs": [],
   "source": [
    "#Create histogram of housing prices\n",
    "\n",
    "prices = housing.price\n",
    "\n",
    "\n",
    "#Create trace\n"
   ]
  },
  {
   "cell_type": "markdown",
   "metadata": {},
   "source": [
    "Normalized version"
   ]
  },
  {
   "cell_type": "code",
   "execution_count": null,
   "metadata": {},
   "outputs": [],
   "source": [
    "#Create histogram of housing prices\n",
    "\n",
    "\n",
    "\n"
   ]
  },
  {
   "cell_type": "markdown",
   "metadata": {},
   "source": [
    "Overlaid histogram, housing prices for 1 and 2 floor houses."
   ]
  },
  {
   "cell_type": "code",
   "execution_count": null,
   "metadata": {},
   "outputs": [],
   "source": [
    "x0 = housing[housing.floors == 1].price\n",
    "x1 = housing[housing.floors == 2].price"
   ]
  },
  {
   "cell_type": "code",
   "execution_count": null,
   "metadata": {},
   "outputs": [],
   "source": [
    "#Traces\n",
    "\n",
    "\n",
    "\n"
   ]
  },
  {
   "cell_type": "markdown",
   "metadata": {},
   "source": [
    "### Bar Plots"
   ]
  },
  {
   "cell_type": "code",
   "execution_count": null,
   "metadata": {},
   "outputs": [],
   "source": []
  },
  {
   "cell_type": "code",
   "execution_count": null,
   "metadata": {},
   "outputs": [],
   "source": [
    "#Filter data to include the following cities\n",
    "\n",
    "city_list = [\"Atlanta\", \"Chicago\", \"San Francisco\", \"Boston\", \"Houston\"]\n",
    "\n",
    "amazon2 = amazon[amazon.cities.isin(city_list) == True]\n",
    "amazon2"
   ]
  },
  {
   "cell_type": "code",
   "execution_count": null,
   "metadata": {},
   "outputs": [],
   "source": []
  },
  {
   "cell_type": "markdown",
   "metadata": {},
   "source": [
    "Grouped Bar Charts of the five cities and selected features"
   ]
  },
  {
   "cell_type": "code",
   "execution_count": null,
   "metadata": {},
   "outputs": [],
   "source": [
    "#Assign variables\n",
    "\n",
    "cities2 = amazon2.cities\n",
    "sprawl = amazon2.sprawl\n",
    "mobile = amazon2.mobile_network_score\n",
    "bachelors = amazon2.percent_bachelors"
   ]
  },
  {
   "cell_type": "code",
   "execution_count": null,
   "metadata": {},
   "outputs": [],
   "source": [
    "#Sprawl trace\n",
    "\n",
    "\n",
    "\n"
   ]
  },
  {
   "cell_type": "code",
   "execution_count": null,
   "metadata": {},
   "outputs": [],
   "source": []
  },
  {
   "cell_type": "markdown",
   "metadata": {},
   "source": [
    "Horizontal version"
   ]
  },
  {
   "cell_type": "code",
   "execution_count": null,
   "metadata": {},
   "outputs": [],
   "source": [
    "#Sprawl trace\n",
    "\n",
    "\n",
    "\n"
   ]
  },
  {
   "cell_type": "markdown",
   "metadata": {},
   "source": [
    "Click edit chart to customize chart."
   ]
  },
  {
   "cell_type": "code",
   "execution_count": null,
   "metadata": {},
   "outputs": [],
   "source": []
  },
  {
   "cell_type": "code",
   "execution_count": null,
   "metadata": {},
   "outputs": [],
   "source": []
  },
  {
   "cell_type": "markdown",
   "metadata": {},
   "source": [
    "## Let's have some real fun now with 3D and Geographic plots"
   ]
  },
  {
   "cell_type": "code",
   "execution_count": null,
   "metadata": {},
   "outputs": [],
   "source": []
  },
  {
   "cell_type": "markdown",
   "metadata": {},
   "source": [
    "### 3D\n",
    "\n",
    "We're going to plot a 3 PCA components data of the spotify dataset."
   ]
  },
  {
   "cell_type": "code",
   "execution_count": null,
   "metadata": {},
   "outputs": [],
   "source": [
    "#imports\n",
    "from sklearn.preprocessing import StandardScaler\n",
    "from sklearn.decomposition import PCA"
   ]
  },
  {
   "cell_type": "code",
   "execution_count": null,
   "metadata": {},
   "outputs": [],
   "source": []
  },
  {
   "cell_type": "code",
   "execution_count": null,
   "metadata": {},
   "outputs": [],
   "source": [
    "#Assign variables\n",
    "\n",
    "song_info = spotify.index\n",
    "X = spotify.drop(\"target\", axis =1)\n",
    "target = spotify.target\n",
    "\n",
    "#Transform data\n",
    "\n",
    "scale = StandardScaler()\n",
    "Xs = scale.fit_transform(X)\n",
    "\n",
    "pca = PCA(n_components=3)\n",
    "Xp = pca.fit_transform(Xs)"
   ]
  },
  {
   "cell_type": "code",
   "execution_count": null,
   "metadata": {},
   "outputs": [],
   "source": [
    "#Percent explained variance\n",
    "pca.explained_variance_ratio_.sum()"
   ]
  },
  {
   "cell_type": "code",
   "execution_count": null,
   "metadata": {},
   "outputs": [],
   "source": [
    "#assign variables\n",
    "\n",
    "x = Xp[:, 0]\n",
    "y = Xp[:, 1]\n",
    "z = Xp[:, 2]"
   ]
  },
  {
   "cell_type": "code",
   "execution_count": null,
   "metadata": {},
   "outputs": [],
   "source": [
    "\n",
    "# Create a trace \n",
    "\n",
    "\n",
    "#put all the traces into a list\n",
    "\n",
    "\n",
    "\n",
    "# Plot and embed in ipython notebook. Give it a title.\n",
    "\n",
    "\n"
   ]
  },
  {
   "cell_type": "markdown",
   "metadata": {},
   "source": [
    "What do you notice? Zoom in and out, hover over the dots."
   ]
  },
  {
   "cell_type": "code",
   "execution_count": null,
   "metadata": {},
   "outputs": [],
   "source": []
  },
  {
   "cell_type": "code",
   "execution_count": null,
   "metadata": {},
   "outputs": [],
   "source": []
  },
  {
   "cell_type": "markdown",
   "metadata": {},
   "source": [
    "### Geographic plotting"
   ]
  },
  {
   "cell_type": "markdown",
   "metadata": {},
   "source": [
    "We're going to scatter plots of tweets about the champions league final using the lat/lon coordinates. "
   ]
  },
  {
   "cell_type": "code",
   "execution_count": null,
   "metadata": {},
   "outputs": [],
   "source": [
    "#View data\n",
    "soccer_tweets.head(2)"
   ]
  },
  {
   "cell_type": "code",
   "execution_count": null,
   "metadata": {},
   "outputs": [],
   "source": [
    "#Assign variables\n",
    "lat = soccer_tweets.lats\n",
    "lon = soccer_tweets.longs\n",
    "tweet = soccer_tweets.tweet"
   ]
  },
  {
   "cell_type": "code",
   "execution_count": null,
   "metadata": {},
   "outputs": [],
   "source": [
    "\n",
    "\n",
    "\n",
    "# Plot and embed in ipython notebook. Give it a title.\n",
    "\n",
    "\n"
   ]
  },
  {
   "cell_type": "code",
   "execution_count": null,
   "metadata": {},
   "outputs": [],
   "source": []
  },
  {
   "cell_type": "markdown",
   "metadata": {},
   "source": [
    "Plotting country clusters. We're going to make the plots from this article I wrote.\n",
    "https://opendatascience.com/blog/redefining-what-it-means-to-be-a-first-world-or-third-world-country/"
   ]
  },
  {
   "cell_type": "code",
   "execution_count": null,
   "metadata": {},
   "outputs": [],
   "source": [
    "countries = pd.read_pickle(\"../data/country_development_data.pkl\")\n",
    "countries.head()"
   ]
  },
  {
   "cell_type": "markdown",
   "metadata": {},
   "source": [
    "Let's quickly make some clusters"
   ]
  },
  {
   "cell_type": "code",
   "execution_count": null,
   "metadata": {},
   "outputs": [],
   "source": [
    "new_cols = [\"electric_accces\", \"renewables_percent\", \"co2_emissions\", \"commercial_bank\",\n",
    "           \"credit_information_index_depth\", \"legal_rights\", \"cell_phone_usage\",\n",
    "           \"internet_users\",\"gdp_per_cap\", \"women_politicians\", \"communicable_disease_rate\", \"health_per_cap\",\n",
    "           \"female_labor_rate\", \"unemploy_rate\", \"net_migration\", \"mortality_rate\", \"life_exp\",\n",
    "           \"female_survival_65\", \"child_popul\", \"age_depend_ratio\", \"urban_pop\"]\n",
    "countries.columns = new_cols\n",
    "\n",
    "bc = ['women_politicians',\n",
    " 'legal_rights',\n",
    " 'cell_phone_usage',\n",
    " 'unemploy_rate',\n",
    " 'net_migration',\n",
    " 'commercial_bank']\n",
    "X = countries.copy().drop(bc, axis=1)\n",
    "scale = StandardScaler()\n",
    "Xs = scale.fit_transform(X)"
   ]
  },
  {
   "cell_type": "code",
   "execution_count": null,
   "metadata": {},
   "outputs": [],
   "source": [
    "from sklearn.cluster import KMeans\n",
    "from sklearn.metrics import silhouette_score\n",
    "\n",
    "km = KMeans(n_clusters=3)\n",
    "km.fit(Xs)\n",
    "silhouette_score(Xs, km.labels_)"
   ]
  },
  {
   "cell_type": "code",
   "execution_count": null,
   "metadata": {},
   "outputs": [],
   "source": [
    "#Load in country codes\n",
    "cc = pd.read_table(\"../data/country_codes\", sep=\"|\")\n",
    "cc.head()"
   ]
  },
  {
   "cell_type": "code",
   "execution_count": null,
   "metadata": {},
   "outputs": [],
   "source": [
    "country_dict = dict(zip(cc.COUNTRY, cc.CODE))\n",
    "cc = cc[cc.COUNTRY.isin(countries.index.tolist())].copy()"
   ]
  },
  {
   "cell_type": "code",
   "execution_count": null,
   "metadata": {},
   "outputs": [],
   "source": [
    "\n",
    "\n",
    "# Plot and embed in ipython notebook. Give it a title.\n",
    "\n"
   ]
  },
  {
   "cell_type": "code",
   "execution_count": null,
   "metadata": {},
   "outputs": [],
   "source": []
  },
  {
   "cell_type": "markdown",
   "metadata": {},
   "source": [
    "Let's try that again but include socio-econ information when you hover over a country."
   ]
  },
  {
   "cell_type": "code",
   "execution_count": null,
   "metadata": {},
   "outputs": [],
   "source": [
    "text = "
   ]
  },
  {
   "cell_type": "code",
   "execution_count": null,
   "metadata": {},
   "outputs": [],
   "source": [
    "\n",
    "\n",
    "\n",
    "# Plot and embed in ipython notebook. Give it a title.\n",
    "\n"
   ]
  },
  {
   "cell_type": "code",
   "execution_count": null,
   "metadata": {},
   "outputs": [],
   "source": []
  },
  {
   "cell_type": "code",
   "execution_count": null,
   "metadata": {},
   "outputs": [],
   "source": []
  },
  {
   "cell_type": "markdown",
   "metadata": {},
   "source": [
    "# Resources"
   ]
  },
  {
   "cell_type": "markdown",
   "metadata": {},
   "source": [
    "Plotly's collection of plotting in python:https://plot.ly/python\n",
    "\n",
    "Github version: https://github.com/plotly/python-user-guide\n",
    "\n",
    "- Plotting of crypto currencies: https://github.com/triestpa/Cryptocurrency-Analysis-Python/blob/master/Cryptocurrency-Pricing-Analysis.ipynb\n",
    "\n",
    "- https://github.com/santosjorge/cufflinks\n",
    "\n",
    "- https://github.com/empet/Plotly-plots\n",
    "\n",
    "- https://www.analyticsvidhya.com/blog/2017/01/beginners-guide-to-create-beautiful-interactive-data-visualizations-using-plotly-in-r-and-python/\n",
    "\n",
    "- https://www.youtube.com/watch?v=5OShFM6bjME\n",
    "\n",
    "- https://github.com/Mantej-Singh/Playing-with-Earthquakes-dataset/blob/master/Scatter%20Plots%20on%20Maps.ipynb\n",
    "\n",
    "- https://dev.socrata.com/blog/2016/02/02/plotly-pandas.html\n"
   ]
  },
  {
   "cell_type": "code",
   "execution_count": null,
   "metadata": {},
   "outputs": [],
   "source": []
  },
  {
   "cell_type": "code",
   "execution_count": null,
   "metadata": {},
   "outputs": [],
   "source": []
  },
  {
   "cell_type": "markdown",
   "metadata": {},
   "source": [
    "# Lab Time\n",
    "\n",
    "For the rest of class I want you use plotly to make plots for you final project. Use plotly to make your EDA graphs, use it show the results of your machine learning model (roc curve)."
   ]
  },
  {
   "cell_type": "code",
   "execution_count": null,
   "metadata": {},
   "outputs": [],
   "source": []
  }
 ],
 "metadata": {
  "kernelspec": {
   "display_name": "Python 2",
   "language": "python",
   "name": "python2"
  },
  "language_info": {
   "codemirror_mode": {
    "name": "ipython",
    "version": 2
   },
   "file_extension": ".py",
   "mimetype": "text/x-python",
   "name": "python",
   "nbconvert_exporter": "python",
   "pygments_lexer": "ipython2",
   "version": "2.7.13"
  }
 },
 "nbformat": 4,
 "nbformat_minor": 2
}
