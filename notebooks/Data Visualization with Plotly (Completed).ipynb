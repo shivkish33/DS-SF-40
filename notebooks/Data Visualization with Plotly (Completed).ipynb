{
 "cells": [
  {
   "cell_type": "markdown",
   "metadata": {},
   "source": [
    "# Data Viz with Plotly"
   ]
  },
  {
   "cell_type": "markdown",
   "metadata": {},
   "source": [
    "**Goals**\n",
    "\n",
    "- In our last lecture, we are going to have some fun making some cool interactive plots with Plotly\n",
    "- Learn how to use Plotly's Python API to make plots and then how to customize those plots on the plotly website.\n",
    "- Cover a variety of plots from the usual (line, scatter) to 3D and geographic plots."
   ]
  },
  {
   "cell_type": "code",
   "execution_count": null,
   "metadata": {},
   "outputs": [],
   "source": []
  },
  {
   "cell_type": "markdown",
   "metadata": {},
   "source": [
    "### Setup\n",
    "\n",
    "1. Go to https://plot.ly/ and sign up for an account.\n",
    "2. Open your email and verify your account.\n",
    "3. Go to the api key under the settings section, click re-generate api, and copy/paste the api key here in the jupyter notebook.\n",
    "4. Install plotly library with `pip install plotly`\n",
    "\n",
    "<br>\n",
    "\n",
    "The plotly guide to plots in python https://plot.ly/python/"
   ]
  },
  {
   "cell_type": "code",
   "execution_count": 3,
   "metadata": {},
   "outputs": [],
   "source": [
    "#Fill this out with your own user_name and api key\n",
    "user_name = \"geomcin\"\n",
    "api_key = \"1SF5eyqKMiCuvMrc68ct\""
   ]
  },
  {
   "cell_type": "code",
   "execution_count": 16,
   "metadata": {},
   "outputs": [],
   "source": [
    "#Imports\n",
    "\n",
    "import pandas as pd\n",
    "import numpy as np\n",
    "import matplotlib.pyplot as plt\n",
    "%matplotlib inline"
   ]
  },
  {
   "cell_type": "code",
   "execution_count": 5,
   "metadata": {},
   "outputs": [],
   "source": [
    "#Import plotly and sign in with user name and api\n",
    "\n",
    "import plotly.plotly as py\n",
    "py.sign_in(user_name, api_key)\n",
    "import plotly.graph_objs as go"
   ]
  },
  {
   "cell_type": "code",
   "execution_count": 10,
   "metadata": {},
   "outputs": [],
   "source": [
    "#Load in data\n",
    "\n",
    "spotify = pd.read_csv('../data/spotify_data.csv', index_col=[0])\n",
    "amazon = pd.read_csv('../data/amazon_cities_data.csv')\n",
    "housing = pd.read_csv('../data/kc_house_data.csv')\n",
    "pokemon = pd.read_csv('../data/Pokemon.csv')\n",
    "soccer_tweets = pd.read_pickle('../data/geotweets.pkl')\n"
   ]
  },
  {
   "cell_type": "markdown",
   "metadata": {},
   "source": [
    "We're ready to go!"
   ]
  },
  {
   "cell_type": "code",
   "execution_count": null,
   "metadata": {},
   "outputs": [],
   "source": []
  },
  {
   "cell_type": "code",
   "execution_count": null,
   "metadata": {},
   "outputs": [],
   "source": []
  },
  {
   "cell_type": "markdown",
   "metadata": {},
   "source": [
    "### Scatter plot"
   ]
  },
  {
   "cell_type": "code",
   "execution_count": 17,
   "metadata": {},
   "outputs": [
    {
     "data": {
      "text/html": [
       "<div>\n",
       "<table border=\"1\" class=\"dataframe\">\n",
       "  <thead>\n",
       "    <tr style=\"text-align: right;\">\n",
       "      <th></th>\n",
       "      <th>acousticness</th>\n",
       "      <th>danceability</th>\n",
       "      <th>instrumentalness</th>\n",
       "      <th>valence</th>\n",
       "      <th>energy</th>\n",
       "      <th>target</th>\n",
       "    </tr>\n",
       "  </thead>\n",
       "  <tbody>\n",
       "    <tr>\n",
       "      <th>Mask_Off***Future</th>\n",
       "      <td>0.0102</td>\n",
       "      <td>0.833</td>\n",
       "      <td>0.021900</td>\n",
       "      <td>0.286</td>\n",
       "      <td>0.434</td>\n",
       "      <td>1</td>\n",
       "    </tr>\n",
       "    <tr>\n",
       "      <th>Redbone***Childish_Gambino</th>\n",
       "      <td>0.1990</td>\n",
       "      <td>0.743</td>\n",
       "      <td>0.006110</td>\n",
       "      <td>0.588</td>\n",
       "      <td>0.359</td>\n",
       "      <td>1</td>\n",
       "    </tr>\n",
       "    <tr>\n",
       "      <th>Xanny_Family***Future</th>\n",
       "      <td>0.0344</td>\n",
       "      <td>0.838</td>\n",
       "      <td>0.000234</td>\n",
       "      <td>0.173</td>\n",
       "      <td>0.412</td>\n",
       "      <td>1</td>\n",
       "    </tr>\n",
       "    <tr>\n",
       "      <th>Master_Of_None***Beach_House</th>\n",
       "      <td>0.6040</td>\n",
       "      <td>0.494</td>\n",
       "      <td>0.510000</td>\n",
       "      <td>0.230</td>\n",
       "      <td>0.338</td>\n",
       "      <td>1</td>\n",
       "    </tr>\n",
       "    <tr>\n",
       "      <th>Parallel_Lines***Junior_Boys</th>\n",
       "      <td>0.1800</td>\n",
       "      <td>0.678</td>\n",
       "      <td>0.512000</td>\n",
       "      <td>0.904</td>\n",
       "      <td>0.561</td>\n",
       "      <td>1</td>\n",
       "    </tr>\n",
       "  </tbody>\n",
       "</table>\n",
       "</div>"
      ],
      "text/plain": [
       "                              acousticness  danceability  instrumentalness  \\\n",
       "Mask_Off***Future                   0.0102         0.833          0.021900   \n",
       "Redbone***Childish_Gambino          0.1990         0.743          0.006110   \n",
       "Xanny_Family***Future               0.0344         0.838          0.000234   \n",
       "Master_Of_None***Beach_House        0.6040         0.494          0.510000   \n",
       "Parallel_Lines***Junior_Boys        0.1800         0.678          0.512000   \n",
       "\n",
       "                              valence  energy  target  \n",
       "Mask_Off***Future               0.286   0.434       1  \n",
       "Redbone***Childish_Gambino      0.588   0.359       1  \n",
       "Xanny_Family***Future           0.173   0.412       1  \n",
       "Master_Of_None***Beach_House    0.230   0.338       1  \n",
       "Parallel_Lines***Junior_Boys    0.904   0.561       1  "
      ]
     },
     "execution_count": 17,
     "metadata": {},
     "output_type": "execute_result"
    }
   ],
   "source": [
    "#Look at spotify data\n",
    "\n",
    "spotify.head()"
   ]
  },
  {
   "cell_type": "code",
   "execution_count": 24,
   "metadata": {},
   "outputs": [
    {
     "name": "stdout",
     "output_type": "stream",
     "text": [
      "High five! You successfully sent some data to your account on plotly. View your plot in your browser at https://plot.ly/~geomcin/0 or inside your plot.ly account where it is named 'basic-scatter'\n"
     ]
    },
    {
     "data": {
      "text/html": [
       "<iframe id=\"igraph\" scrolling=\"no\" style=\"border:none;\" seamless=\"seamless\" src=\"https://plot.ly/~geomcin/0.embed\" height=\"525px\" width=\"100%\"></iframe>"
      ],
      "text/plain": [
       "<plotly.tools.PlotlyDisplay object>"
      ]
     },
     "execution_count": 24,
     "metadata": {},
     "output_type": "execute_result"
    }
   ],
   "source": [
    "#Assign x and y variables from spotify data\n",
    "\n",
    "x = spotify.acousticness\n",
    "y = spotify.danceability\n",
    "\n",
    "\n",
    "#Plot the two attributes versus each other in scatter plot\n",
    "\n",
    "# Create a trace \n",
    "trace = go.Scatter(\n",
    "    x = x,\n",
    "    y = y,\n",
    "    mode = 'markers',\n",
    "    name = \"Basic Scatter plot\"\n",
    ")\n",
    "\n",
    "#put all the traces into a list\n",
    "data = [trace]\n",
    "\n",
    "# Plot and embed in ipython notebook!\n",
    "layout = go.Layout(showlegend=True)\n",
    "fig = go.Figure(data=data, layout=layout)\n",
    "\n",
    "py.iplot(fig, filename='basic-scatter')"
   ]
  },
  {
   "cell_type": "code",
   "execution_count": null,
   "metadata": {},
   "outputs": [],
   "source": []
  },
  {
   "cell_type": "code",
   "execution_count": null,
   "metadata": {},
   "outputs": [],
   "source": []
  },
  {
   "cell_type": "markdown",
   "metadata": {},
   "source": [
    "Tada! Your first plotly chart. If you click on edit chart, it will open a new window that takes you to the plotly website where you can further edit the plot. We'll do this later."
   ]
  },
  {
   "cell_type": "code",
   "execution_count": null,
   "metadata": {},
   "outputs": [],
   "source": []
  },
  {
   "cell_type": "markdown",
   "metadata": {},
   "source": [
    "Let's try this again but with color along with some other configurations."
   ]
  },
  {
   "cell_type": "code",
   "execution_count": 34,
   "metadata": {},
   "outputs": [
    {
     "data": {
      "text/html": [
       "<iframe id=\"igraph\" scrolling=\"no\" style=\"border:none;\" seamless=\"seamless\" src=\"https://plot.ly/~geomcin/2.embed\" height=\"525px\" width=\"100%\"></iframe>"
      ],
      "text/plain": [
       "<plotly.tools.PlotlyDisplay object>"
      ]
     },
     "execution_count": 34,
     "metadata": {},
     "output_type": "execute_result"
    }
   ],
   "source": [
    "#Use valence variable to assign color\n",
    "color = spotify.valence\n",
    "\n",
    "\n",
    "# Create a trace \n",
    "trace = go.Scatter(\n",
    "    x = x,\n",
    "    y = y,\n",
    "    mode = 'markers',\n",
    "    marker = {\"size\":14,\n",
    "             \"color\" : color,\n",
    "             \"colorscale\" : \"Viridis\",\n",
    "             \"showscale\": True},\n",
    "    name = \"Acousticness vs Danceability\"\n",
    "    \n",
    ")\n",
    "\n",
    "#put all the traces into a list\n",
    "data = [trace]\n",
    "\n",
    "# Plot and embed in ipython notebook. Give it a title.\n",
    "layout = go.Layout(title = \"Spotify Scatter Plot\")\n",
    "fig = go.Figure(data=data, layout=layout)\n",
    "\n",
    "py.iplot(fig, filename='spotify_scatter')"
   ]
  },
  {
   "cell_type": "code",
   "execution_count": 29,
   "metadata": {},
   "outputs": [
    {
     "data": {
      "text/html": [
       "<iframe id=\"igraph\" scrolling=\"no\" style=\"border:none;\" seamless=\"seamless\" src=\"https://plot.ly/~geomcin/2.embed\" height=\"525px\" width=\"100%\"></iframe>"
      ],
      "text/plain": [
       "<plotly.tools.PlotlyDisplay object>"
      ]
     },
     "execution_count": 29,
     "metadata": {},
     "output_type": "execute_result"
    }
   ],
   "source": [
    "#Use outcome variable to assign color\n",
    "color = spotify.target\n",
    "\n",
    "# Create a trace \n",
    "trace = go.Scatter(\n",
    "    x = x,\n",
    "    y = y,\n",
    "    mode = 'markers',\n",
    "    marker = {\"size\":14,\n",
    "             \"color\" : color,\n",
    "             \"colorscale\" : \"Viridis\",\n",
    "             \"showscale\": True},\n",
    "    name = \"Acousticness vs Danceability\"\n",
    "    \n",
    ")\n",
    "\n",
    "#put all the traces into a list\n",
    "data = [trace]\n",
    "\n",
    "# Plot and embed in ipython notebook. Give it a title.\n",
    "layout = go.Layout(title = \"Spotify Scatter Plot\")\n",
    "fig = go.Figure(data=data, layout=layout)\n",
    "\n",
    "py.iplot(fig, filename='spotify_scatter')"
   ]
  },
  {
   "cell_type": "code",
   "execution_count": null,
   "metadata": {},
   "outputs": [],
   "source": []
  },
  {
   "cell_type": "markdown",
   "metadata": {},
   "source": [
    "Same plot but with two different traces."
   ]
  },
  {
   "cell_type": "code",
   "execution_count": 32,
   "metadata": {},
   "outputs": [],
   "source": [
    "#Assign x0, y0, x1, y1\n",
    "\n",
    "x0 = spotify[spotify.target == 0].acousticness\n",
    "y0 = spotify[spotify.target == 0].danceability\n",
    "\n",
    "x1 = spotify[spotify.target == 1].acousticness\n",
    "y1 = spotify[spotify.target == 1].danceability"
   ]
  },
  {
   "cell_type": "code",
   "execution_count": 33,
   "metadata": {},
   "outputs": [
    {
     "data": {
      "text/html": [
       "<iframe id=\"igraph\" scrolling=\"no\" style=\"border:none;\" seamless=\"seamless\" src=\"https://plot.ly/~geomcin/4.embed\" height=\"525px\" width=\"100%\"></iframe>"
      ],
      "text/plain": [
       "<plotly.tools.PlotlyDisplay object>"
      ]
     },
     "execution_count": 33,
     "metadata": {},
     "output_type": "execute_result"
    }
   ],
   "source": [
    "# Create a trace0 with x0 and y0\n",
    "trace0 = go.Scatter(\n",
    "    x = x0,\n",
    "    y = y0,\n",
    "    mode = 'markers',\n",
    "    marker = {\"size\":14,\n",
    "             \"color\" : \"blue\"},\n",
    "    name = \"Disliked Songs\"    \n",
    ")\n",
    "\n",
    "trace1 = go.Scatter(\n",
    "    x = x1,\n",
    "    y = y1,\n",
    "    mode = 'markers',\n",
    "    marker = {\"size\":14,\n",
    "             \"color\" : \"red\"},\n",
    "    name = \"Liked Songs\"    \n",
    ")\n",
    "\n",
    "#put all the traces into a list\n",
    "data = [trace0, trace1]\n",
    "\n",
    "# Plot and embed in ipython notebook. Give it a title.\n",
    "layout = go.Layout(title = \"Spotify Scatter Plot\")\n",
    "fig = go.Figure(data=data, layout=layout)\n",
    "\n",
    "py.iplot(fig, filename='spotify_scatter_2')"
   ]
  },
  {
   "cell_type": "markdown",
   "metadata": {},
   "source": [
    "Now let's click on edit chart to customize the plot."
   ]
  },
  {
   "cell_type": "code",
   "execution_count": null,
   "metadata": {},
   "outputs": [],
   "source": []
  },
  {
   "cell_type": "code",
   "execution_count": null,
   "metadata": {},
   "outputs": [],
   "source": []
  },
  {
   "cell_type": "markdown",
   "metadata": {},
   "source": [
    "Let's include hover info"
   ]
  },
  {
   "cell_type": "code",
   "execution_count": 45,
   "metadata": {},
   "outputs": [
    {
     "data": {
      "text/plain": [
       "Index([u'cities', u'sprawl', u'diversity', u'business_score',\n",
       "       u'fiber_coverage', u'excellent_education', u'percent_bachelors',\n",
       "       u'life_quality', u'mobile_network_score', u'transit_scores'],\n",
       "      dtype='object')"
      ]
     },
     "execution_count": 45,
     "metadata": {},
     "output_type": "execute_result"
    }
   ],
   "source": [
    "amazon.columns"
   ]
  },
  {
   "cell_type": "code",
   "execution_count": 48,
   "metadata": {},
   "outputs": [
    {
     "data": {
      "text/html": [
       "<iframe id=\"igraph\" scrolling=\"no\" style=\"border:none;\" seamless=\"seamless\" src=\"https://plot.ly/~geomcin/8.embed\" height=\"525px\" width=\"100%\"></iframe>"
      ],
      "text/plain": [
       "<plotly.tools.PlotlyDisplay object>"
      ]
     },
     "execution_count": 48,
     "metadata": {},
     "output_type": "execute_result"
    }
   ],
   "source": [
    "#Assign variables from amazon dataset\n",
    "cities = amazon.cities\n",
    "diversity = amazon.diversity\n",
    "transit = amazon.transit_scores\n",
    "\n",
    "\n",
    "# Create trace \n",
    "trace = go.Scatter(\n",
    "    x = diversity,\n",
    "    y = transit,\n",
    "    mode = 'markers',\n",
    "    text = cities    \n",
    ")\n",
    "\n",
    "#put all the traces into a list\n",
    "data = [trace]\n",
    "\n",
    "# Plot and embed in ipython notebook. Give it a title.\n",
    "layout = go.Layout(title = \"City Diversity vs Transit Scores\",\n",
    "                  hovermode = \"closest\")\n",
    "fig = go.Figure(data=data, layout=layout)\n",
    "\n",
    "py.iplot(fig, filename='Amazon Cities')"
   ]
  },
  {
   "cell_type": "markdown",
   "metadata": {},
   "source": [
    "Go ahead and hover your mouse over the dots."
   ]
  },
  {
   "cell_type": "code",
   "execution_count": null,
   "metadata": {},
   "outputs": [],
   "source": []
  },
  {
   "cell_type": "code",
   "execution_count": null,
   "metadata": {},
   "outputs": [],
   "source": []
  },
  {
   "cell_type": "markdown",
   "metadata": {},
   "source": [
    "### Line time series plot"
   ]
  },
  {
   "cell_type": "code",
   "execution_count": 39,
   "metadata": {},
   "outputs": [
    {
     "data": {
      "text/html": [
       "<div>\n",
       "<table border=\"1\" class=\"dataframe\">\n",
       "  <thead>\n",
       "    <tr style=\"text-align: right;\">\n",
       "      <th></th>\n",
       "      <th>Date</th>\n",
       "      <th>AAPL.Open</th>\n",
       "      <th>AAPL.High</th>\n",
       "      <th>AAPL.Low</th>\n",
       "      <th>AAPL.Close</th>\n",
       "      <th>AAPL.Volume</th>\n",
       "      <th>AAPL.Adjusted</th>\n",
       "      <th>dn</th>\n",
       "      <th>mavg</th>\n",
       "      <th>up</th>\n",
       "      <th>direction</th>\n",
       "    </tr>\n",
       "  </thead>\n",
       "  <tbody>\n",
       "    <tr>\n",
       "      <th>0</th>\n",
       "      <td>2015-02-17</td>\n",
       "      <td>127.489998</td>\n",
       "      <td>128.880005</td>\n",
       "      <td>126.919998</td>\n",
       "      <td>127.830002</td>\n",
       "      <td>63152400</td>\n",
       "      <td>122.905254</td>\n",
       "      <td>106.741052</td>\n",
       "      <td>117.927667</td>\n",
       "      <td>129.114281</td>\n",
       "      <td>Increasing</td>\n",
       "    </tr>\n",
       "    <tr>\n",
       "      <th>1</th>\n",
       "      <td>2015-02-18</td>\n",
       "      <td>127.629997</td>\n",
       "      <td>128.779999</td>\n",
       "      <td>127.449997</td>\n",
       "      <td>128.720001</td>\n",
       "      <td>44891700</td>\n",
       "      <td>123.760965</td>\n",
       "      <td>107.842423</td>\n",
       "      <td>118.940333</td>\n",
       "      <td>130.038244</td>\n",
       "      <td>Increasing</td>\n",
       "    </tr>\n",
       "    <tr>\n",
       "      <th>2</th>\n",
       "      <td>2015-02-19</td>\n",
       "      <td>128.479996</td>\n",
       "      <td>129.029999</td>\n",
       "      <td>128.330002</td>\n",
       "      <td>128.449997</td>\n",
       "      <td>37362400</td>\n",
       "      <td>123.501363</td>\n",
       "      <td>108.894245</td>\n",
       "      <td>119.889167</td>\n",
       "      <td>130.884089</td>\n",
       "      <td>Decreasing</td>\n",
       "    </tr>\n",
       "    <tr>\n",
       "      <th>3</th>\n",
       "      <td>2015-02-20</td>\n",
       "      <td>128.619995</td>\n",
       "      <td>129.500000</td>\n",
       "      <td>128.050003</td>\n",
       "      <td>129.500000</td>\n",
       "      <td>48948400</td>\n",
       "      <td>124.510914</td>\n",
       "      <td>109.785449</td>\n",
       "      <td>120.763500</td>\n",
       "      <td>131.741551</td>\n",
       "      <td>Increasing</td>\n",
       "    </tr>\n",
       "    <tr>\n",
       "      <th>4</th>\n",
       "      <td>2015-02-23</td>\n",
       "      <td>130.020004</td>\n",
       "      <td>133.000000</td>\n",
       "      <td>129.660004</td>\n",
       "      <td>133.000000</td>\n",
       "      <td>70974100</td>\n",
       "      <td>127.876074</td>\n",
       "      <td>110.372516</td>\n",
       "      <td>121.720167</td>\n",
       "      <td>133.067817</td>\n",
       "      <td>Increasing</td>\n",
       "    </tr>\n",
       "  </tbody>\n",
       "</table>\n",
       "</div>"
      ],
      "text/plain": [
       "         Date   AAPL.Open   AAPL.High    AAPL.Low  AAPL.Close  AAPL.Volume  \\\n",
       "0  2015-02-17  127.489998  128.880005  126.919998  127.830002     63152400   \n",
       "1  2015-02-18  127.629997  128.779999  127.449997  128.720001     44891700   \n",
       "2  2015-02-19  128.479996  129.029999  128.330002  128.449997     37362400   \n",
       "3  2015-02-20  128.619995  129.500000  128.050003  129.500000     48948400   \n",
       "4  2015-02-23  130.020004  133.000000  129.660004  133.000000     70974100   \n",
       "\n",
       "   AAPL.Adjusted          dn        mavg          up   direction  \n",
       "0     122.905254  106.741052  117.927667  129.114281  Increasing  \n",
       "1     123.760965  107.842423  118.940333  130.038244  Increasing  \n",
       "2     123.501363  108.894245  119.889167  130.884089  Decreasing  \n",
       "3     124.510914  109.785449  120.763500  131.741551  Increasing  \n",
       "4     127.876074  110.372516  121.720167  133.067817  Increasing  "
      ]
     },
     "execution_count": 39,
     "metadata": {},
     "output_type": "execute_result"
    }
   ],
   "source": [
    "#Load in apple stock price data\n",
    "\n",
    "aapl = pd.read_csv(\"https://raw.githubusercontent.com/plotly/datasets/master/finance-charts-apple.csv\")\n",
    "aapl.head()"
   ]
  },
  {
   "cell_type": "code",
   "execution_count": null,
   "metadata": {},
   "outputs": [],
   "source": []
  },
  {
   "cell_type": "code",
   "execution_count": 43,
   "metadata": {},
   "outputs": [
    {
     "data": {
      "text/html": [
       "<iframe id=\"igraph\" scrolling=\"no\" style=\"border:none;\" seamless=\"seamless\" src=\"https://plot.ly/~geomcin/6.embed\" height=\"525px\" width=\"100%\"></iframe>"
      ],
      "text/plain": [
       "<plotly.tools.PlotlyDisplay object>"
      ]
     },
     "execution_count": 43,
     "metadata": {},
     "output_type": "execute_result"
    }
   ],
   "source": [
    "\n",
    "\n",
    "# Create a line plot of closing price\n",
    "aapl_close = go.Scatter(\n",
    "    x = aapl.Date,\n",
    "    y = aapl[\"AAPL.Close\"],\n",
    "    name = \"Closing Price\"\n",
    ")\n",
    "# Create a line plot of opening price\n",
    "aapl_open = go.Scatter(\n",
    "    x = aapl.Date,\n",
    "    y = aapl[\"AAPL.Open\"],\n",
    "    name = \"Opening Price\"\n",
    ")\n",
    "\n",
    "#put all the traces into a list\n",
    "data = [aapl_close, aapl_open]\n",
    "\n",
    "# Plot and embed in ipython notebook!\n",
    "layout = go.Layout(title = \"Apple (aapl) Stock Opening and Closing Price\")\n",
    "fig = go.Figure(data=data, layout=layout)\n",
    "\n",
    "py.iplot(fig, filename='Apple Stock Prices')"
   ]
  },
  {
   "cell_type": "code",
   "execution_count": null,
   "metadata": {},
   "outputs": [],
   "source": []
  },
  {
   "cell_type": "code",
   "execution_count": null,
   "metadata": {},
   "outputs": [],
   "source": []
  },
  {
   "cell_type": "markdown",
   "metadata": {},
   "source": [
    "### Bar plot and histograms"
   ]
  },
  {
   "cell_type": "markdown",
   "metadata": {},
   "source": [
    "Histogram"
   ]
  },
  {
   "cell_type": "code",
   "execution_count": 73,
   "metadata": {},
   "outputs": [],
   "source": [
    "#Filter out homes more expensive that $2M\n",
    "\n",
    "housing = housing[housing.price <= 2000000].copy()"
   ]
  },
  {
   "cell_type": "code",
   "execution_count": 74,
   "metadata": {},
   "outputs": [
    {
     "data": {
      "text/html": [
       "<iframe id=\"igraph\" scrolling=\"no\" style=\"border:none;\" seamless=\"seamless\" src=\"https://plot.ly/~geomcin/14.embed\" height=\"525px\" width=\"100%\"></iframe>"
      ],
      "text/plain": [
       "<plotly.tools.PlotlyDisplay object>"
      ]
     },
     "execution_count": 74,
     "metadata": {},
     "output_type": "execute_result"
    }
   ],
   "source": [
    "#Create histogram of housing prices\n",
    "\n",
    "prices = housing.price\n",
    "\n",
    "trace = go.Histogram(x = prices)\n",
    "\n",
    "py.iplot([trace], filename='Housing Prices Histogram')"
   ]
  },
  {
   "cell_type": "markdown",
   "metadata": {},
   "source": [
    "Normalized version"
   ]
  },
  {
   "cell_type": "code",
   "execution_count": 75,
   "metadata": {},
   "outputs": [
    {
     "data": {
      "text/html": [
       "<iframe id=\"igraph\" scrolling=\"no\" style=\"border:none;\" seamless=\"seamless\" src=\"https://plot.ly/~geomcin/14.embed\" height=\"525px\" width=\"100%\"></iframe>"
      ],
      "text/plain": [
       "<plotly.tools.PlotlyDisplay object>"
      ]
     },
     "execution_count": 75,
     "metadata": {},
     "output_type": "execute_result"
    }
   ],
   "source": [
    "#Create histogram of housing prices\n",
    "\n",
    "trace = go.Histogram(x = prices, histnorm= \"probability\")\n",
    "\n",
    "py.iplot([trace], filename='Housing Prices Histogram')"
   ]
  },
  {
   "cell_type": "markdown",
   "metadata": {},
   "source": [
    "Overlaid histogram, housing prices for 1 and 2 floor houses."
   ]
  },
  {
   "cell_type": "code",
   "execution_count": 76,
   "metadata": {},
   "outputs": [],
   "source": [
    "x0 = housing[housing.floors == 1].price\n",
    "x1 = housing[housing.floors == 2].price"
   ]
  },
  {
   "cell_type": "code",
   "execution_count": 77,
   "metadata": {},
   "outputs": [
    {
     "data": {
      "text/html": [
       "<iframe id=\"igraph\" scrolling=\"no\" style=\"border:none;\" seamless=\"seamless\" src=\"https://plot.ly/~geomcin/16.embed\" height=\"525px\" width=\"100%\"></iframe>"
      ],
      "text/plain": [
       "<plotly.tools.PlotlyDisplay object>"
      ]
     },
     "execution_count": 77,
     "metadata": {},
     "output_type": "execute_result"
    }
   ],
   "source": [
    "hist1 = go.Histogram(\n",
    "    x=x0,\n",
    "    opacity=0.65,\n",
    "    name = \"One Floor Homes\"\n",
    ")\n",
    "hist2 = go.Histogram(\n",
    "    x=x1,\n",
    "    opacity=0.65,\n",
    "    name = \"Two Floor Homes\"\n",
    ")\n",
    "\n",
    "data = [hist1, hist2]\n",
    "layout = go.Layout(barmode='overlay')\n",
    "fig = go.Figure(data=data, layout=layout)\n",
    "\n",
    "py.iplot(fig, filename='overlaid housing prices histogram')"
   ]
  },
  {
   "cell_type": "markdown",
   "metadata": {},
   "source": [
    "### Bar Plots"
   ]
  },
  {
   "cell_type": "code",
   "execution_count": 44,
   "metadata": {},
   "outputs": [
    {
     "data": {
      "text/html": [
       "<div>\n",
       "<table border=\"1\" class=\"dataframe\">\n",
       "  <thead>\n",
       "    <tr style=\"text-align: right;\">\n",
       "      <th></th>\n",
       "      <th>cities</th>\n",
       "      <th>sprawl</th>\n",
       "      <th>diversity</th>\n",
       "      <th>business_score</th>\n",
       "      <th>fiber_coverage</th>\n",
       "      <th>excellent_education</th>\n",
       "      <th>percent_bachelors</th>\n",
       "      <th>life_quality</th>\n",
       "      <th>mobile_network_score</th>\n",
       "      <th>transit_scores</th>\n",
       "    </tr>\n",
       "  </thead>\n",
       "  <tbody>\n",
       "    <tr>\n",
       "      <th>0</th>\n",
       "      <td>Atlanta</td>\n",
       "      <td>41.00</td>\n",
       "      <td>67.26</td>\n",
       "      <td>4.0</td>\n",
       "      <td>11.2</td>\n",
       "      <td>2</td>\n",
       "      <td>35.8</td>\n",
       "      <td>6.6</td>\n",
       "      <td>97.2</td>\n",
       "      <td>7.70</td>\n",
       "    </tr>\n",
       "    <tr>\n",
       "      <th>1</th>\n",
       "      <td>Austin</td>\n",
       "      <td>102.44</td>\n",
       "      <td>69.91</td>\n",
       "      <td>3.7</td>\n",
       "      <td>12.1</td>\n",
       "      <td>1</td>\n",
       "      <td>41.7</td>\n",
       "      <td>7.8</td>\n",
       "      <td>97.2</td>\n",
       "      <td>5.47</td>\n",
       "    </tr>\n",
       "    <tr>\n",
       "      <th>2</th>\n",
       "      <td>Baltimore</td>\n",
       "      <td>115.62</td>\n",
       "      <td>64.92</td>\n",
       "      <td>1.7</td>\n",
       "      <td>60.2</td>\n",
       "      <td>2</td>\n",
       "      <td>37.3</td>\n",
       "      <td>6.3</td>\n",
       "      <td>96.6</td>\n",
       "      <td>8.52</td>\n",
       "    </tr>\n",
       "    <tr>\n",
       "      <th>3</th>\n",
       "      <td>Boston</td>\n",
       "      <td>126.93</td>\n",
       "      <td>68.96</td>\n",
       "      <td>3.0</td>\n",
       "      <td>38.8</td>\n",
       "      <td>7</td>\n",
       "      <td>44.6</td>\n",
       "      <td>7.1</td>\n",
       "      <td>95.3</td>\n",
       "      <td>9.44</td>\n",
       "    </tr>\n",
       "    <tr>\n",
       "      <th>4</th>\n",
       "      <td>Charlotte</td>\n",
       "      <td>70.45</td>\n",
       "      <td>69.56</td>\n",
       "      <td>3.3</td>\n",
       "      <td>11.3</td>\n",
       "      <td>0</td>\n",
       "      <td>32.2</td>\n",
       "      <td>7.1</td>\n",
       "      <td>95.8</td>\n",
       "      <td>4.33</td>\n",
       "    </tr>\n",
       "  </tbody>\n",
       "</table>\n",
       "</div>"
      ],
      "text/plain": [
       "      cities  sprawl  diversity  business_score  fiber_coverage  \\\n",
       "0    Atlanta   41.00      67.26             4.0            11.2   \n",
       "1     Austin  102.44      69.91             3.7            12.1   \n",
       "2  Baltimore  115.62      64.92             1.7            60.2   \n",
       "3     Boston  126.93      68.96             3.0            38.8   \n",
       "4  Charlotte   70.45      69.56             3.3            11.3   \n",
       "\n",
       "   excellent_education  percent_bachelors  life_quality  mobile_network_score  \\\n",
       "0                    2               35.8           6.6                  97.2   \n",
       "1                    1               41.7           7.8                  97.2   \n",
       "2                    2               37.3           6.3                  96.6   \n",
       "3                    7               44.6           7.1                  95.3   \n",
       "4                    0               32.2           7.1                  95.8   \n",
       "\n",
       "   transit_scores  \n",
       "0            7.70  \n",
       "1            5.47  \n",
       "2            8.52  \n",
       "3            9.44  \n",
       "4            4.33  "
      ]
     },
     "execution_count": 44,
     "metadata": {},
     "output_type": "execute_result"
    }
   ],
   "source": [
    "amazon.head()"
   ]
  },
  {
   "cell_type": "code",
   "execution_count": 50,
   "metadata": {},
   "outputs": [],
   "source": [
    "#Filter data to include the following cities\n",
    "\n",
    "city_list = [\"Atlanta\", \"Chicago\", \"San Francisco\", \"Boston\", \"Houston\"]\n",
    "\n",
    "amazon2 = amazon[amazon.cities.isin(city_list) == True]\n"
   ]
  },
  {
   "cell_type": "code",
   "execution_count": 51,
   "metadata": {},
   "outputs": [
    {
     "data": {
      "text/html": [
       "<div>\n",
       "<table border=\"1\" class=\"dataframe\">\n",
       "  <thead>\n",
       "    <tr style=\"text-align: right;\">\n",
       "      <th></th>\n",
       "      <th>cities</th>\n",
       "      <th>sprawl</th>\n",
       "      <th>diversity</th>\n",
       "      <th>business_score</th>\n",
       "      <th>fiber_coverage</th>\n",
       "      <th>excellent_education</th>\n",
       "      <th>percent_bachelors</th>\n",
       "      <th>life_quality</th>\n",
       "      <th>mobile_network_score</th>\n",
       "      <th>transit_scores</th>\n",
       "    </tr>\n",
       "  </thead>\n",
       "  <tbody>\n",
       "    <tr>\n",
       "      <th>0</th>\n",
       "      <td>Atlanta</td>\n",
       "      <td>41.00</td>\n",
       "      <td>67.26</td>\n",
       "      <td>4.0</td>\n",
       "      <td>11.2</td>\n",
       "      <td>2</td>\n",
       "      <td>35.8</td>\n",
       "      <td>6.6</td>\n",
       "      <td>97.2</td>\n",
       "      <td>7.70</td>\n",
       "    </tr>\n",
       "    <tr>\n",
       "      <th>3</th>\n",
       "      <td>Boston</td>\n",
       "      <td>126.93</td>\n",
       "      <td>68.96</td>\n",
       "      <td>3.0</td>\n",
       "      <td>38.8</td>\n",
       "      <td>7</td>\n",
       "      <td>44.6</td>\n",
       "      <td>7.1</td>\n",
       "      <td>95.3</td>\n",
       "      <td>9.44</td>\n",
       "    </tr>\n",
       "    <tr>\n",
       "      <th>5</th>\n",
       "      <td>Chicago</td>\n",
       "      <td>125.90</td>\n",
       "      <td>70.57</td>\n",
       "      <td>1.7</td>\n",
       "      <td>2.2</td>\n",
       "      <td>4</td>\n",
       "      <td>35.5</td>\n",
       "      <td>6.1</td>\n",
       "      <td>97.6</td>\n",
       "      <td>9.14</td>\n",
       "    </tr>\n",
       "    <tr>\n",
       "      <th>11</th>\n",
       "      <td>Houston</td>\n",
       "      <td>76.74</td>\n",
       "      <td>71.51</td>\n",
       "      <td>4.0</td>\n",
       "      <td>12.1</td>\n",
       "      <td>1</td>\n",
       "      <td>30.7</td>\n",
       "      <td>7.0</td>\n",
       "      <td>97.3</td>\n",
       "      <td>6.24</td>\n",
       "    </tr>\n",
       "    <tr>\n",
       "      <th>31</th>\n",
       "      <td>San Francisco</td>\n",
       "      <td>194.28</td>\n",
       "      <td>68.36</td>\n",
       "      <td>0.0</td>\n",
       "      <td>15.3</td>\n",
       "      <td>2</td>\n",
       "      <td>45.6</td>\n",
       "      <td>7.0</td>\n",
       "      <td>95.7</td>\n",
       "      <td>9.59</td>\n",
       "    </tr>\n",
       "  </tbody>\n",
       "</table>\n",
       "</div>"
      ],
      "text/plain": [
       "           cities  sprawl  diversity  business_score  fiber_coverage  \\\n",
       "0         Atlanta   41.00      67.26             4.0            11.2   \n",
       "3          Boston  126.93      68.96             3.0            38.8   \n",
       "5         Chicago  125.90      70.57             1.7             2.2   \n",
       "11        Houston   76.74      71.51             4.0            12.1   \n",
       "31  San Francisco  194.28      68.36             0.0            15.3   \n",
       "\n",
       "    excellent_education  percent_bachelors  life_quality  \\\n",
       "0                     2               35.8           6.6   \n",
       "3                     7               44.6           7.1   \n",
       "5                     4               35.5           6.1   \n",
       "11                    1               30.7           7.0   \n",
       "31                    2               45.6           7.0   \n",
       "\n",
       "    mobile_network_score  transit_scores  \n",
       "0                   97.2            7.70  \n",
       "3                   95.3            9.44  \n",
       "5                   97.6            9.14  \n",
       "11                  97.3            6.24  \n",
       "31                  95.7            9.59  "
      ]
     },
     "execution_count": 51,
     "metadata": {},
     "output_type": "execute_result"
    }
   ],
   "source": [
    "amazon2"
   ]
  },
  {
   "cell_type": "markdown",
   "metadata": {},
   "source": [
    "Grouped Bar Charts of the five cities and selected features"
   ]
  },
  {
   "cell_type": "code",
   "execution_count": 52,
   "metadata": {},
   "outputs": [],
   "source": [
    "#Assign variables\n",
    "\n",
    "cities2 = amazon2.cities\n",
    "sprawl = amazon2.sprawl\n",
    "mobile = amazon2.mobile_network_score\n",
    "bachelors = amazon2.percent_bachelors"
   ]
  },
  {
   "cell_type": "code",
   "execution_count": 53,
   "metadata": {},
   "outputs": [
    {
     "data": {
      "text/html": [
       "<iframe id=\"igraph\" scrolling=\"no\" style=\"border:none;\" seamless=\"seamless\" src=\"https://plot.ly/~geomcin/10.embed\" height=\"525px\" width=\"100%\"></iframe>"
      ],
      "text/plain": [
       "<plotly.tools.PlotlyDisplay object>"
      ]
     },
     "execution_count": 53,
     "metadata": {},
     "output_type": "execute_result"
    }
   ],
   "source": [
    "#Sprawl trace\n",
    "bar1 = go.Bar(\n",
    "x = cities2,\n",
    "y = sprawl,\n",
    "name = \"Sprawl Score\")\n",
    "\n",
    "bar2 = go.Bar(\n",
    "x = cities2,\n",
    "y = mobile,\n",
    "name = \"Mobile Network Score\")\n",
    "\n",
    "bar3 = go.Bar(\n",
    "x = cities2,\n",
    "y = bachelors,\n",
    "name = \"Percent of Bachelors\")\n",
    "\n",
    "data = [bar1, bar2, bar3]\n",
    "layout = go.Layout(\n",
    "    barmode='group'\n",
    ")\n",
    "\n",
    "fig = go.Figure(data=data, layout=layout)\n",
    "py.iplot(fig, filename='Amazon Grouped Bar Charts')"
   ]
  },
  {
   "cell_type": "code",
   "execution_count": null,
   "metadata": {},
   "outputs": [],
   "source": []
  },
  {
   "cell_type": "markdown",
   "metadata": {},
   "source": [
    "Horizontal version"
   ]
  },
  {
   "cell_type": "code",
   "execution_count": 54,
   "metadata": {},
   "outputs": [
    {
     "data": {
      "text/html": [
       "<iframe id=\"igraph\" scrolling=\"no\" style=\"border:none;\" seamless=\"seamless\" src=\"https://plot.ly/~geomcin/12.embed\" height=\"525px\" width=\"100%\"></iframe>"
      ],
      "text/plain": [
       "<plotly.tools.PlotlyDisplay object>"
      ]
     },
     "execution_count": 54,
     "metadata": {},
     "output_type": "execute_result"
    }
   ],
   "source": [
    "#Sprawl trace\n",
    "bar1 = go.Bar(\n",
    "x = sprawl,\n",
    "y = cities2,\n",
    "name = \"Sprawl Score\",\n",
    "orientation = \"h\")\n",
    "\n",
    "bar2 = go.Bar(\n",
    "x = mobile,\n",
    "y = cities2,\n",
    "name = \"Mobile Network Score\",\n",
    "orientation = \"h\")\n",
    "\n",
    "bar3 = go.Bar(\n",
    "x = bachelors,\n",
    "y = cities2,\n",
    "name = \"Percent of Bachelors\",\n",
    "orientation = \"h\")\n",
    "\n",
    "data = [bar1, bar2, bar3]\n",
    "layout = go.Layout(\n",
    "    barmode='group', title = \"Horizontal Amazon Chart\")\n",
    "\n",
    "fig = go.Figure(data=data, layout=layout)\n",
    "py.iplot(fig, filename='Horizontal Amazon Grouped Bar Charts')"
   ]
  },
  {
   "cell_type": "markdown",
   "metadata": {},
   "source": [
    "Click edit chart to customize chart."
   ]
  },
  {
   "cell_type": "code",
   "execution_count": null,
   "metadata": {},
   "outputs": [],
   "source": []
  },
  {
   "cell_type": "code",
   "execution_count": null,
   "metadata": {},
   "outputs": [],
   "source": []
  },
  {
   "cell_type": "markdown",
   "metadata": {},
   "source": [
    "## Let's have some real fun now with 3D and Geographic plots"
   ]
  },
  {
   "cell_type": "code",
   "execution_count": null,
   "metadata": {},
   "outputs": [],
   "source": []
  },
  {
   "cell_type": "markdown",
   "metadata": {},
   "source": [
    "### 3D\n",
    "\n",
    "We're going to plot a 3 PCA components data of the spotify dataset."
   ]
  },
  {
   "cell_type": "code",
   "execution_count": 78,
   "metadata": {},
   "outputs": [],
   "source": [
    "#imports\n",
    "from sklearn.preprocessing import StandardScaler\n",
    "from sklearn.decomposition import PCA"
   ]
  },
  {
   "cell_type": "code",
   "execution_count": 89,
   "metadata": {},
   "outputs": [],
   "source": [
    "# X"
   ]
  },
  {
   "cell_type": "code",
   "execution_count": 90,
   "metadata": {},
   "outputs": [],
   "source": [
    "#Assign variables\n",
    "\n",
    "song_info = spotify.index\n",
    "X = spotify.drop(\"target\", axis =1)\n",
    "target = spotify.target\n",
    "\n",
    "#Transform data\n",
    "\n",
    "scale = StandardScaler()\n",
    "Xs = scale.fit_transform(X)\n",
    "\n",
    "pca = PCA(n_components=3)\n",
    "Xp = pca.fit_transform(Xs)"
   ]
  },
  {
   "cell_type": "code",
   "execution_count": 91,
   "metadata": {},
   "outputs": [
    {
     "data": {
      "text/plain": [
       "0.82065314403766842"
      ]
     },
     "execution_count": 91,
     "metadata": {},
     "output_type": "execute_result"
    }
   ],
   "source": [
    "#Percent explained variance\n",
    "pca.explained_variance_ratio_.sum()"
   ]
  },
  {
   "cell_type": "code",
   "execution_count": 92,
   "metadata": {},
   "outputs": [],
   "source": [
    "#assign variables\n",
    "\n",
    "x = Xp[:, 0]\n",
    "y = Xp[:, 1]\n",
    "z = Xp[:, 2]"
   ]
  },
  {
   "cell_type": "code",
   "execution_count": 96,
   "metadata": {},
   "outputs": [
    {
     "data": {
      "text/html": [
       "<iframe id=\"igraph\" scrolling=\"no\" style=\"border:none;\" seamless=\"seamless\" src=\"https://plot.ly/~geomcin/18.embed\" height=\"525px\" width=\"100%\"></iframe>"
      ],
      "text/plain": [
       "<plotly.tools.PlotlyDisplay object>"
      ]
     },
     "execution_count": 96,
     "metadata": {},
     "output_type": "execute_result"
    }
   ],
   "source": [
    "\n",
    "# Create a trace \n",
    "trace1 = go.Scatter3d(\n",
    "    x = x,\n",
    "    y = y,\n",
    "    z = z,\n",
    "    mode = 'markers',\n",
    "    marker = {\"size\":8,\n",
    "             \"color\" : target,\n",
    "             \"colorscale\": \"Jet\"},\n",
    "    opacity = .5,\n",
    "    text = song_info\n",
    ")\n",
    "\n",
    "#put all the traces into a list\n",
    "data = [trace1]\n",
    "\n",
    "# Plot and embed in ipython notebook. Give it a title.\n",
    "layout = go.Layout(title = \"3D Spotify PCA Plot\", hovermode = \"closest\")\n",
    "fig = go.Figure(data=data, layout=layout)\n",
    "\n",
    "py.iplot(fig, filename='spotify_scatter_3d')"
   ]
  },
  {
   "cell_type": "markdown",
   "metadata": {},
   "source": [
    "What do you notice? Zoom in and out, hover over the dots."
   ]
  },
  {
   "cell_type": "code",
   "execution_count": null,
   "metadata": {},
   "outputs": [],
   "source": []
  },
  {
   "cell_type": "code",
   "execution_count": null,
   "metadata": {},
   "outputs": [],
   "source": []
  },
  {
   "cell_type": "markdown",
   "metadata": {},
   "source": [
    "### Geographic plotting"
   ]
  },
  {
   "cell_type": "markdown",
   "metadata": {},
   "source": [
    "We're going to scatter plots of tweets about the champions league final using the lat/lon coordinates. "
   ]
  },
  {
   "cell_type": "code",
   "execution_count": 105,
   "metadata": {},
   "outputs": [
    {
     "data": {
      "text/html": [
       "<div>\n",
       "<table border=\"1\" class=\"dataframe\">\n",
       "  <thead>\n",
       "    <tr style=\"text-align: right;\">\n",
       "      <th></th>\n",
       "      <th>tweet</th>\n",
       "      <th>ID</th>\n",
       "      <th>handle</th>\n",
       "      <th>display_name</th>\n",
       "      <th>is_retweeted</th>\n",
       "      <th>time</th>\n",
       "      <th>follower_count</th>\n",
       "      <th>geo</th>\n",
       "      <th>language</th>\n",
       "      <th>location</th>\n",
       "      <th>description</th>\n",
       "      <th>coor</th>\n",
       "      <th>lats</th>\n",
       "      <th>longs</th>\n",
       "    </tr>\n",
       "  </thead>\n",
       "  <tbody>\n",
       "    <tr>\n",
       "      <th>42</th>\n",
       "      <td>Vamos Juve #forzajuve #Lavazza #championsleagu...</td>\n",
       "      <td>871055614209871873</td>\n",
       "      <td>jorgeadarme</td>\n",
       "      <td>Jorge Andres Adarme</td>\n",
       "      <td>False</td>\n",
       "      <td>Sat Jun 03 17:26:56 +0000 2017</td>\n",
       "      <td>135</td>\n",
       "      <td>[3.51361, -74.0517]</td>\n",
       "      <td>es</td>\n",
       "      <td>Colombia</td>\n",
       "      <td>Ingeniero Agroforestal, sencillo, sincero y de...</td>\n",
       "      <td>nah</td>\n",
       "      <td>3.513610</td>\n",
       "      <td>-74.051700</td>\n",
       "    </tr>\n",
       "    <tr>\n",
       "      <th>536</th>\n",
       "      <td>Unos en Cardiff y otros en Cardys en Carabanch...</td>\n",
       "      <td>871055661924319233</td>\n",
       "      <td>j_asanchez</td>\n",
       "      <td>José Antonio Sánchez</td>\n",
       "      <td>False</td>\n",
       "      <td>Sat Jun 03 17:27:07 +0000 2017</td>\n",
       "      <td>16711</td>\n",
       "      <td>[40.386111, -3.738889]</td>\n",
       "      <td>es</td>\n",
       "      <td>Morαtα de Tαjuñα (Mαdrid)</td>\n",
       "      <td>Tengo 2 niñas preciosas, una aquí y otra en el...</td>\n",
       "      <td>nah</td>\n",
       "      <td>40.386111</td>\n",
       "      <td>-3.738889</td>\n",
       "    </tr>\n",
       "  </tbody>\n",
       "</table>\n",
       "</div>"
      ],
      "text/plain": [
       "                                                 tweet                  ID  \\\n",
       "42   Vamos Juve #forzajuve #Lavazza #championsleagu...  871055614209871873   \n",
       "536  Unos en Cardiff y otros en Cardys en Carabanch...  871055661924319233   \n",
       "\n",
       "          handle          display_name is_retweeted  \\\n",
       "42   jorgeadarme   Jorge Andres Adarme        False   \n",
       "536   j_asanchez  José Antonio Sánchez        False   \n",
       "\n",
       "                               time  follower_count                     geo  \\\n",
       "42   Sat Jun 03 17:26:56 +0000 2017             135     [3.51361, -74.0517]   \n",
       "536  Sat Jun 03 17:27:07 +0000 2017           16711  [40.386111, -3.738889]   \n",
       "\n",
       "    language                   location  \\\n",
       "42        es                   Colombia   \n",
       "536       es  Morαtα de Tαjuñα (Mαdrid)   \n",
       "\n",
       "                                           description coor       lats  \\\n",
       "42   Ingeniero Agroforestal, sencillo, sincero y de...  nah   3.513610   \n",
       "536  Tengo 2 niñas preciosas, una aquí y otra en el...  nah  40.386111   \n",
       "\n",
       "         longs  \n",
       "42  -74.051700  \n",
       "536  -3.738889  "
      ]
     },
     "execution_count": 105,
     "metadata": {},
     "output_type": "execute_result"
    }
   ],
   "source": [
    "#View data\n",
    "soccer_tweets.head(2)"
   ]
  },
  {
   "cell_type": "code",
   "execution_count": 98,
   "metadata": {},
   "outputs": [],
   "source": [
    "#Assign variables\n",
    "lat = soccer_tweets.lats\n",
    "lon = soccer_tweets.longs\n",
    "tweet = soccer_tweets.tweet"
   ]
  },
  {
   "cell_type": "code",
   "execution_count": 104,
   "metadata": {},
   "outputs": [
    {
     "data": {
      "text/html": [
       "<iframe id=\"igraph\" scrolling=\"no\" style=\"border:none;\" seamless=\"seamless\" src=\"https://plot.ly/~geomcin/20.embed\" height=\"525px\" width=\"100%\"></iframe>"
      ],
      "text/plain": [
       "<plotly.tools.PlotlyDisplay object>"
      ]
     },
     "execution_count": 104,
     "metadata": {},
     "output_type": "execute_result"
    }
   ],
   "source": [
    "trace = go.Scattergeo(lat = lat, \n",
    "                      lon= lon, \n",
    "                      text = tweet)\n",
    "\n",
    "data = [trace]\n",
    "\n",
    "# Plot and embed in ipython notebook. Give it a title.\n",
    "layout = go.Layout(title = \"Champions League Tweets\", hovermode = \"closest\",\n",
    "                  geo = {\"scope\": \"world\", \"showland\":True, \n",
    "                        \"landcolor\": \"rgb(150, 250, 250)\"})\n",
    "fig = go.Figure(data=data, layout=layout)\n",
    "\n",
    "py.iplot(fig, filename='geo scatter tweets')"
   ]
  },
  {
   "cell_type": "code",
   "execution_count": null,
   "metadata": {},
   "outputs": [],
   "source": []
  },
  {
   "cell_type": "markdown",
   "metadata": {},
   "source": [
    "Plotting country clusters. We're going to make the plots from this article I wrote.\n",
    "https://opendatascience.com/blog/redefining-what-it-means-to-be-a-first-world-or-third-world-country/"
   ]
  },
  {
   "cell_type": "code",
   "execution_count": 109,
   "metadata": {},
   "outputs": [
    {
     "data": {
      "text/html": [
       "<div>\n",
       "<table border=\"1\" class=\"dataframe\">\n",
       "  <thead>\n",
       "    <tr style=\"text-align: right;\">\n",
       "      <th>IndicatorCode</th>\n",
       "      <th>Access to electricity (% of population)</th>\n",
       "      <th>Renewable electricity output (% of total electricity output)</th>\n",
       "      <th>CO2 emissions (metric tons per capita)</th>\n",
       "      <th>Commercial bank branches (per 100,000 adults)</th>\n",
       "      <th>Depth of credit information index (0=low to 8=high)</th>\n",
       "      <th>Strength of legal rights index (0=weak to 12=strong)</th>\n",
       "      <th>Mobile cellular subscriptions (per 100 people)</th>\n",
       "      <th>Internet users (per 100 people)</th>\n",
       "      <th>GDP per capita (current US$)</th>\n",
       "      <th>Proportion of seats held by women in national parliaments (%)</th>\n",
       "      <th>...</th>\n",
       "      <th>Health expenditure per capita (current US$)</th>\n",
       "      <th>Labor force, female (% of total labor force)</th>\n",
       "      <th>Unemployment, total (% of total labor force)</th>\n",
       "      <th>Net migration</th>\n",
       "      <th>Mortality rate, infant (per 1,000 live births)</th>\n",
       "      <th>Life expectancy at birth, total (years)</th>\n",
       "      <th>Survival to age 65, female (% of cohort)</th>\n",
       "      <th>Population, ages 0-14 (% of total)</th>\n",
       "      <th>Age dependency ratio, young (% of working-age population)</th>\n",
       "      <th>Urban population (% of total)</th>\n",
       "    </tr>\n",
       "    <tr>\n",
       "      <th>CountryName</th>\n",
       "      <th></th>\n",
       "      <th></th>\n",
       "      <th></th>\n",
       "      <th></th>\n",
       "      <th></th>\n",
       "      <th></th>\n",
       "      <th></th>\n",
       "      <th></th>\n",
       "      <th></th>\n",
       "      <th></th>\n",
       "      <th></th>\n",
       "      <th></th>\n",
       "      <th></th>\n",
       "      <th></th>\n",
       "      <th></th>\n",
       "      <th></th>\n",
       "      <th></th>\n",
       "      <th></th>\n",
       "      <th></th>\n",
       "      <th></th>\n",
       "      <th></th>\n",
       "    </tr>\n",
       "  </thead>\n",
       "  <tbody>\n",
       "    <tr>\n",
       "      <th>Afghanistan</th>\n",
       "      <td>43.0</td>\n",
       "      <td>0.000000</td>\n",
       "      <td>0.425262</td>\n",
       "      <td>2.465221</td>\n",
       "      <td>0.0</td>\n",
       "      <td>9.0</td>\n",
       "      <td>74.882842</td>\n",
       "      <td>6.39</td>\n",
       "      <td>633.569247</td>\n",
       "      <td>27.710843</td>\n",
       "      <td>...</td>\n",
       "      <td>54.964148</td>\n",
       "      <td>16.051439</td>\n",
       "      <td>9.1</td>\n",
       "      <td>473007</td>\n",
       "      <td>66.3</td>\n",
       "      <td>60.028268</td>\n",
       "      <td>60.48056</td>\n",
       "      <td>44.870996</td>\n",
       "      <td>85.153384</td>\n",
       "      <td>26.282</td>\n",
       "    </tr>\n",
       "    <tr>\n",
       "      <th>Albania</th>\n",
       "      <td>100.0</td>\n",
       "      <td>100.000000</td>\n",
       "      <td>1.607038</td>\n",
       "      <td>22.241690</td>\n",
       "      <td>6.0</td>\n",
       "      <td>7.0</td>\n",
       "      <td>105.469966</td>\n",
       "      <td>60.10</td>\n",
       "      <td>4564.390339</td>\n",
       "      <td>20.714286</td>\n",
       "      <td>...</td>\n",
       "      <td>239.577092</td>\n",
       "      <td>41.266475</td>\n",
       "      <td>16.1</td>\n",
       "      <td>-91750</td>\n",
       "      <td>12.5</td>\n",
       "      <td>77.537244</td>\n",
       "      <td>90.56197</td>\n",
       "      <td>18.930427</td>\n",
       "      <td>27.432462</td>\n",
       "      <td>56.409</td>\n",
       "    </tr>\n",
       "    <tr>\n",
       "      <th>Algeria</th>\n",
       "      <td>100.0</td>\n",
       "      <td>1.083680</td>\n",
       "      <td>3.316038</td>\n",
       "      <td>5.064181</td>\n",
       "      <td>0.0</td>\n",
       "      <td>2.0</td>\n",
       "      <td>93.310750</td>\n",
       "      <td>18.09</td>\n",
       "      <td>5484.066806</td>\n",
       "      <td>31.601732</td>\n",
       "      <td>...</td>\n",
       "      <td>313.520212</td>\n",
       "      <td>17.376156</td>\n",
       "      <td>9.5</td>\n",
       "      <td>-143268</td>\n",
       "      <td>21.9</td>\n",
       "      <td>74.568951</td>\n",
       "      <td>85.02157</td>\n",
       "      <td>28.205909</td>\n",
       "      <td>42.742285</td>\n",
       "      <td>70.129</td>\n",
       "    </tr>\n",
       "    <tr>\n",
       "      <th>Angola</th>\n",
       "      <td>37.0</td>\n",
       "      <td>70.906823</td>\n",
       "      <td>1.354008</td>\n",
       "      <td>12.863257</td>\n",
       "      <td>0.0</td>\n",
       "      <td>1.0</td>\n",
       "      <td>63.479208</td>\n",
       "      <td>21.26</td>\n",
       "      <td>5900.529570</td>\n",
       "      <td>36.818182</td>\n",
       "      <td>...</td>\n",
       "      <td>267.224299</td>\n",
       "      <td>46.204554</td>\n",
       "      <td>6.8</td>\n",
       "      <td>102322</td>\n",
       "      <td>96.0</td>\n",
       "      <td>51.866171</td>\n",
       "      <td>49.09112</td>\n",
       "      <td>47.850317</td>\n",
       "      <td>96.005760</td>\n",
       "      <td>43.274</td>\n",
       "    </tr>\n",
       "    <tr>\n",
       "      <th>Argentina</th>\n",
       "      <td>99.8</td>\n",
       "      <td>23.769069</td>\n",
       "      <td>4.562049</td>\n",
       "      <td>13.303817</td>\n",
       "      <td>8.0</td>\n",
       "      <td>2.0</td>\n",
       "      <td>158.735762</td>\n",
       "      <td>64.70</td>\n",
       "      <td>12509.531118</td>\n",
       "      <td>36.186770</td>\n",
       "      <td>...</td>\n",
       "      <td>1074.066944</td>\n",
       "      <td>40.431360</td>\n",
       "      <td>8.2</td>\n",
       "      <td>30000</td>\n",
       "      <td>11.1</td>\n",
       "      <td>75.986098</td>\n",
       "      <td>87.23494</td>\n",
       "      <td>25.346427</td>\n",
       "      <td>39.700196</td>\n",
       "      <td>91.604</td>\n",
       "    </tr>\n",
       "  </tbody>\n",
       "</table>\n",
       "<p>5 rows × 21 columns</p>\n",
       "</div>"
      ],
      "text/plain": [
       "IndicatorCode  Access to electricity (% of population)  \\\n",
       "CountryName                                              \n",
       "Afghanistan                                       43.0   \n",
       "Albania                                          100.0   \n",
       "Algeria                                          100.0   \n",
       "Angola                                            37.0   \n",
       "Argentina                                         99.8   \n",
       "\n",
       "IndicatorCode  Renewable electricity output (% of total electricity output)  \\\n",
       "CountryName                                                                   \n",
       "Afghanistan                                             0.000000              \n",
       "Albania                                               100.000000              \n",
       "Algeria                                                 1.083680              \n",
       "Angola                                                 70.906823              \n",
       "Argentina                                              23.769069              \n",
       "\n",
       "IndicatorCode  CO2 emissions (metric tons per capita)  \\\n",
       "CountryName                                             \n",
       "Afghanistan                                  0.425262   \n",
       "Albania                                      1.607038   \n",
       "Algeria                                      3.316038   \n",
       "Angola                                       1.354008   \n",
       "Argentina                                    4.562049   \n",
       "\n",
       "IndicatorCode  Commercial bank branches (per 100,000 adults)  \\\n",
       "CountryName                                                    \n",
       "Afghanistan                                         2.465221   \n",
       "Albania                                            22.241690   \n",
       "Algeria                                             5.064181   \n",
       "Angola                                             12.863257   \n",
       "Argentina                                          13.303817   \n",
       "\n",
       "IndicatorCode  Depth of credit information index (0=low to 8=high)  \\\n",
       "CountryName                                                          \n",
       "Afghanistan                                                  0.0     \n",
       "Albania                                                      6.0     \n",
       "Algeria                                                      0.0     \n",
       "Angola                                                       0.0     \n",
       "Argentina                                                    8.0     \n",
       "\n",
       "IndicatorCode  Strength of legal rights index (0=weak to 12=strong)  \\\n",
       "CountryName                                                           \n",
       "Afghanistan                                                  9.0      \n",
       "Albania                                                      7.0      \n",
       "Algeria                                                      2.0      \n",
       "Angola                                                       1.0      \n",
       "Argentina                                                    2.0      \n",
       "\n",
       "IndicatorCode  Mobile cellular subscriptions (per 100 people)  \\\n",
       "CountryName                                                     \n",
       "Afghanistan                                         74.882842   \n",
       "Albania                                            105.469966   \n",
       "Algeria                                             93.310750   \n",
       "Angola                                              63.479208   \n",
       "Argentina                                          158.735762   \n",
       "\n",
       "IndicatorCode  Internet users (per 100 people)  GDP per capita (current US$)  \\\n",
       "CountryName                                                                    \n",
       "Afghanistan                               6.39                    633.569247   \n",
       "Albania                                  60.10                   4564.390339   \n",
       "Algeria                                  18.09                   5484.066806   \n",
       "Angola                                   21.26                   5900.529570   \n",
       "Argentina                                64.70                  12509.531118   \n",
       "\n",
       "IndicatorCode  Proportion of seats held by women in national parliaments (%)  \\\n",
       "CountryName                                                                    \n",
       "Afghanistan                                            27.710843               \n",
       "Albania                                                20.714286               \n",
       "Algeria                                                31.601732               \n",
       "Angola                                                 36.818182               \n",
       "Argentina                                              36.186770               \n",
       "\n",
       "IndicatorCode              ...                \\\n",
       "CountryName                ...                 \n",
       "Afghanistan                ...                 \n",
       "Albania                    ...                 \n",
       "Algeria                    ...                 \n",
       "Angola                     ...                 \n",
       "Argentina                  ...                 \n",
       "\n",
       "IndicatorCode  Health expenditure per capita (current US$)  \\\n",
       "CountryName                                                  \n",
       "Afghanistan                                      54.964148   \n",
       "Albania                                         239.577092   \n",
       "Algeria                                         313.520212   \n",
       "Angola                                          267.224299   \n",
       "Argentina                                      1074.066944   \n",
       "\n",
       "IndicatorCode  Labor force, female (% of total labor force)  \\\n",
       "CountryName                                                   \n",
       "Afghanistan                                       16.051439   \n",
       "Albania                                           41.266475   \n",
       "Algeria                                           17.376156   \n",
       "Angola                                            46.204554   \n",
       "Argentina                                         40.431360   \n",
       "\n",
       "IndicatorCode  Unemployment, total (% of total labor force)  Net migration  \\\n",
       "CountryName                                                                  \n",
       "Afghanistan                                             9.1         473007   \n",
       "Albania                                                16.1         -91750   \n",
       "Algeria                                                 9.5        -143268   \n",
       "Angola                                                  6.8         102322   \n",
       "Argentina                                               8.2          30000   \n",
       "\n",
       "IndicatorCode  Mortality rate, infant (per 1,000 live births)  \\\n",
       "CountryName                                                     \n",
       "Afghanistan                                              66.3   \n",
       "Albania                                                  12.5   \n",
       "Algeria                                                  21.9   \n",
       "Angola                                                   96.0   \n",
       "Argentina                                                11.1   \n",
       "\n",
       "IndicatorCode  Life expectancy at birth, total (years)  \\\n",
       "CountryName                                              \n",
       "Afghanistan                                  60.028268   \n",
       "Albania                                      77.537244   \n",
       "Algeria                                      74.568951   \n",
       "Angola                                       51.866171   \n",
       "Argentina                                    75.986098   \n",
       "\n",
       "IndicatorCode  Survival to age 65, female (% of cohort)  \\\n",
       "CountryName                                               \n",
       "Afghanistan                                    60.48056   \n",
       "Albania                                        90.56197   \n",
       "Algeria                                        85.02157   \n",
       "Angola                                         49.09112   \n",
       "Argentina                                      87.23494   \n",
       "\n",
       "IndicatorCode  Population, ages 0-14 (% of total)  \\\n",
       "CountryName                                         \n",
       "Afghanistan                             44.870996   \n",
       "Albania                                 18.930427   \n",
       "Algeria                                 28.205909   \n",
       "Angola                                  47.850317   \n",
       "Argentina                               25.346427   \n",
       "\n",
       "IndicatorCode  Age dependency ratio, young (% of working-age population)  \\\n",
       "CountryName                                                                \n",
       "Afghanistan                                            85.153384           \n",
       "Albania                                                27.432462           \n",
       "Algeria                                                42.742285           \n",
       "Angola                                                 96.005760           \n",
       "Argentina                                              39.700196           \n",
       "\n",
       "IndicatorCode  Urban population (% of total)  \n",
       "CountryName                                   \n",
       "Afghanistan                           26.282  \n",
       "Albania                               56.409  \n",
       "Algeria                               70.129  \n",
       "Angola                                43.274  \n",
       "Argentina                             91.604  \n",
       "\n",
       "[5 rows x 21 columns]"
      ]
     },
     "execution_count": 109,
     "metadata": {},
     "output_type": "execute_result"
    }
   ],
   "source": [
    "countries = pd.read_pickle(\"../data/country_development_data.pkl\")\n",
    "countries.head()"
   ]
  },
  {
   "cell_type": "markdown",
   "metadata": {},
   "source": [
    "Let's quickly make some clusters"
   ]
  },
  {
   "cell_type": "code",
   "execution_count": 112,
   "metadata": {},
   "outputs": [],
   "source": [
    "new_cols = [\"electric_accces\", \"renewables_percent\", \"co2_emissions\", \"commercial_bank\",\n",
    "           \"credit_information_index_depth\", \"legal_rights\", \"cell_phone_usage\",\n",
    "           \"internet_users\",\"gdp_per_cap\", \"women_politicians\", \"communicable_disease_rate\", \"health_per_cap\",\n",
    "           \"female_labor_rate\", \"unemploy_rate\", \"net_migration\", \"mortality_rate\", \"life_exp\",\n",
    "           \"female_survival_65\", \"child_popul\", \"age_depend_ratio\", \"urban_pop\"]\n",
    "countries.columns = new_cols\n",
    "\n",
    "bc = ['women_politicians',\n",
    " 'legal_rights',\n",
    " 'cell_phone_usage',\n",
    " 'unemploy_rate',\n",
    " 'net_migration',\n",
    " 'commercial_bank']\n",
    "X = countries.copy().drop(bc, axis=1)\n",
    "scale = StandardScaler()\n",
    "Xs = scale.fit_transform(X)"
   ]
  },
  {
   "cell_type": "code",
   "execution_count": 113,
   "metadata": {},
   "outputs": [
    {
     "data": {
      "text/plain": [
       "0.34391835031973944"
      ]
     },
     "execution_count": 113,
     "metadata": {},
     "output_type": "execute_result"
    }
   ],
   "source": [
    "from sklearn.cluster import KMeans\n",
    "from sklearn.metrics import silhouette_score\n",
    "\n",
    "km = KMeans(n_clusters=3)\n",
    "km.fit(Xs)\n",
    "silhouette_score(Xs, km.labels_)"
   ]
  },
  {
   "cell_type": "code",
   "execution_count": null,
   "metadata": {},
   "outputs": [],
   "source": [
    "countries[\"cluster\"] = km.labels_"
   ]
  },
  {
   "cell_type": "code",
   "execution_count": 115,
   "metadata": {},
   "outputs": [
    {
     "data": {
      "text/html": [
       "<div>\n",
       "<table border=\"1\" class=\"dataframe\">\n",
       "  <thead>\n",
       "    <tr style=\"text-align: right;\">\n",
       "      <th></th>\n",
       "      <th>COUNTRY</th>\n",
       "      <th>CODE</th>\n",
       "    </tr>\n",
       "  </thead>\n",
       "  <tbody>\n",
       "    <tr>\n",
       "      <th>0</th>\n",
       "      <td>Afghanistan</td>\n",
       "      <td>AFG</td>\n",
       "    </tr>\n",
       "    <tr>\n",
       "      <th>1</th>\n",
       "      <td>Africa</td>\n",
       "      <td>AFR</td>\n",
       "    </tr>\n",
       "    <tr>\n",
       "      <th>2</th>\n",
       "      <td>Albania</td>\n",
       "      <td>ALB</td>\n",
       "    </tr>\n",
       "    <tr>\n",
       "      <th>3</th>\n",
       "      <td>Algeria</td>\n",
       "      <td>DZA</td>\n",
       "    </tr>\n",
       "    <tr>\n",
       "      <th>4</th>\n",
       "      <td>American Samoa</td>\n",
       "      <td>ASM</td>\n",
       "    </tr>\n",
       "  </tbody>\n",
       "</table>\n",
       "</div>"
      ],
      "text/plain": [
       "          COUNTRY CODE\n",
       "0     Afghanistan  AFG\n",
       "1          Africa  AFR\n",
       "2         Albania  ALB\n",
       "3         Algeria  DZA\n",
       "4  American Samoa  ASM"
      ]
     },
     "execution_count": 115,
     "metadata": {},
     "output_type": "execute_result"
    }
   ],
   "source": [
    "#Load in country codes\n",
    "cc = pd.read_table(\"../data/country_codes\", sep=\"|\")\n",
    "cc.head()"
   ]
  },
  {
   "cell_type": "code",
   "execution_count": 117,
   "metadata": {},
   "outputs": [],
   "source": [
    "country_dict = dict(zip(cc.COUNTRY, cc.CODE))\n",
    "cc = cc[cc.COUNTRY.isin(countries.index.tolist())].copy()"
   ]
  },
  {
   "cell_type": "code",
   "execution_count": 120,
   "metadata": {},
   "outputs": [
    {
     "data": {
      "text/html": [
       "<iframe id=\"igraph\" scrolling=\"no\" style=\"border:none;\" seamless=\"seamless\" src=\"https://plot.ly/~geomcin/22.embed\" height=\"525px\" width=\"100%\"></iframe>"
      ],
      "text/plain": [
       "<plotly.tools.PlotlyDisplay object>"
      ]
     },
     "execution_count": 120,
     "metadata": {},
     "output_type": "execute_result"
    }
   ],
   "source": [
    "\n",
    "trace = go.Choropleth(locations = cc.CODE, z= countries.cluster, text = cc.COUNTRY,\n",
    "                   autocolorscale = True)\n",
    "\n",
    "data = [trace]\n",
    "\n",
    "# Plot and embed in ipython notebook. Give it a title.\n",
    "layout = go.Layout(title = \"Country Clusters\", hovermode = \"closest\",\n",
    "                  geo = {\"scope\": \"world\", \"showland\":True, \"showcoastlines\": True})\n",
    "\n",
    "fig = go.Figure(data=data, layout=layout)\n",
    "\n",
    "py.iplot(fig, filename='country cluster')"
   ]
  },
  {
   "cell_type": "code",
   "execution_count": null,
   "metadata": {},
   "outputs": [],
   "source": []
  },
  {
   "cell_type": "markdown",
   "metadata": {},
   "source": [
    "Let's try that again but include socio-econ information when you hover over a country."
   ]
  },
  {
   "cell_type": "code",
   "execution_count": 129,
   "metadata": {},
   "outputs": [
    {
     "data": {
      "text/plain": [
       "(159, 2)"
      ]
     },
     "execution_count": 129,
     "metadata": {},
     "output_type": "execute_result"
    }
   ],
   "source": [
    "cc.shape"
   ]
  },
  {
   "cell_type": "code",
   "execution_count": 137,
   "metadata": {},
   "outputs": [],
   "source": [
    "text = countries.index + \"<br> Unemployment Rate: \" + countries.unemploy_rate.round(3).astype(str) + \\\n",
    "\"<br> Life Expectancy: \" + countries.life_exp.round(3).astype(str)"
   ]
  },
  {
   "cell_type": "code",
   "execution_count": 138,
   "metadata": {},
   "outputs": [
    {
     "data": {
      "text/html": [
       "<iframe id=\"igraph\" scrolling=\"no\" style=\"border:none;\" seamless=\"seamless\" src=\"https://plot.ly/~geomcin/24.embed\" height=\"525px\" width=\"100%\"></iframe>"
      ],
      "text/plain": [
       "<plotly.tools.PlotlyDisplay object>"
      ]
     },
     "execution_count": 138,
     "metadata": {},
     "output_type": "execute_result"
    }
   ],
   "source": [
    "\n",
    "trace = go.Choropleth(locations = cc.CODE, z= countries.cluster, text = text,\n",
    "                   autocolorscale = True)\n",
    "\n",
    "data = [trace]\n",
    "\n",
    "# Plot and embed in ipython notebook. Give it a title.\n",
    "layout = go.Layout(title = \"Country Clusters\", hovermode = \"closest\",\n",
    "                  geo = {\"scope\": \"world\", \"showland\":True, \"showcoastlines\": True})\n",
    "\n",
    "fig = go.Figure(data=data, layout=layout)\n",
    "\n",
    "py.iplot(fig, filename='country cluster2')"
   ]
  },
  {
   "cell_type": "code",
   "execution_count": null,
   "metadata": {},
   "outputs": [],
   "source": []
  },
  {
   "cell_type": "code",
   "execution_count": null,
   "metadata": {},
   "outputs": [],
   "source": []
  },
  {
   "cell_type": "markdown",
   "metadata": {},
   "source": [
    "# Resources"
   ]
  },
  {
   "cell_type": "markdown",
   "metadata": {},
   "source": [
    "Plotly's collection of plotting in python:https://plot.ly/python\n",
    "\n",
    "Github version: https://github.com/plotly/python-user-guide\n",
    "\n",
    "- Plotting of crypto currencies: https://github.com/triestpa/Cryptocurrency-Analysis-Python/blob/master/Cryptocurrency-Pricing-Analysis.ipynb\n",
    "\n",
    "- https://github.com/santosjorge/cufflinks\n",
    "\n",
    "- https://github.com/empet/Plotly-plots\n",
    "\n",
    "- https://www.analyticsvidhya.com/blog/2017/01/beginners-guide-to-create-beautiful-interactive-data-visualizations-using-plotly-in-r-and-python/\n",
    "\n",
    "- https://www.youtube.com/watch?v=5OShFM6bjME\n",
    "\n",
    "- https://github.com/Mantej-Singh/Playing-with-Earthquakes-dataset/blob/master/Scatter%20Plots%20on%20Maps.ipynb\n",
    "\n",
    "- https://dev.socrata.com/blog/2016/02/02/plotly-pandas.html\n"
   ]
  },
  {
   "cell_type": "code",
   "execution_count": null,
   "metadata": {},
   "outputs": [],
   "source": []
  },
  {
   "cell_type": "markdown",
   "metadata": {},
   "source": [
    "# Lab Time\n",
    "\n",
    "For the rest of class I want you use plotly to make plots for you final project. Use plotly to make your EDA graphs, use it show the results of your machine learning model (roc curve)."
   ]
  },
  {
   "cell_type": "code",
   "execution_count": null,
   "metadata": {},
   "outputs": [],
   "source": []
  }
 ],
 "metadata": {
  "kernelspec": {
   "display_name": "Python 2",
   "language": "python",
   "name": "python2"
  },
  "language_info": {
   "codemirror_mode": {
    "name": "ipython",
    "version": 2
   },
   "file_extension": ".py",
   "mimetype": "text/x-python",
   "name": "python",
   "nbconvert_exporter": "python",
   "pygments_lexer": "ipython2",
   "version": "2.7.13"
  }
 },
 "nbformat": 4,
 "nbformat_minor": 2
}
