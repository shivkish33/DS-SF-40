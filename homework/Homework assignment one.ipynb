{
 "cells": [
  {
   "cell_type": "markdown",
   "metadata": {},
   "source": [
    "# Homework Assignment Number One"
   ]
  },
  {
   "cell_type": "code",
   "execution_count": 1,
   "metadata": {
    "collapsed": true
   },
   "outputs": [],
   "source": [
    "import pandas as pd\n",
    "import matplotlib.pyplot as plt\n",
    "import seaborn as sns\n",
    "%matplotlib inline"
   ]
  },
  {
   "cell_type": "markdown",
   "metadata": {},
   "source": [
    "## Section 1: Police killings"
   ]
  },
  {
   "cell_type": "code",
   "execution_count": 5,
   "metadata": {},
   "outputs": [
    {
     "data": {
      "text/html": [
       "<div>\n",
       "<style>\n",
       "    .dataframe thead tr:only-child th {\n",
       "        text-align: right;\n",
       "    }\n",
       "\n",
       "    .dataframe thead th {\n",
       "        text-align: left;\n",
       "    }\n",
       "\n",
       "    .dataframe tbody tr th {\n",
       "        vertical-align: top;\n",
       "    }\n",
       "</style>\n",
       "<table border=\"1\" class=\"dataframe\">\n",
       "  <thead>\n",
       "    <tr style=\"text-align: right;\">\n",
       "      <th></th>\n",
       "      <th>name</th>\n",
       "      <th>age</th>\n",
       "      <th>gender</th>\n",
       "      <th>raceethnicity</th>\n",
       "      <th>month</th>\n",
       "      <th>day</th>\n",
       "      <th>year</th>\n",
       "      <th>streetaddress</th>\n",
       "      <th>city</th>\n",
       "      <th>state</th>\n",
       "      <th>lawenforcementagency</th>\n",
       "      <th>cause</th>\n",
       "      <th>armed</th>\n",
       "      <th>county_income</th>\n",
       "    </tr>\n",
       "  </thead>\n",
       "  <tbody>\n",
       "    <tr>\n",
       "      <th>0</th>\n",
       "      <td>A'donte Washington</td>\n",
       "      <td>16</td>\n",
       "      <td>Male</td>\n",
       "      <td>Black</td>\n",
       "      <td>February</td>\n",
       "      <td>23</td>\n",
       "      <td>2015</td>\n",
       "      <td>Clearview Ln</td>\n",
       "      <td>Millbrook</td>\n",
       "      <td>AL</td>\n",
       "      <td>Millbrook Police Department</td>\n",
       "      <td>Gunshot</td>\n",
       "      <td>No</td>\n",
       "      <td>54766</td>\n",
       "    </tr>\n",
       "    <tr>\n",
       "      <th>1</th>\n",
       "      <td>Aaron Rutledge</td>\n",
       "      <td>27</td>\n",
       "      <td>Male</td>\n",
       "      <td>White</td>\n",
       "      <td>April</td>\n",
       "      <td>2</td>\n",
       "      <td>2015</td>\n",
       "      <td>300 block Iris Park Dr</td>\n",
       "      <td>Pineville</td>\n",
       "      <td>LA</td>\n",
       "      <td>Rapides Parish Sheriff's Office</td>\n",
       "      <td>Gunshot</td>\n",
       "      <td>No</td>\n",
       "      <td>40930</td>\n",
       "    </tr>\n",
       "    <tr>\n",
       "      <th>2</th>\n",
       "      <td>Aaron Siler</td>\n",
       "      <td>26</td>\n",
       "      <td>Male</td>\n",
       "      <td>White</td>\n",
       "      <td>March</td>\n",
       "      <td>14</td>\n",
       "      <td>2015</td>\n",
       "      <td>22nd Ave and 56th St</td>\n",
       "      <td>Kenosha</td>\n",
       "      <td>WI</td>\n",
       "      <td>Kenosha Police Department</td>\n",
       "      <td>Gunshot</td>\n",
       "      <td>No</td>\n",
       "      <td>54930</td>\n",
       "    </tr>\n",
       "    <tr>\n",
       "      <th>3</th>\n",
       "      <td>Aaron Valdez</td>\n",
       "      <td>25</td>\n",
       "      <td>Male</td>\n",
       "      <td>Hispanic/Latino</td>\n",
       "      <td>March</td>\n",
       "      <td>11</td>\n",
       "      <td>2015</td>\n",
       "      <td>3000 Seminole Ave</td>\n",
       "      <td>South Gate</td>\n",
       "      <td>CA</td>\n",
       "      <td>South Gate Police Department</td>\n",
       "      <td>Gunshot</td>\n",
       "      <td>Firearm</td>\n",
       "      <td>55909</td>\n",
       "    </tr>\n",
       "    <tr>\n",
       "      <th>4</th>\n",
       "      <td>Adam Jovicic</td>\n",
       "      <td>29</td>\n",
       "      <td>Male</td>\n",
       "      <td>White</td>\n",
       "      <td>March</td>\n",
       "      <td>19</td>\n",
       "      <td>2015</td>\n",
       "      <td>364 Hiwood Ave</td>\n",
       "      <td>Munroe Falls</td>\n",
       "      <td>OH</td>\n",
       "      <td>Kent Police Department</td>\n",
       "      <td>Gunshot</td>\n",
       "      <td>No</td>\n",
       "      <td>49669</td>\n",
       "    </tr>\n",
       "  </tbody>\n",
       "</table>\n",
       "</div>"
      ],
      "text/plain": [
       "                 name  age gender    raceethnicity     month  day  year  \\\n",
       "0  A'donte Washington   16   Male            Black  February   23  2015   \n",
       "1      Aaron Rutledge   27   Male            White     April    2  2015   \n",
       "2         Aaron Siler   26   Male            White     March   14  2015   \n",
       "3        Aaron Valdez   25   Male  Hispanic/Latino     March   11  2015   \n",
       "4        Adam Jovicic   29   Male            White     March   19  2015   \n",
       "\n",
       "            streetaddress          city state  \\\n",
       "0            Clearview Ln     Millbrook    AL   \n",
       "1  300 block Iris Park Dr     Pineville    LA   \n",
       "2    22nd Ave and 56th St       Kenosha    WI   \n",
       "3       3000 Seminole Ave    South Gate    CA   \n",
       "4          364 Hiwood Ave  Munroe Falls    OH   \n",
       "\n",
       "              lawenforcementagency    cause    armed  county_income  \n",
       "0      Millbrook Police Department  Gunshot       No          54766  \n",
       "1  Rapides Parish Sheriff's Office  Gunshot       No          40930  \n",
       "2        Kenosha Police Department  Gunshot       No          54930  \n",
       "3     South Gate Police Department  Gunshot  Firearm          55909  \n",
       "4           Kent Police Department  Gunshot       No          49669  "
      ]
     },
     "execution_count": 5,
     "metadata": {},
     "output_type": "execute_result"
    }
   ],
   "source": [
    "killings = pd.read_csv('../data/police-killings.csv', index_col=[0])\n",
    "killings.head()"
   ]
  },
  {
   "cell_type": "markdown",
   "metadata": {
    "collapsed": true
   },
   "source": [
    "### 1. Make the following changes to column names:\n",
    "\n",
    "- lawenforcementagency -> agency\n",
    "- raceethnicity -> race"
   ]
  },
  {
   "cell_type": "code",
   "execution_count": 6,
   "metadata": {},
   "outputs": [
    {
     "data": {
      "text/html": [
       "<div>\n",
       "<style>\n",
       "    .dataframe thead tr:only-child th {\n",
       "        text-align: right;\n",
       "    }\n",
       "\n",
       "    .dataframe thead th {\n",
       "        text-align: left;\n",
       "    }\n",
       "\n",
       "    .dataframe tbody tr th {\n",
       "        vertical-align: top;\n",
       "    }\n",
       "</style>\n",
       "<table border=\"1\" class=\"dataframe\">\n",
       "  <thead>\n",
       "    <tr style=\"text-align: right;\">\n",
       "      <th></th>\n",
       "      <th>name</th>\n",
       "      <th>age</th>\n",
       "      <th>gender</th>\n",
       "      <th>race</th>\n",
       "      <th>month</th>\n",
       "      <th>day</th>\n",
       "      <th>year</th>\n",
       "      <th>streetaddress</th>\n",
       "      <th>city</th>\n",
       "      <th>state</th>\n",
       "      <th>agency</th>\n",
       "      <th>cause</th>\n",
       "      <th>armed</th>\n",
       "      <th>county_income</th>\n",
       "    </tr>\n",
       "  </thead>\n",
       "  <tbody>\n",
       "    <tr>\n",
       "      <th>0</th>\n",
       "      <td>A'donte Washington</td>\n",
       "      <td>16</td>\n",
       "      <td>Male</td>\n",
       "      <td>Black</td>\n",
       "      <td>February</td>\n",
       "      <td>23</td>\n",
       "      <td>2015</td>\n",
       "      <td>Clearview Ln</td>\n",
       "      <td>Millbrook</td>\n",
       "      <td>AL</td>\n",
       "      <td>Millbrook Police Department</td>\n",
       "      <td>Gunshot</td>\n",
       "      <td>No</td>\n",
       "      <td>54766</td>\n",
       "    </tr>\n",
       "    <tr>\n",
       "      <th>1</th>\n",
       "      <td>Aaron Rutledge</td>\n",
       "      <td>27</td>\n",
       "      <td>Male</td>\n",
       "      <td>White</td>\n",
       "      <td>April</td>\n",
       "      <td>2</td>\n",
       "      <td>2015</td>\n",
       "      <td>300 block Iris Park Dr</td>\n",
       "      <td>Pineville</td>\n",
       "      <td>LA</td>\n",
       "      <td>Rapides Parish Sheriff's Office</td>\n",
       "      <td>Gunshot</td>\n",
       "      <td>No</td>\n",
       "      <td>40930</td>\n",
       "    </tr>\n",
       "    <tr>\n",
       "      <th>2</th>\n",
       "      <td>Aaron Siler</td>\n",
       "      <td>26</td>\n",
       "      <td>Male</td>\n",
       "      <td>White</td>\n",
       "      <td>March</td>\n",
       "      <td>14</td>\n",
       "      <td>2015</td>\n",
       "      <td>22nd Ave and 56th St</td>\n",
       "      <td>Kenosha</td>\n",
       "      <td>WI</td>\n",
       "      <td>Kenosha Police Department</td>\n",
       "      <td>Gunshot</td>\n",
       "      <td>No</td>\n",
       "      <td>54930</td>\n",
       "    </tr>\n",
       "    <tr>\n",
       "      <th>3</th>\n",
       "      <td>Aaron Valdez</td>\n",
       "      <td>25</td>\n",
       "      <td>Male</td>\n",
       "      <td>Hispanic/Latino</td>\n",
       "      <td>March</td>\n",
       "      <td>11</td>\n",
       "      <td>2015</td>\n",
       "      <td>3000 Seminole Ave</td>\n",
       "      <td>South Gate</td>\n",
       "      <td>CA</td>\n",
       "      <td>South Gate Police Department</td>\n",
       "      <td>Gunshot</td>\n",
       "      <td>Firearm</td>\n",
       "      <td>55909</td>\n",
       "    </tr>\n",
       "    <tr>\n",
       "      <th>4</th>\n",
       "      <td>Adam Jovicic</td>\n",
       "      <td>29</td>\n",
       "      <td>Male</td>\n",
       "      <td>White</td>\n",
       "      <td>March</td>\n",
       "      <td>19</td>\n",
       "      <td>2015</td>\n",
       "      <td>364 Hiwood Ave</td>\n",
       "      <td>Munroe Falls</td>\n",
       "      <td>OH</td>\n",
       "      <td>Kent Police Department</td>\n",
       "      <td>Gunshot</td>\n",
       "      <td>No</td>\n",
       "      <td>49669</td>\n",
       "    </tr>\n",
       "  </tbody>\n",
       "</table>\n",
       "</div>"
      ],
      "text/plain": [
       "                 name  age gender             race     month  day  year  \\\n",
       "0  A'donte Washington   16   Male            Black  February   23  2015   \n",
       "1      Aaron Rutledge   27   Male            White     April    2  2015   \n",
       "2         Aaron Siler   26   Male            White     March   14  2015   \n",
       "3        Aaron Valdez   25   Male  Hispanic/Latino     March   11  2015   \n",
       "4        Adam Jovicic   29   Male            White     March   19  2015   \n",
       "\n",
       "            streetaddress          city state  \\\n",
       "0            Clearview Ln     Millbrook    AL   \n",
       "1  300 block Iris Park Dr     Pineville    LA   \n",
       "2    22nd Ave and 56th St       Kenosha    WI   \n",
       "3       3000 Seminole Ave    South Gate    CA   \n",
       "4          364 Hiwood Ave  Munroe Falls    OH   \n",
       "\n",
       "                            agency    cause    armed  county_income  \n",
       "0      Millbrook Police Department  Gunshot       No          54766  \n",
       "1  Rapides Parish Sheriff's Office  Gunshot       No          40930  \n",
       "2        Kenosha Police Department  Gunshot       No          54930  \n",
       "3     South Gate Police Department  Gunshot  Firearm          55909  \n",
       "4           Kent Police Department  Gunshot       No          49669  "
      ]
     },
     "execution_count": 6,
     "metadata": {},
     "output_type": "execute_result"
    }
   ],
   "source": [
    "names = killings.columns.tolist()\n",
    "names[names.index('lawenforcementagency')] = 'agency'\n",
    "names[names.index('raceethnicity')] = 'race'\n",
    "killings.columns = names\n",
    "killings.head()"
   ]
  },
  {
   "cell_type": "code",
   "execution_count": 29,
   "metadata": {},
   "outputs": [
    {
     "data": {
      "text/plain": [
       "95.289079229122052"
      ]
     },
     "execution_count": 29,
     "metadata": {},
     "output_type": "execute_result"
    }
   ],
   "source": [
    "killings.gender.value_counts(normalize=True)[\"Male\"]*100"
   ]
  },
  {
   "cell_type": "code",
   "execution_count": null,
   "metadata": {
    "collapsed": true
   },
   "outputs": [],
   "source": []
  },
  {
   "cell_type": "markdown",
   "metadata": {
    "collapsed": true
   },
   "source": [
    "### 2. Show the count of missing values in each column"
   ]
  },
  {
   "cell_type": "code",
   "execution_count": 7,
   "metadata": {},
   "outputs": [
    {
     "data": {
      "text/plain": [
       "name             0\n",
       "age              0\n",
       "gender           0\n",
       "race             0\n",
       "month            0\n",
       "day              0\n",
       "year             0\n",
       "streetaddress    4\n",
       "city             0\n",
       "state            0\n",
       "agency           0\n",
       "cause            0\n",
       "armed            0\n",
       "county_income    0\n",
       "dtype: int64"
      ]
     },
     "execution_count": 7,
     "metadata": {},
     "output_type": "execute_result"
    }
   ],
   "source": [
    "killings.isnull().sum()"
   ]
  },
  {
   "cell_type": "markdown",
   "metadata": {
    "collapsed": true
   },
   "source": [
    "### 3. Replace each null value in the dataframe with the string \"unknown\""
   ]
  },
  {
   "cell_type": "code",
   "execution_count": 8,
   "metadata": {},
   "outputs": [
    {
     "data": {
      "text/plain": [
       "name             0\n",
       "age              0\n",
       "gender           0\n",
       "race             0\n",
       "month            0\n",
       "day              0\n",
       "year             0\n",
       "streetaddress    0\n",
       "city             0\n",
       "state            0\n",
       "agency           0\n",
       "cause            0\n",
       "armed            0\n",
       "county_income    0\n",
       "dtype: int64"
      ]
     },
     "execution_count": 8,
     "metadata": {},
     "output_type": "execute_result"
    }
   ],
   "source": [
    "killings.streetaddress.fillna('unknown', inplace=True)\n",
    "killings.isnull().sum()"
   ]
  },
  {
   "cell_type": "markdown",
   "metadata": {
    "collapsed": true
   },
   "source": [
    "### 4. How many killings were there in March and April?"
   ]
  },
  {
   "cell_type": "code",
   "execution_count": 16,
   "metadata": {},
   "outputs": [
    {
     "data": {
      "text/plain": [
       "210"
      ]
     },
     "execution_count": 16,
     "metadata": {},
     "output_type": "execute_result"
    }
   ],
   "source": [
    "killings[(killings.month == \"March\") | (killings.month == \"April\")].shape[0]"
   ]
  },
  {
   "cell_type": "markdown",
   "metadata": {
    "collapsed": true
   },
   "source": [
    "### 5. How many male and how many female victims are there?"
   ]
  },
  {
   "cell_type": "code",
   "execution_count": 12,
   "metadata": {},
   "outputs": [
    {
     "data": {
      "text/plain": [
       "22"
      ]
     },
     "execution_count": 12,
     "metadata": {},
     "output_type": "execute_result"
    }
   ],
   "source": [
    "killings.gender.apply(lambda x:\"male\" in x or \"female\" in x).sum()"
   ]
  },
  {
   "cell_type": "code",
   "execution_count": 39,
   "metadata": {},
   "outputs": [
    {
     "data": {
      "text/plain": [
       "Male      445\n",
       "Female     22\n",
       "Name: gender, dtype: int64"
      ]
     },
     "execution_count": 39,
     "metadata": {},
     "output_type": "execute_result"
    }
   ],
   "source": [
    "killings.gender.value_counts(normalize=False)\n"
   ]
  },
  {
   "cell_type": "markdown",
   "metadata": {
    "collapsed": true
   },
   "source": [
    "### 6. How many killings were of unarmed people?"
   ]
  },
  {
   "cell_type": "code",
   "execution_count": 41,
   "metadata": {},
   "outputs": [
    {
     "data": {
      "text/plain": [
       "102"
      ]
     },
     "execution_count": 41,
     "metadata": {},
     "output_type": "execute_result"
    }
   ],
   "source": [
    "\n",
    "killings.armed.value_counts(normalize=False)[\"No\"]"
   ]
  },
  {
   "cell_type": "markdown",
   "metadata": {
    "collapsed": true
   },
   "source": [
    "### 7. What percentage of all killings were unarmed?"
   ]
  },
  {
   "cell_type": "code",
   "execution_count": 43,
   "metadata": {},
   "outputs": [
    {
     "data": {
      "text/plain": [
       "Firearm               49.250535\n",
       "No                    21.841542\n",
       "Knife                 14.561028\n",
       "Other                  5.567452\n",
       "Vehicle                3.854390\n",
       "Non-lethal firearm     2.997859\n",
       "Unknown                1.498929\n",
       "Disputed               0.428266\n",
       "Name: armed, dtype: float64"
      ]
     },
     "execution_count": 43,
     "metadata": {},
     "output_type": "execute_result"
    }
   ],
   "source": [
    "killings.armed.value_counts(normalize=True)[\"No\"]*100"
   ]
  },
  {
   "cell_type": "markdown",
   "metadata": {
    "collapsed": true
   },
   "source": [
    "### 8. What are the 5 states with the most killings?"
   ]
  },
  {
   "cell_type": "code",
   "execution_count": 45,
   "metadata": {},
   "outputs": [
    {
     "data": {
      "text/plain": [
       "CA    74\n",
       "TX    46\n",
       "FL    29\n",
       "AZ    25\n",
       "OK    22\n",
       "Name: state, dtype: int64"
      ]
     },
     "execution_count": 45,
     "metadata": {},
     "output_type": "execute_result"
    }
   ],
   "source": [
    "killings.state.value_counts(normalize=False).sort_values(ascending=False).head()"
   ]
  },
  {
   "cell_type": "markdown",
   "metadata": {
    "collapsed": true
   },
   "source": [
    "### 9. Show a value counts of deaths for each race"
   ]
  },
  {
   "cell_type": "code",
   "execution_count": 46,
   "metadata": {},
   "outputs": [
    {
     "data": {
      "text/plain": [
       "White                     236\n",
       "Black                     135\n",
       "Hispanic/Latino            67\n",
       "Unknown                    15\n",
       "Asian/Pacific Islander     10\n",
       "Native American             4\n",
       "Name: race, dtype: int64"
      ]
     },
     "execution_count": 46,
     "metadata": {},
     "output_type": "execute_result"
    }
   ],
   "source": [
    "killings.race.value_counts(normalize=False)"
   ]
  },
  {
   "cell_type": "markdown",
   "metadata": {
    "collapsed": true
   },
   "source": [
    "### 10. Display a histogram of ages of all killings"
   ]
  },
  {
   "cell_type": "code",
   "execution_count": 54,
   "metadata": {},
   "outputs": [
    {
     "data": {
      "image/png": "[encoded data removed]",
      "text/plain": [
       "<matplotlib.figure.Figure at 0x11526ddd0>"
      ]
     },
     "metadata": {},
     "output_type": "display_data"
    }
   ],
   "source": [
    "plt.hist(killings.age)\n",
    "plt.show()"
   ]
  },
  {
   "cell_type": "markdown",
   "metadata": {
    "collapsed": true
   },
   "source": [
    "### 11. Show histogram of ages for each race"
   ]
  },
  {
   "cell_type": "code",
   "execution_count": 53,
   "metadata": {},
   "outputs": [
    {
     "data": {
      "image/png": "[encoded data removed]",
      "text/plain": [
       "<matplotlib.figure.Figure at 0x114fdc4d0>"
      ]
     },
     "metadata": {},
     "output_type": "display_data"
    }
   ],
   "source": [
    "killings.plot(x=\"race\", y = \"age\", kind=\"hist\")\n",
    "plt.show()"
   ]
  },
  {
   "cell_type": "code",
   "execution_count": null,
   "metadata": {
    "collapsed": true
   },
   "outputs": [],
   "source": []
  },
  {
   "cell_type": "markdown",
   "metadata": {
    "collapsed": true
   },
   "source": [
    "### 12. What is the average age of death by race?"
   ]
  },
  {
   "cell_type": "code",
   "execution_count": 66,
   "metadata": {},
   "outputs": [
    {
     "data": {
      "text/html": [
       "<div>\n",
       "<style>\n",
       "    .dataframe thead tr:only-child th {\n",
       "        text-align: right;\n",
       "    }\n",
       "\n",
       "    .dataframe thead th {\n",
       "        text-align: left;\n",
       "    }\n",
       "\n",
       "    .dataframe tbody tr th {\n",
       "        vertical-align: top;\n",
       "    }\n",
       "</style>\n",
       "<table border=\"1\" class=\"dataframe\">\n",
       "  <thead>\n",
       "    <tr style=\"text-align: right;\">\n",
       "      <th></th>\n",
       "      <th>age</th>\n",
       "    </tr>\n",
       "    <tr>\n",
       "      <th>race</th>\n",
       "      <th></th>\n",
       "    </tr>\n",
       "  </thead>\n",
       "  <tbody>\n",
       "    <tr>\n",
       "      <th>Asian/Pacific Islander</th>\n",
       "      <td>40.800000</td>\n",
       "    </tr>\n",
       "    <tr>\n",
       "      <th>Black</th>\n",
       "      <td>34.044444</td>\n",
       "    </tr>\n",
       "    <tr>\n",
       "      <th>Hispanic/Latino</th>\n",
       "      <td>31.716418</td>\n",
       "    </tr>\n",
       "    <tr>\n",
       "      <th>Native American</th>\n",
       "      <td>27.750000</td>\n",
       "    </tr>\n",
       "    <tr>\n",
       "      <th>Unknown</th>\n",
       "      <td>43.533333</td>\n",
       "    </tr>\n",
       "    <tr>\n",
       "      <th>White</th>\n",
       "      <td>40.466102</td>\n",
       "    </tr>\n",
       "  </tbody>\n",
       "</table>\n",
       "</div>"
      ],
      "text/plain": [
       "                              age\n",
       "race                             \n",
       "Asian/Pacific Islander  40.800000\n",
       "Black                   34.044444\n",
       "Hispanic/Latino         31.716418\n",
       "Native American         27.750000\n",
       "Unknown                 43.533333\n",
       "White                   40.466102"
      ]
     },
     "execution_count": 66,
     "metadata": {},
     "output_type": "execute_result"
    }
   ],
   "source": [
    " cols = [\"age\"]\n",
    "killings.groupby(\"race\")[cols].mean()"
   ]
  },
  {
   "cell_type": "code",
   "execution_count": 65,
   "metadata": {},
   "outputs": [
    {
     "data": {
      "image/png": "[encoded data removed]",
      "text/plain": [
       "<matplotlib.figure.Figure at 0x115b3c490>"
      ]
     },
     "metadata": {},
     "output_type": "display_data"
    }
   ],
   "source": [
    "# Plot of average age of death by race?\n",
    "cols = [\"age\"]\n",
    "killings.groupby(\"race\")[cols].mean().plot(kind=\"bar\", figsize=(10,8), \n",
    "                                           title = \"Average Age of Death for each race\")\n",
    "plt.show()"
   ]
  },
  {
   "cell_type": "markdown",
   "metadata": {
    "collapsed": true
   },
   "source": [
    "### 13. Show a bar chart with counts of deaths every month"
   ]
  },
  {
   "cell_type": "code",
   "execution_count": 64,
   "metadata": {},
   "outputs": [
    {
     "data": {
      "image/png": "[encoded data removed]",
      "text/plain": [
       "<matplotlib.figure.Figure at 0x115adf810>"
      ]
     },
     "metadata": {},
     "output_type": "display_data"
    }
   ],
   "source": [
    "killings.month.value_counts(normalize=False).plot(kind=\"bar\", figsize=(10,8), \n",
    "                                           title = \"#deaths every month\")\n",
    "plt.show()"
   ]
  },
  {
   "cell_type": "markdown",
   "metadata": {},
   "source": [
    "## Section 2: College Majors"
   ]
  },
  {
   "cell_type": "code",
   "execution_count": 74,
   "metadata": {},
   "outputs": [
    {
     "data": {
      "text/html": [
       "<div>\n",
       "<style>\n",
       "    .dataframe thead tr:only-child th {\n",
       "        text-align: right;\n",
       "    }\n",
       "\n",
       "    .dataframe thead th {\n",
       "        text-align: left;\n",
       "    }\n",
       "\n",
       "    .dataframe tbody tr th {\n",
       "        vertical-align: top;\n",
       "    }\n",
       "</style>\n",
       "<table border=\"1\" class=\"dataframe\">\n",
       "  <thead>\n",
       "    <tr style=\"text-align: right;\">\n",
       "      <th></th>\n",
       "      <th>Major_code</th>\n",
       "      <th>Major</th>\n",
       "      <th>Major_category</th>\n",
       "      <th>Total</th>\n",
       "      <th>Employed</th>\n",
       "      <th>Employed_full_time_year_round</th>\n",
       "      <th>Unemployed</th>\n",
       "      <th>Unemployment_rate</th>\n",
       "      <th>Median</th>\n",
       "      <th>P25th</th>\n",
       "      <th>P75th</th>\n",
       "    </tr>\n",
       "  </thead>\n",
       "  <tbody>\n",
       "    <tr>\n",
       "      <th>0</th>\n",
       "      <td>1100</td>\n",
       "      <td>GENERAL AGRICULTURE</td>\n",
       "      <td>Agriculture &amp; Natural Resources</td>\n",
       "      <td>128148</td>\n",
       "      <td>90245</td>\n",
       "      <td>74078</td>\n",
       "      <td>2423</td>\n",
       "      <td>0.026147</td>\n",
       "      <td>50000</td>\n",
       "      <td>34000</td>\n",
       "      <td>80000.0</td>\n",
       "    </tr>\n",
       "    <tr>\n",
       "      <th>1</th>\n",
       "      <td>1101</td>\n",
       "      <td>AGRICULTURE PRODUCTION AND MANAGEMENT</td>\n",
       "      <td>Agriculture &amp; Natural Resources</td>\n",
       "      <td>95326</td>\n",
       "      <td>76865</td>\n",
       "      <td>64240</td>\n",
       "      <td>2266</td>\n",
       "      <td>0.028636</td>\n",
       "      <td>54000</td>\n",
       "      <td>36000</td>\n",
       "      <td>80000.0</td>\n",
       "    </tr>\n",
       "    <tr>\n",
       "      <th>2</th>\n",
       "      <td>1102</td>\n",
       "      <td>AGRICULTURAL ECONOMICS</td>\n",
       "      <td>Agriculture &amp; Natural Resources</td>\n",
       "      <td>33955</td>\n",
       "      <td>26321</td>\n",
       "      <td>22810</td>\n",
       "      <td>821</td>\n",
       "      <td>0.030248</td>\n",
       "      <td>63000</td>\n",
       "      <td>40000</td>\n",
       "      <td>98000.0</td>\n",
       "    </tr>\n",
       "    <tr>\n",
       "      <th>3</th>\n",
       "      <td>1103</td>\n",
       "      <td>ANIMAL SCIENCES</td>\n",
       "      <td>Agriculture &amp; Natural Resources</td>\n",
       "      <td>103549</td>\n",
       "      <td>81177</td>\n",
       "      <td>64937</td>\n",
       "      <td>3619</td>\n",
       "      <td>0.042679</td>\n",
       "      <td>46000</td>\n",
       "      <td>30000</td>\n",
       "      <td>72000.0</td>\n",
       "    </tr>\n",
       "    <tr>\n",
       "      <th>4</th>\n",
       "      <td>1104</td>\n",
       "      <td>FOOD SCIENCE</td>\n",
       "      <td>Agriculture &amp; Natural Resources</td>\n",
       "      <td>24280</td>\n",
       "      <td>17281</td>\n",
       "      <td>12722</td>\n",
       "      <td>894</td>\n",
       "      <td>0.049188</td>\n",
       "      <td>62000</td>\n",
       "      <td>38500</td>\n",
       "      <td>90000.0</td>\n",
       "    </tr>\n",
       "  </tbody>\n",
       "</table>\n",
       "</div>"
      ],
      "text/plain": [
       "   Major_code                                  Major  \\\n",
       "0        1100                    GENERAL AGRICULTURE   \n",
       "1        1101  AGRICULTURE PRODUCTION AND MANAGEMENT   \n",
       "2        1102                 AGRICULTURAL ECONOMICS   \n",
       "3        1103                        ANIMAL SCIENCES   \n",
       "4        1104                           FOOD SCIENCE   \n",
       "\n",
       "                    Major_category   Total  Employed  \\\n",
       "0  Agriculture & Natural Resources  128148     90245   \n",
       "1  Agriculture & Natural Resources   95326     76865   \n",
       "2  Agriculture & Natural Resources   33955     26321   \n",
       "3  Agriculture & Natural Resources  103549     81177   \n",
       "4  Agriculture & Natural Resources   24280     17281   \n",
       "\n",
       "   Employed_full_time_year_round  Unemployed  Unemployment_rate  Median  \\\n",
       "0                          74078        2423           0.026147   50000   \n",
       "1                          64240        2266           0.028636   54000   \n",
       "2                          22810         821           0.030248   63000   \n",
       "3                          64937        3619           0.042679   46000   \n",
       "4                          12722         894           0.049188   62000   \n",
       "\n",
       "   P25th    P75th  \n",
       "0  34000  80000.0  \n",
       "1  36000  80000.0  \n",
       "2  40000  98000.0  \n",
       "3  30000  72000.0  \n",
       "4  38500  90000.0  "
      ]
     },
     "execution_count": 74,
     "metadata": {},
     "output_type": "execute_result"
    }
   ],
   "source": [
    "majors = pd.read_csv('../data/college-majors.csv', index_col=[0])\n",
    "majors.head()"
   ]
  },
  {
   "cell_type": "markdown",
   "metadata": {},
   "source": [
    "### 1. Delete the columns (employed_full_time_year_round, major_code)\n"
   ]
  },
  {
   "cell_type": "code",
   "execution_count": 75,
   "metadata": {},
   "outputs": [
    {
     "data": {
      "text/html": [
       "<div>\n",
       "<style>\n",
       "    .dataframe thead tr:only-child th {\n",
       "        text-align: right;\n",
       "    }\n",
       "\n",
       "    .dataframe thead th {\n",
       "        text-align: left;\n",
       "    }\n",
       "\n",
       "    .dataframe tbody tr th {\n",
       "        vertical-align: top;\n",
       "    }\n",
       "</style>\n",
       "<table border=\"1\" class=\"dataframe\">\n",
       "  <thead>\n",
       "    <tr style=\"text-align: right;\">\n",
       "      <th></th>\n",
       "      <th>Major</th>\n",
       "      <th>Major_category</th>\n",
       "      <th>Total</th>\n",
       "      <th>Employed</th>\n",
       "      <th>Unemployed</th>\n",
       "      <th>Unemployment_rate</th>\n",
       "      <th>Median</th>\n",
       "      <th>P25th</th>\n",
       "      <th>P75th</th>\n",
       "    </tr>\n",
       "  </thead>\n",
       "  <tbody>\n",
       "    <tr>\n",
       "      <th>0</th>\n",
       "      <td>GENERAL AGRICULTURE</td>\n",
       "      <td>Agriculture &amp; Natural Resources</td>\n",
       "      <td>128148</td>\n",
       "      <td>90245</td>\n",
       "      <td>2423</td>\n",
       "      <td>0.026147</td>\n",
       "      <td>50000</td>\n",
       "      <td>34000</td>\n",
       "      <td>80000.0</td>\n",
       "    </tr>\n",
       "    <tr>\n",
       "      <th>1</th>\n",
       "      <td>AGRICULTURE PRODUCTION AND MANAGEMENT</td>\n",
       "      <td>Agriculture &amp; Natural Resources</td>\n",
       "      <td>95326</td>\n",
       "      <td>76865</td>\n",
       "      <td>2266</td>\n",
       "      <td>0.028636</td>\n",
       "      <td>54000</td>\n",
       "      <td>36000</td>\n",
       "      <td>80000.0</td>\n",
       "    </tr>\n",
       "    <tr>\n",
       "      <th>2</th>\n",
       "      <td>AGRICULTURAL ECONOMICS</td>\n",
       "      <td>Agriculture &amp; Natural Resources</td>\n",
       "      <td>33955</td>\n",
       "      <td>26321</td>\n",
       "      <td>821</td>\n",
       "      <td>0.030248</td>\n",
       "      <td>63000</td>\n",
       "      <td>40000</td>\n",
       "      <td>98000.0</td>\n",
       "    </tr>\n",
       "    <tr>\n",
       "      <th>3</th>\n",
       "      <td>ANIMAL SCIENCES</td>\n",
       "      <td>Agriculture &amp; Natural Resources</td>\n",
       "      <td>103549</td>\n",
       "      <td>81177</td>\n",
       "      <td>3619</td>\n",
       "      <td>0.042679</td>\n",
       "      <td>46000</td>\n",
       "      <td>30000</td>\n",
       "      <td>72000.0</td>\n",
       "    </tr>\n",
       "    <tr>\n",
       "      <th>4</th>\n",
       "      <td>FOOD SCIENCE</td>\n",
       "      <td>Agriculture &amp; Natural Resources</td>\n",
       "      <td>24280</td>\n",
       "      <td>17281</td>\n",
       "      <td>894</td>\n",
       "      <td>0.049188</td>\n",
       "      <td>62000</td>\n",
       "      <td>38500</td>\n",
       "      <td>90000.0</td>\n",
       "    </tr>\n",
       "  </tbody>\n",
       "</table>\n",
       "</div>"
      ],
      "text/plain": [
       "                                   Major                   Major_category  \\\n",
       "0                    GENERAL AGRICULTURE  Agriculture & Natural Resources   \n",
       "1  AGRICULTURE PRODUCTION AND MANAGEMENT  Agriculture & Natural Resources   \n",
       "2                 AGRICULTURAL ECONOMICS  Agriculture & Natural Resources   \n",
       "3                        ANIMAL SCIENCES  Agriculture & Natural Resources   \n",
       "4                           FOOD SCIENCE  Agriculture & Natural Resources   \n",
       "\n",
       "    Total  Employed  Unemployed  Unemployment_rate  Median  P25th    P75th  \n",
       "0  128148     90245        2423           0.026147   50000  34000  80000.0  \n",
       "1   95326     76865        2266           0.028636   54000  36000  80000.0  \n",
       "2   33955     26321         821           0.030248   63000  40000  98000.0  \n",
       "3  103549     81177        3619           0.042679   46000  30000  72000.0  \n",
       "4   24280     17281         894           0.049188   62000  38500  90000.0  "
      ]
     },
     "execution_count": 75,
     "metadata": {},
     "output_type": "execute_result"
    }
   ],
   "source": [
    "majors.drop(\"Employed_full_time_year_round\", axis = 1, inplace=True)\n",
    "majors.drop(\"Major_code\", axis = 1, inplace=True)\n",
    "majors.head()"
   ]
  },
  {
   "cell_type": "markdown",
   "metadata": {
    "collapsed": true
   },
   "source": [
    "### 2. Show the count of missing values in each column"
   ]
  },
  {
   "cell_type": "code",
   "execution_count": 76,
   "metadata": {},
   "outputs": [
    {
     "data": {
      "text/plain": [
       "Major                0\n",
       "Major_category       0\n",
       "Total                0\n",
       "Employed             0\n",
       "Unemployed           0\n",
       "Unemployment_rate    0\n",
       "Median               0\n",
       "P25th                0\n",
       "P75th                0\n",
       "dtype: int64"
      ]
     },
     "execution_count": 76,
     "metadata": {},
     "output_type": "execute_result"
    }
   ],
   "source": [
    "majors.isnull().sum()"
   ]
  },
  {
   "cell_type": "markdown",
   "metadata": {},
   "source": [
    "### 3. What are the top 10 highest paying majors?"
   ]
  },
  {
   "cell_type": "code",
   "execution_count": 94,
   "metadata": {},
   "outputs": [
    {
     "data": {
      "text/plain": [
       "Major\n",
       "PETROLEUM ENGINEERING                                  210000.0\n",
       "MATHEMATICS AND COMPUTER SCIENCE                       136000.0\n",
       "NUCLEAR ENGINEERING                                    128000.0\n",
       "PHARMACY PHARMACEUTICAL SCIENCES AND ADMINISTRATION    125000.0\n",
       "NAVAL ARCHITECTURE AND MARINE ENGINEERING              125000.0\n",
       "GEOLOGICAL AND GEOPHYSICAL ENGINEERING                 125000.0\n",
       "MINING AND MINERAL ENGINEERING                         124000.0\n",
       "METALLURGICAL ENGINEERING                              123000.0\n",
       "CHEMICAL ENGINEERING                                   120000.0\n",
       "ELECTRICAL ENGINEERING                                 116000.0\n",
       "Name: P75th, dtype: float64"
      ]
     },
     "execution_count": 94,
     "metadata": {},
     "output_type": "execute_result"
    }
   ],
   "source": [
    "majors.groupby(\"Major\")[\"P75th\"].sum().sort_values(ascending=False).head(10)"
   ]
  },
  {
   "cell_type": "code",
   "execution_count": null,
   "metadata": {
    "collapsed": true
   },
   "outputs": [],
   "source": []
  },
  {
   "cell_type": "markdown",
   "metadata": {},
   "source": [
    "### 4. Plot the data from the last question in a bar chart, include proper title, and labels\n"
   ]
  },
  {
   "cell_type": "code",
   "execution_count": 95,
   "metadata": {},
   "outputs": [
    {
     "data": {
      "image/png": "[encoded data removed]",
      "text/plain": [
       "<matplotlib.figure.Figure at 0x1151e7d50>"
      ]
     },
     "metadata": {},
     "output_type": "display_data"
    }
   ],
   "source": [
    "majors.groupby(\"Major\")[\"P75th\"].sum().sort_values(ascending=False).head(10).plot(kind=\"bar\", figsize=(10,8), \n",
    "                                           title = \"Top 10 highest paying majors\")\n",
    "plt.show()"
   ]
  },
  {
   "cell_type": "markdown",
   "metadata": {
    "collapsed": true
   },
   "source": [
    "### 5. What is the average median salary for each major category?"
   ]
  },
  {
   "cell_type": "code",
   "execution_count": 84,
   "metadata": {},
   "outputs": [
    {
     "data": {
      "text/plain": [
       "Major\n",
       "PETROLEUM ENGINEERING                                  125000\n",
       "PHARMACY PHARMACEUTICAL SCIENCES AND ADMINISTRATION    106000\n",
       "NAVAL ARCHITECTURE AND MARINE ENGINEERING               97000\n",
       "METALLURGICAL ENGINEERING                               96000\n",
       "NUCLEAR ENGINEERING                                     95000\n",
       "MINING AND MINERAL ENGINEERING                          92000\n",
       "MATHEMATICS AND COMPUTER SCIENCE                        92000\n",
       "ELECTRICAL ENGINEERING                                  88000\n",
       "CHEMICAL ENGINEERING                                    86000\n",
       "GEOLOGICAL AND GEOPHYSICAL ENGINEERING                  85000\n",
       "COMPUTER ENGINEERING                                    80000\n",
       "ASTRONOMY AND ASTROPHYSICS                              80000\n",
       "MECHANICAL ENGINEERING                                  80000\n",
       "AEROSPACE ENGINEERING                                   80000\n",
       "ARCHITECTURAL ENGINEERING                               78000\n",
       "MATERIALS ENGINEERING AND MATERIALS SCIENCE             78000\n",
       "COMPUTER SCIENCE                                        78000\n",
       "CIVIL ENGINEERING                                       78000\n",
       "GENERAL ENGINEERING                                     75000\n",
       "MATERIALS SCIENCE                                       75000\n",
       "INDUSTRIAL AND MANUFACTURING ENGINEERING                75000\n",
       "ENGINEERING AND INDUSTRIAL MANAGEMENT                   74000\n",
       "ACTUARIAL SCIENCE                                       72000\n",
       "MANAGEMENT INFORMATION SYSTEMS AND STATISTICS           72000\n",
       "INDUSTRIAL PRODUCTION TECHNOLOGIES                      70000\n",
       "STATISTICS AND DECISION SCIENCE                         70000\n",
       "MISCELLANEOUS ENGINEERING                               70000\n",
       "PHYSICS                                                 70000\n",
       "ENVIRONMENTAL ENGINEERING                               70000\n",
       "APPLIED MATHEMATICS                                     70000\n",
       "                                                        ...  \n",
       "INTERCULTURAL AND INTERNATIONAL STUDIES                 45000\n",
       "INTERDISCIPLINARY SOCIAL SCIENCES                       45000\n",
       "MISCELLANEOUS FINE ARTS                                 45000\n",
       "ART HISTORY AND CRITICISM                               44500\n",
       "PHYSICAL FITNESS PARKS RECREATION AND LEISURE           44000\n",
       "ANTHROPOLOGY AND ARCHEOLOGY                             43000\n",
       "MULTI/INTERDISCIPLINARY STUDIES                         43000\n",
       "GENERAL EDUCATION                                       43000\n",
       "MATHEMATICS TEACHER EDUCATION                           43000\n",
       "ART AND MUSIC EDUCATION                                 42600\n",
       "SPECIAL NEEDS EDUCATION                                 42000\n",
       "COMMUNICATION DISORDERS SCIENCES AND SERVICES           42000\n",
       "LANGUAGE AND DRAMA EDUCATION                            42000\n",
       "DRAMA AND THEATER ARTS                                  42000\n",
       "SCHOOL STUDENT COUNSELING                               41000\n",
       "FAMILY AND CONSUMER SCIENCES                            40500\n",
       "SOCIAL WORK                                             40000\n",
       "VISUAL AND PERFORMING ARTS                              40000\n",
       "LIBRARY SCIENCE                                         40000\n",
       "COMPOSITION AND RHETORIC                                40000\n",
       "ELEMENTARY EDUCATION                                    40000\n",
       "EDUCATIONAL PSYCHOLOGY                                  40000\n",
       "TEACHER EDUCATION: MULTIPLE LEVELS                      40000\n",
       "THEOLOGY AND RELIGIOUS VOCATIONS                        40000\n",
       "COSMETOLOGY SERVICES AND CULINARY ARTS                  40000\n",
       "COUNSELING PSYCHOLOGY                                   39000\n",
       "HUMAN SERVICES AND COMMUNITY ORGANIZATION               38000\n",
       "STUDIO ARTS                                             37600\n",
       "EARLY CHILDHOOD EDUCATION                               35300\n",
       "NEUROSCIENCE                                            35000\n",
       "Name: Median, Length: 173, dtype: int64"
      ]
     },
     "execution_count": 84,
     "metadata": {},
     "output_type": "execute_result"
    }
   ],
   "source": [
    "majors.groupby(\"Major\")[\"Median\"].mean().sort_values(ascending=False)"
   ]
  },
  {
   "cell_type": "markdown",
   "metadata": {
    "collapsed": true
   },
   "source": [
    "### 6. Visualize only the top 5 paying major categories"
   ]
  },
  {
   "cell_type": "code",
   "execution_count": 90,
   "metadata": {},
   "outputs": [
    {
     "data": {
      "image/png": "[encoded data removed]",
      "text/plain": [
       "<matplotlib.figure.Figure at 0x1152b8510>"
      ]
     },
     "metadata": {},
     "output_type": "display_data"
    }
   ],
   "source": [
    "majors.groupby(\"Major\")[\"Median\"].mean().sort_values(ascending=False).head(5).plot(kind=\"bar\", figsize=(10,8), \n",
    "                                           title = \"Top 5 paying majors\")\n",
    "plt.show()"
   ]
  },
  {
   "cell_type": "markdown",
   "metadata": {
    "collapsed": true
   },
   "source": [
    "### 7. Plot a histogram of the distribution of median salaries"
   ]
  },
  {
   "cell_type": "code",
   "execution_count": 91,
   "metadata": {},
   "outputs": [
    {
     "data": {
      "image/png": "[encoded data removed]",
      "text/plain": [
       "<matplotlib.figure.Figure at 0x115368850>"
      ]
     },
     "metadata": {},
     "output_type": "display_data"
    }
   ],
   "source": [
    "plt.hist(majors.Median)\n",
    "plt.show()"
   ]
  },
  {
   "cell_type": "markdown",
   "metadata": {
    "collapsed": true
   },
   "source": [
    "### 8. Plot a histogram of the distribution of median salaries by major category"
   ]
  },
  {
   "cell_type": "code",
   "execution_count": 92,
   "metadata": {},
   "outputs": [
    {
     "data": {
      "image/png": "[encoded data removed]",
      "text/plain": [
       "<matplotlib.figure.Figure at 0x115293f50>"
      ]
     },
     "metadata": {},
     "output_type": "display_data"
    }
   ],
   "source": [
    "majors.plot(x=\"Major\", y = \"Median\", kind=\"hist\")\n",
    "plt.show()"
   ]
  },
  {
   "cell_type": "markdown",
   "metadata": {},
   "source": [
    "### 9. What are the top 10 most UNemployed majors?"
   ]
  },
  {
   "cell_type": "code",
   "execution_count": 93,
   "metadata": {},
   "outputs": [
    {
     "data": {
      "text/plain": [
       "Major\n",
       "BUSINESS MANAGEMENT AND ADMINISTRATION    147261\n",
       "GENERAL BUSINESS                           85626\n",
       "PSYCHOLOGY                                 79066\n",
       "ACCOUNTING                                 75379\n",
       "COMMUNICATIONS                             54390\n",
       "ENGLISH LANGUAGE AND LITERATURE            52248\n",
       "MARKETING AND MARKETING RESEARCH           51839\n",
       "POLITICAL SCIENCE AND GOVERNMENT           40376\n",
       "GENERAL EDUCATION                          38742\n",
       "BIOLOGY                                    36757\n",
       "Name: Unemployed, dtype: int64"
      ]
     },
     "execution_count": 93,
     "metadata": {},
     "output_type": "execute_result"
    }
   ],
   "source": [
    "majors.groupby(\"Major\")[\"Unemployed\"].sum().sort_values(ascending=False).head(10)"
   ]
  },
  {
   "cell_type": "markdown",
   "metadata": {
    "collapsed": true
   },
   "source": [
    "### 10. What are the top 10 most UNemployed majors CATEGORIES? Use the mean for each category"
   ]
  },
  {
   "cell_type": "code",
   "execution_count": 96,
   "metadata": {},
   "outputs": [
    {
     "data": {
      "text/plain": [
       "Major_category\n",
       "Business                       33415.153846\n",
       "Communications & Journalism    25299.750000\n",
       "Social Science                 14683.333333\n",
       "Arts                           13015.625000\n",
       "Humanities & Liberal Arts      11942.400000\n",
       "Psychology & Social Work       11578.444444\n",
       "Law & Public Policy             8609.800000\n",
       "Education                       7833.500000\n",
       "Computers & Mathematics         7270.363636\n",
       "Health                          6251.083333\n",
       "Name: Unemployed, dtype: float64"
      ]
     },
     "execution_count": 96,
     "metadata": {},
     "output_type": "execute_result"
    }
   ],
   "source": [
    "majors.groupby(\"Major_category\")[\"Unemployed\"].mean().sort_values(ascending=False).head(10)"
   ]
  },
  {
   "cell_type": "markdown",
   "metadata": {},
   "source": [
    "## Section 3: FIFA Soccer Game data"
   ]
  },
  {
   "cell_type": "code",
   "execution_count": 2,
   "metadata": {},
   "outputs": [
    {
     "data": {
      "text/html": [
       "<div>\n",
       "<style>\n",
       "    .dataframe thead tr:only-child th {\n",
       "        text-align: right;\n",
       "    }\n",
       "\n",
       "    .dataframe thead th {\n",
       "        text-align: left;\n",
       "    }\n",
       "\n",
       "    .dataframe tbody tr th {\n",
       "        vertical-align: top;\n",
       "    }\n",
       "</style>\n",
       "<table border=\"1\" class=\"dataframe\">\n",
       "  <thead>\n",
       "    <tr style=\"text-align: right;\">\n",
       "      <th></th>\n",
       "      <th>Name</th>\n",
       "      <th>Nationality</th>\n",
       "      <th>National_Position</th>\n",
       "      <th>National_Kit</th>\n",
       "      <th>Club</th>\n",
       "      <th>Club_Position</th>\n",
       "      <th>Club_Kit</th>\n",
       "      <th>Club_Joining</th>\n",
       "      <th>Contract_Expiry</th>\n",
       "      <th>Rating</th>\n",
       "      <th>...</th>\n",
       "      <th>Long_Shots</th>\n",
       "      <th>Curve</th>\n",
       "      <th>Freekick_Accuracy</th>\n",
       "      <th>Penalties</th>\n",
       "      <th>Volleys</th>\n",
       "      <th>GK_Positioning</th>\n",
       "      <th>GK_Diving</th>\n",
       "      <th>GK_Kicking</th>\n",
       "      <th>GK_Handling</th>\n",
       "      <th>GK_Reflexes</th>\n",
       "    </tr>\n",
       "  </thead>\n",
       "  <tbody>\n",
       "    <tr>\n",
       "      <th>0</th>\n",
       "      <td>Cristiano Ronaldo</td>\n",
       "      <td>Portugal</td>\n",
       "      <td>LS</td>\n",
       "      <td>7.0</td>\n",
       "      <td>Real Madrid</td>\n",
       "      <td>LW</td>\n",
       "      <td>7.0</td>\n",
       "      <td>07/01/2009</td>\n",
       "      <td>2021.0</td>\n",
       "      <td>94</td>\n",
       "      <td>...</td>\n",
       "      <td>90</td>\n",
       "      <td>81</td>\n",
       "      <td>76</td>\n",
       "      <td>85</td>\n",
       "      <td>88</td>\n",
       "      <td>14</td>\n",
       "      <td>7</td>\n",
       "      <td>15</td>\n",
       "      <td>11</td>\n",
       "      <td>11</td>\n",
       "    </tr>\n",
       "    <tr>\n",
       "      <th>1</th>\n",
       "      <td>Lionel Messi</td>\n",
       "      <td>Argentina</td>\n",
       "      <td>RW</td>\n",
       "      <td>10.0</td>\n",
       "      <td>FC Barcelona</td>\n",
       "      <td>RW</td>\n",
       "      <td>10.0</td>\n",
       "      <td>07/01/2004</td>\n",
       "      <td>2018.0</td>\n",
       "      <td>93</td>\n",
       "      <td>...</td>\n",
       "      <td>88</td>\n",
       "      <td>89</td>\n",
       "      <td>90</td>\n",
       "      <td>74</td>\n",
       "      <td>85</td>\n",
       "      <td>14</td>\n",
       "      <td>6</td>\n",
       "      <td>15</td>\n",
       "      <td>11</td>\n",
       "      <td>8</td>\n",
       "    </tr>\n",
       "    <tr>\n",
       "      <th>2</th>\n",
       "      <td>Neymar</td>\n",
       "      <td>Brazil</td>\n",
       "      <td>LW</td>\n",
       "      <td>10.0</td>\n",
       "      <td>FC Barcelona</td>\n",
       "      <td>LW</td>\n",
       "      <td>11.0</td>\n",
       "      <td>07/01/2013</td>\n",
       "      <td>2021.0</td>\n",
       "      <td>92</td>\n",
       "      <td>...</td>\n",
       "      <td>77</td>\n",
       "      <td>79</td>\n",
       "      <td>84</td>\n",
       "      <td>81</td>\n",
       "      <td>83</td>\n",
       "      <td>15</td>\n",
       "      <td>9</td>\n",
       "      <td>15</td>\n",
       "      <td>9</td>\n",
       "      <td>11</td>\n",
       "    </tr>\n",
       "    <tr>\n",
       "      <th>3</th>\n",
       "      <td>Luis Suárez</td>\n",
       "      <td>Uruguay</td>\n",
       "      <td>LS</td>\n",
       "      <td>9.0</td>\n",
       "      <td>FC Barcelona</td>\n",
       "      <td>ST</td>\n",
       "      <td>9.0</td>\n",
       "      <td>07/11/2014</td>\n",
       "      <td>2021.0</td>\n",
       "      <td>92</td>\n",
       "      <td>...</td>\n",
       "      <td>86</td>\n",
       "      <td>86</td>\n",
       "      <td>84</td>\n",
       "      <td>85</td>\n",
       "      <td>88</td>\n",
       "      <td>33</td>\n",
       "      <td>27</td>\n",
       "      <td>31</td>\n",
       "      <td>25</td>\n",
       "      <td>37</td>\n",
       "    </tr>\n",
       "    <tr>\n",
       "      <th>4</th>\n",
       "      <td>Manuel Neuer</td>\n",
       "      <td>Germany</td>\n",
       "      <td>GK</td>\n",
       "      <td>1.0</td>\n",
       "      <td>FC Bayern</td>\n",
       "      <td>GK</td>\n",
       "      <td>1.0</td>\n",
       "      <td>07/01/2011</td>\n",
       "      <td>2021.0</td>\n",
       "      <td>92</td>\n",
       "      <td>...</td>\n",
       "      <td>16</td>\n",
       "      <td>14</td>\n",
       "      <td>11</td>\n",
       "      <td>47</td>\n",
       "      <td>11</td>\n",
       "      <td>91</td>\n",
       "      <td>89</td>\n",
       "      <td>95</td>\n",
       "      <td>90</td>\n",
       "      <td>89</td>\n",
       "    </tr>\n",
       "  </tbody>\n",
       "</table>\n",
       "<p>5 rows × 53 columns</p>\n",
       "</div>"
      ],
      "text/plain": [
       "                Name Nationality National_Position  National_Kit  \\\n",
       "0  Cristiano Ronaldo    Portugal                LS           7.0   \n",
       "1       Lionel Messi   Argentina                RW          10.0   \n",
       "2             Neymar      Brazil                LW          10.0   \n",
       "3        Luis Suárez     Uruguay                LS           9.0   \n",
       "4       Manuel Neuer     Germany                GK           1.0   \n",
       "\n",
       "           Club Club_Position  Club_Kit Club_Joining  Contract_Expiry  Rating  \\\n",
       "0   Real Madrid            LW       7.0   07/01/2009           2021.0      94   \n",
       "1  FC Barcelona            RW      10.0   07/01/2004           2018.0      93   \n",
       "2  FC Barcelona            LW      11.0   07/01/2013           2021.0      92   \n",
       "3  FC Barcelona            ST       9.0   07/11/2014           2021.0      92   \n",
       "4     FC Bayern            GK       1.0   07/01/2011           2021.0      92   \n",
       "\n",
       "      ...      Long_Shots Curve Freekick_Accuracy Penalties  Volleys  \\\n",
       "0     ...              90    81                76        85       88   \n",
       "1     ...              88    89                90        74       85   \n",
       "2     ...              77    79                84        81       83   \n",
       "3     ...              86    86                84        85       88   \n",
       "4     ...              16    14                11        47       11   \n",
       "\n",
       "  GK_Positioning GK_Diving  GK_Kicking  GK_Handling  GK_Reflexes  \n",
       "0             14         7          15           11           11  \n",
       "1             14         6          15           11            8  \n",
       "2             15         9          15            9           11  \n",
       "3             33        27          31           25           37  \n",
       "4             91        89          95           90           89  \n",
       "\n",
       "[5 rows x 53 columns]"
      ]
     },
     "execution_count": 2,
     "metadata": {},
     "output_type": "execute_result"
    }
   ],
   "source": [
    "fifa = pd.read_csv('../data/fifa_data.csv')\n",
    "fifa.head()"
   ]
  },
  {
   "cell_type": "markdown",
   "metadata": {},
   "source": [
    "### 1. Clean up the dataset.\n",
    "\n",
    "    - Lowercase the column names\n",
    "    - Set the \"name\" column as the index\n",
    "    - Drop the following columns \"national_position\", \"national_kit\", \"club_kit\", \"club_joining\", and \"contract_expiry\"\n",
    "    - Get rid of all players who are goalkeepers and drop every column that starts with GK\n",
    "    - Drop every player whose rating is less than 70\n",
    "    - Convert the \"height\" and \"weight\" columns to float types\n",
    "    - Check to see if there any nulls, if so drop them from the dataset"
   ]
  },
  {
   "cell_type": "code",
   "execution_count": 3,
   "metadata": {},
   "outputs": [
    {
     "data": {
      "text/html": [
       "<div>\n",
       "<style>\n",
       "    .dataframe thead tr:only-child th {\n",
       "        text-align: right;\n",
       "    }\n",
       "\n",
       "    .dataframe thead th {\n",
       "        text-align: left;\n",
       "    }\n",
       "\n",
       "    .dataframe tbody tr th {\n",
       "        vertical-align: top;\n",
       "    }\n",
       "</style>\n",
       "<table border=\"1\" class=\"dataframe\">\n",
       "  <thead>\n",
       "    <tr style=\"text-align: right;\">\n",
       "      <th></th>\n",
       "      <th>nationality</th>\n",
       "      <th>club</th>\n",
       "      <th>club_position</th>\n",
       "      <th>rating</th>\n",
       "      <th>height</th>\n",
       "      <th>weight</th>\n",
       "      <th>preffered_foot</th>\n",
       "      <th>birth_date</th>\n",
       "      <th>age</th>\n",
       "      <th>preffered_position</th>\n",
       "      <th>...</th>\n",
       "      <th>agility</th>\n",
       "      <th>jumping</th>\n",
       "      <th>heading</th>\n",
       "      <th>shot_power</th>\n",
       "      <th>finishing</th>\n",
       "      <th>long_shots</th>\n",
       "      <th>curve</th>\n",
       "      <th>freekick_accuracy</th>\n",
       "      <th>penalties</th>\n",
       "      <th>volleys</th>\n",
       "    </tr>\n",
       "    <tr>\n",
       "      <th>name</th>\n",
       "      <th></th>\n",
       "      <th></th>\n",
       "      <th></th>\n",
       "      <th></th>\n",
       "      <th></th>\n",
       "      <th></th>\n",
       "      <th></th>\n",
       "      <th></th>\n",
       "      <th></th>\n",
       "      <th></th>\n",
       "      <th></th>\n",
       "      <th></th>\n",
       "      <th></th>\n",
       "      <th></th>\n",
       "      <th></th>\n",
       "      <th></th>\n",
       "      <th></th>\n",
       "      <th></th>\n",
       "      <th></th>\n",
       "      <th></th>\n",
       "      <th></th>\n",
       "    </tr>\n",
       "  </thead>\n",
       "  <tbody>\n",
       "    <tr>\n",
       "      <th>Cristiano Ronaldo</th>\n",
       "      <td>Portugal</td>\n",
       "      <td>Real Madrid</td>\n",
       "      <td>LW</td>\n",
       "      <td>94</td>\n",
       "      <td>185.0</td>\n",
       "      <td>80.0</td>\n",
       "      <td>Right</td>\n",
       "      <td>02/05/1985</td>\n",
       "      <td>32</td>\n",
       "      <td>LW/ST</td>\n",
       "      <td>...</td>\n",
       "      <td>90</td>\n",
       "      <td>95</td>\n",
       "      <td>85</td>\n",
       "      <td>92</td>\n",
       "      <td>93</td>\n",
       "      <td>90</td>\n",
       "      <td>81</td>\n",
       "      <td>76</td>\n",
       "      <td>85</td>\n",
       "      <td>88</td>\n",
       "    </tr>\n",
       "    <tr>\n",
       "      <th>Lionel Messi</th>\n",
       "      <td>Argentina</td>\n",
       "      <td>FC Barcelona</td>\n",
       "      <td>RW</td>\n",
       "      <td>93</td>\n",
       "      <td>170.0</td>\n",
       "      <td>72.0</td>\n",
       "      <td>Left</td>\n",
       "      <td>06/24/1987</td>\n",
       "      <td>29</td>\n",
       "      <td>RW</td>\n",
       "      <td>...</td>\n",
       "      <td>90</td>\n",
       "      <td>68</td>\n",
       "      <td>71</td>\n",
       "      <td>85</td>\n",
       "      <td>95</td>\n",
       "      <td>88</td>\n",
       "      <td>89</td>\n",
       "      <td>90</td>\n",
       "      <td>74</td>\n",
       "      <td>85</td>\n",
       "    </tr>\n",
       "    <tr>\n",
       "      <th>Neymar</th>\n",
       "      <td>Brazil</td>\n",
       "      <td>FC Barcelona</td>\n",
       "      <td>LW</td>\n",
       "      <td>92</td>\n",
       "      <td>174.0</td>\n",
       "      <td>68.0</td>\n",
       "      <td>Right</td>\n",
       "      <td>02/05/1992</td>\n",
       "      <td>25</td>\n",
       "      <td>LW</td>\n",
       "      <td>...</td>\n",
       "      <td>96</td>\n",
       "      <td>61</td>\n",
       "      <td>62</td>\n",
       "      <td>78</td>\n",
       "      <td>89</td>\n",
       "      <td>77</td>\n",
       "      <td>79</td>\n",
       "      <td>84</td>\n",
       "      <td>81</td>\n",
       "      <td>83</td>\n",
       "    </tr>\n",
       "    <tr>\n",
       "      <th>Luis Suárez</th>\n",
       "      <td>Uruguay</td>\n",
       "      <td>FC Barcelona</td>\n",
       "      <td>ST</td>\n",
       "      <td>92</td>\n",
       "      <td>182.0</td>\n",
       "      <td>85.0</td>\n",
       "      <td>Right</td>\n",
       "      <td>01/24/1987</td>\n",
       "      <td>30</td>\n",
       "      <td>ST</td>\n",
       "      <td>...</td>\n",
       "      <td>86</td>\n",
       "      <td>69</td>\n",
       "      <td>77</td>\n",
       "      <td>87</td>\n",
       "      <td>94</td>\n",
       "      <td>86</td>\n",
       "      <td>86</td>\n",
       "      <td>84</td>\n",
       "      <td>85</td>\n",
       "      <td>88</td>\n",
       "    </tr>\n",
       "    <tr>\n",
       "      <th>Manuel Neuer</th>\n",
       "      <td>Germany</td>\n",
       "      <td>FC Bayern</td>\n",
       "      <td>GK</td>\n",
       "      <td>92</td>\n",
       "      <td>193.0</td>\n",
       "      <td>92.0</td>\n",
       "      <td>Right</td>\n",
       "      <td>03/27/1986</td>\n",
       "      <td>31</td>\n",
       "      <td>GK</td>\n",
       "      <td>...</td>\n",
       "      <td>52</td>\n",
       "      <td>78</td>\n",
       "      <td>25</td>\n",
       "      <td>25</td>\n",
       "      <td>13</td>\n",
       "      <td>16</td>\n",
       "      <td>14</td>\n",
       "      <td>11</td>\n",
       "      <td>47</td>\n",
       "      <td>11</td>\n",
       "    </tr>\n",
       "  </tbody>\n",
       "</table>\n",
       "<p>5 rows × 42 columns</p>\n",
       "</div>"
      ],
      "text/plain": [
       "                  nationality          club club_position  rating  height  \\\n",
       "name                                                                        \n",
       "Cristiano Ronaldo    Portugal   Real Madrid            LW      94   185.0   \n",
       "Lionel Messi        Argentina  FC Barcelona            RW      93   170.0   \n",
       "Neymar                 Brazil  FC Barcelona            LW      92   174.0   \n",
       "Luis Suárez           Uruguay  FC Barcelona            ST      92   182.0   \n",
       "Manuel Neuer          Germany     FC Bayern            GK      92   193.0   \n",
       "\n",
       "                   weight preffered_foot  birth_date  age preffered_position  \\\n",
       "name                                                                           \n",
       "Cristiano Ronaldo    80.0          Right  02/05/1985   32              LW/ST   \n",
       "Lionel Messi         72.0           Left  06/24/1987   29                 RW   \n",
       "Neymar               68.0          Right  02/05/1992   25                 LW   \n",
       "Luis Suárez          85.0          Right  01/24/1987   30                 ST   \n",
       "Manuel Neuer         92.0          Right  03/27/1986   31                 GK   \n",
       "\n",
       "                    ...    agility  jumping  heading  shot_power  finishing  \\\n",
       "name                ...                                                       \n",
       "Cristiano Ronaldo   ...         90       95       85          92         93   \n",
       "Lionel Messi        ...         90       68       71          85         95   \n",
       "Neymar              ...         96       61       62          78         89   \n",
       "Luis Suárez         ...         86       69       77          87         94   \n",
       "Manuel Neuer        ...         52       78       25          25         13   \n",
       "\n",
       "                   long_shots  curve  freekick_accuracy  penalties  volleys  \n",
       "name                                                                         \n",
       "Cristiano Ronaldo          90     81                 76         85       88  \n",
       "Lionel Messi               88     89                 90         74       85  \n",
       "Neymar                     77     79                 84         81       83  \n",
       "Luis Suárez                86     86                 84         85       88  \n",
       "Manuel Neuer               16     14                 11         47       11  \n",
       "\n",
       "[5 rows x 42 columns]"
      ]
     },
     "execution_count": 3,
     "metadata": {},
     "output_type": "execute_result"
    }
   ],
   "source": [
    "fifa.columns = fifa.columns.str.lower()\n",
    "fifa.set_index(\"name\", inplace=True)\n",
    "fifa.drop(\"national_position\", axis = 1, inplace=True)\n",
    "fifa.drop(\"national_kit\", axis = 1, inplace=True)\n",
    "fifa.drop(\"club_kit\", axis = 1, inplace=True)\n",
    "fifa.drop(\"club_joining\", axis = 1, inplace=True)\n",
    "fifa.drop(\"contract_expiry\", axis = 1, inplace=True)\n",
    "fifa[fifa.rating >70]\n",
    "fifa.drop([\"gk_positioning\", \"gk_diving\",\"gk_kicking\",\"gk_handling\",\"gk_reflexes\"], axis =1 , inplace=True)\n",
    "fifa[\"height\"] = fifa.height.str.replace(\"cm\", \"\")\n",
    "fifa[\"height\"] = fifa.height.astype(float)\n",
    "fifa[\"weight\"] = fifa.weight.str.replace(\"kg\", \"\")\n",
    "fifa[\"weight\"] = fifa.weight.astype(float)\n",
    "fifa.dropna(inplace=True)\n",
    "fifa.head()"
   ]
  },
  {
   "cell_type": "code",
   "execution_count": null,
   "metadata": {
    "collapsed": true
   },
   "outputs": [],
   "source": []
  },
  {
   "cell_type": "code",
   "execution_count": null,
   "metadata": {
    "collapsed": true
   },
   "outputs": [],
   "source": []
  },
  {
   "cell_type": "code",
   "execution_count": null,
   "metadata": {
    "collapsed": true
   },
   "outputs": [],
   "source": []
  },
  {
   "cell_type": "markdown",
   "metadata": {},
   "source": [
    "### 2.  Who are the top five players of the following attributes: speed, marking, and finishing"
   ]
  },
  {
   "cell_type": "code",
   "execution_count": 14,
   "metadata": {},
   "outputs": [
    {
     "data": {
      "text/plain": [
       "Index([u'Horacio Ramírez', u'Miłosz Mleczko', u'Chris Day',\n",
       "       u'Kazushige Kirihata', u'Daniel Andersson'],\n",
       "      dtype='object', name=u'name')"
      ]
     },
     "execution_count": 14,
     "metadata": {},
     "output_type": "execute_result"
    }
   ],
   "source": [
    "#col = [\"speed\", \"marking\", \"finishing\"]\n",
    "\n",
    "#fifa.groupby(\"name\")[col].mean().sort_values(ascending=False).head(10)\n",
    "fifa.sort_values(by=\"speed\").head().index"
   ]
  },
  {
   "cell_type": "code",
   "execution_count": 15,
   "metadata": {},
   "outputs": [
    {
     "data": {
      "text/plain": [
       "Index([u'Diego Figueroa', u'Callum Stanton', u'Peter Vindahl Jensen',\n",
       "       u'Dani Hernández', u'Yerko Urra'],\n",
       "      dtype='object', name=u'name')"
      ]
     },
     "execution_count": 15,
     "metadata": {},
     "output_type": "execute_result"
    }
   ],
   "source": [
    "fifa.sort_values(by=\"marking\").head().index"
   ]
  },
  {
   "cell_type": "code",
   "execution_count": 20,
   "metadata": {},
   "outputs": [
    {
     "data": {
      "text/plain": [
       "Index([u'Louis Bostyn', u'Alexandre Bouchard', u'Tarjei Aase Omenås',\n",
       "       u'Theo Zwarthoed', u'Dorian Grange'],\n",
       "      dtype='object', name=u'name')"
      ]
     },
     "execution_count": 20,
     "metadata": {},
     "output_type": "execute_result"
    }
   ],
   "source": [
    "fifa.sort_values(by=\"finishing\").head().index"
   ]
  },
  {
   "cell_type": "code",
   "execution_count": 19,
   "metadata": {},
   "outputs": [
    {
     "data": {
      "text/plain": [
       "name\n",
       "Anibal Chalá                 96.0\n",
       "Pierre-Emerick Aubameyang    96.0\n",
       "Jonathan Biabiany            96.0\n",
       "Williams                     95.0\n",
       "Gareth Bale                  95.0\n",
       "Name: speed, dtype: float64"
      ]
     },
     "execution_count": 19,
     "metadata": {},
     "output_type": "execute_result"
    }
   ],
   "source": [
    "fifa.groupby(\"name\")[\"speed\"].mean().sort_values(ascending=False).head()"
   ]
  },
  {
   "cell_type": "code",
   "execution_count": 21,
   "metadata": {},
   "outputs": [
    {
     "data": {
      "text/plain": [
       "name\n",
       "Giorgio Chiellini    92.0\n",
       "Jérôme Boateng       90.0\n",
       "Andrea Barzagli      90.0\n",
       "Thiago Silva         90.0\n",
       "Miranda              89.0\n",
       "Name: marking, dtype: float64"
      ]
     },
     "execution_count": 21,
     "metadata": {},
     "output_type": "execute_result"
    }
   ],
   "source": [
    "fifa.groupby(\"name\")[\"marking\"].mean().sort_values(ascending=False).head()"
   ]
  },
  {
   "cell_type": "code",
   "execution_count": 22,
   "metadata": {},
   "outputs": [
    {
     "data": {
      "text/plain": [
       "name\n",
       "Lionel Messi          95.0\n",
       "Luis Suárez           94.0\n",
       "Cristiano Ronaldo     93.0\n",
       "Gonzalo Higuaín       92.0\n",
       "Robert Lewandowski    91.0\n",
       "Name: finishing, dtype: float64"
      ]
     },
     "execution_count": 22,
     "metadata": {},
     "output_type": "execute_result"
    }
   ],
   "source": [
    "fifa.groupby(\"name\")[\"finishing\"].mean().sort_values(ascending=False).head()"
   ]
  },
  {
   "cell_type": "markdown",
   "metadata": {},
   "source": [
    "### 3. Who is the tallest French lefted foot player?"
   ]
  },
  {
   "cell_type": "code",
   "execution_count": 4,
   "metadata": {},
   "outputs": [
    {
     "data": {
      "text/plain": [
       "Index([u'Lucas Mocio'], dtype='object', name=u'name')"
      ]
     },
     "execution_count": 4,
     "metadata": {},
     "output_type": "execute_result"
    }
   ],
   "source": [
    "f3 = fifa.sort_values(by = \"height\", ascending =False)\n",
    "\n",
    "f4 = f3[(f3.nationality == \"France\") & (f3.preffered_foot == \"Left\")].head(1);\n",
    "f4.index"
   ]
  },
  {
   "cell_type": "markdown",
   "metadata": {},
   "source": [
    "### 4. Show a pandas series of every attribute's correlation with the rating attribute"
   ]
  },
  {
   "cell_type": "code",
   "execution_count": 24,
   "metadata": {},
   "outputs": [
    {
     "data": {
      "text/html": [
       "<div>\n",
       "<style>\n",
       "    .dataframe thead tr:only-child th {\n",
       "        text-align: right;\n",
       "    }\n",
       "\n",
       "    .dataframe thead th {\n",
       "        text-align: left;\n",
       "    }\n",
       "\n",
       "    .dataframe tbody tr th {\n",
       "        vertical-align: top;\n",
       "    }\n",
       "</style>\n",
       "<table border=\"1\" class=\"dataframe\">\n",
       "  <thead>\n",
       "    <tr style=\"text-align: right;\">\n",
       "      <th></th>\n",
       "      <th>rating</th>\n",
       "      <th>height</th>\n",
       "      <th>weight</th>\n",
       "      <th>age</th>\n",
       "      <th>weak_foot</th>\n",
       "      <th>skill_moves</th>\n",
       "      <th>ball_control</th>\n",
       "      <th>dribbling</th>\n",
       "      <th>marking</th>\n",
       "      <th>sliding_tackle</th>\n",
       "      <th>...</th>\n",
       "      <th>agility</th>\n",
       "      <th>jumping</th>\n",
       "      <th>heading</th>\n",
       "      <th>shot_power</th>\n",
       "      <th>finishing</th>\n",
       "      <th>long_shots</th>\n",
       "      <th>curve</th>\n",
       "      <th>freekick_accuracy</th>\n",
       "      <th>penalties</th>\n",
       "      <th>volleys</th>\n",
       "    </tr>\n",
       "  </thead>\n",
       "  <tbody>\n",
       "    <tr>\n",
       "      <th>rating</th>\n",
       "      <td>1.000000</td>\n",
       "      <td>0.046937</td>\n",
       "      <td>0.139703</td>\n",
       "      <td>0.458098</td>\n",
       "      <td>0.226263</td>\n",
       "      <td>0.251926</td>\n",
       "      <td>0.463211</td>\n",
       "      <td>0.368565</td>\n",
       "      <td>0.236843</td>\n",
       "      <td>0.215385</td>\n",
       "      <td>...</td>\n",
       "      <td>0.283309</td>\n",
       "      <td>0.289840</td>\n",
       "      <td>0.343265</td>\n",
       "      <td>0.441773</td>\n",
       "      <td>0.328576</td>\n",
       "      <td>0.419517</td>\n",
       "      <td>0.420796</td>\n",
       "      <td>0.399575</td>\n",
       "      <td>0.339898</td>\n",
       "      <td>0.386494</td>\n",
       "    </tr>\n",
       "    <tr>\n",
       "      <th>height</th>\n",
       "      <td>0.046937</td>\n",
       "      <td>1.000000</td>\n",
       "      <td>0.758208</td>\n",
       "      <td>0.076727</td>\n",
       "      <td>-0.180431</td>\n",
       "      <td>-0.431177</td>\n",
       "      <td>-0.402596</td>\n",
       "      <td>-0.483545</td>\n",
       "      <td>-0.042485</td>\n",
       "      <td>-0.069602</td>\n",
       "      <td>...</td>\n",
       "      <td>-0.611198</td>\n",
       "      <td>-0.063048</td>\n",
       "      <td>0.005367</td>\n",
       "      <td>-0.273413</td>\n",
       "      <td>-0.347154</td>\n",
       "      <td>-0.364182</td>\n",
       "      <td>-0.423115</td>\n",
       "      <td>-0.380217</td>\n",
       "      <td>-0.321246</td>\n",
       "      <td>-0.333576</td>\n",
       "    </tr>\n",
       "    <tr>\n",
       "      <th>weight</th>\n",
       "      <td>0.139703</td>\n",
       "      <td>0.758208</td>\n",
       "      <td>1.000000</td>\n",
       "      <td>0.223432</td>\n",
       "      <td>-0.135402</td>\n",
       "      <td>-0.375163</td>\n",
       "      <td>-0.338460</td>\n",
       "      <td>-0.412959</td>\n",
       "      <td>-0.030512</td>\n",
       "      <td>-0.062312</td>\n",
       "      <td>...</td>\n",
       "      <td>-0.535404</td>\n",
       "      <td>0.005842</td>\n",
       "      <td>0.019235</td>\n",
       "      <td>-0.188739</td>\n",
       "      <td>-0.281775</td>\n",
       "      <td>-0.274446</td>\n",
       "      <td>-0.343380</td>\n",
       "      <td>-0.293956</td>\n",
       "      <td>-0.246189</td>\n",
       "      <td>-0.258932</td>\n",
       "    </tr>\n",
       "    <tr>\n",
       "      <th>age</th>\n",
       "      <td>0.458098</td>\n",
       "      <td>0.076727</td>\n",
       "      <td>0.223432</td>\n",
       "      <td>1.000000</td>\n",
       "      <td>0.086137</td>\n",
       "      <td>-0.016088</td>\n",
       "      <td>0.082875</td>\n",
       "      <td>0.004575</td>\n",
       "      <td>0.131425</td>\n",
       "      <td>0.096679</td>\n",
       "      <td>...</td>\n",
       "      <td>-0.019459</td>\n",
       "      <td>0.168694</td>\n",
       "      <td>0.137785</td>\n",
       "      <td>0.151174</td>\n",
       "      <td>0.064487</td>\n",
       "      <td>0.149635</td>\n",
       "      <td>0.139101</td>\n",
       "      <td>0.195338</td>\n",
       "      <td>0.131469</td>\n",
       "      <td>0.133950</td>\n",
       "    </tr>\n",
       "    <tr>\n",
       "      <th>weak_foot</th>\n",
       "      <td>0.226263</td>\n",
       "      <td>-0.180431</td>\n",
       "      <td>-0.135402</td>\n",
       "      <td>0.086137</td>\n",
       "      <td>1.000000</td>\n",
       "      <td>0.336905</td>\n",
       "      <td>0.367420</td>\n",
       "      <td>0.363398</td>\n",
       "      <td>0.026950</td>\n",
       "      <td>0.025865</td>\n",
       "      <td>...</td>\n",
       "      <td>0.306049</td>\n",
       "      <td>0.064655</td>\n",
       "      <td>0.190847</td>\n",
       "      <td>0.334897</td>\n",
       "      <td>0.361983</td>\n",
       "      <td>0.365637</td>\n",
       "      <td>0.359044</td>\n",
       "      <td>0.345745</td>\n",
       "      <td>0.340757</td>\n",
       "      <td>0.366610</td>\n",
       "    </tr>\n",
       "    <tr>\n",
       "      <th>skill_moves</th>\n",
       "      <td>0.251926</td>\n",
       "      <td>-0.431177</td>\n",
       "      <td>-0.375163</td>\n",
       "      <td>-0.016088</td>\n",
       "      <td>0.336905</td>\n",
       "      <td>1.000000</td>\n",
       "      <td>0.727123</td>\n",
       "      <td>0.762623</td>\n",
       "      <td>0.032811</td>\n",
       "      <td>0.043037</td>\n",
       "      <td>...</td>\n",
       "      <td>0.637400</td>\n",
       "      <td>0.035166</td>\n",
       "      <td>0.391626</td>\n",
       "      <td>0.640183</td>\n",
       "      <td>0.715228</td>\n",
       "      <td>0.680434</td>\n",
       "      <td>0.689265</td>\n",
       "      <td>0.634867</td>\n",
       "      <td>0.662108</td>\n",
       "      <td>0.701017</td>\n",
       "    </tr>\n",
       "    <tr>\n",
       "      <th>ball_control</th>\n",
       "      <td>0.463211</td>\n",
       "      <td>-0.402596</td>\n",
       "      <td>-0.338460</td>\n",
       "      <td>0.082875</td>\n",
       "      <td>0.367420</td>\n",
       "      <td>0.727123</td>\n",
       "      <td>1.000000</td>\n",
       "      <td>0.931117</td>\n",
       "      <td>0.355429</td>\n",
       "      <td>0.357025</td>\n",
       "      <td>...</td>\n",
       "      <td>0.695569</td>\n",
       "      <td>0.172802</td>\n",
       "      <td>0.658111</td>\n",
       "      <td>0.829902</td>\n",
       "      <td>0.781218</td>\n",
       "      <td>0.831846</td>\n",
       "      <td>0.832009</td>\n",
       "      <td>0.763315</td>\n",
       "      <td>0.767803</td>\n",
       "      <td>0.789287</td>\n",
       "    </tr>\n",
       "    <tr>\n",
       "      <th>dribbling</th>\n",
       "      <td>0.368565</td>\n",
       "      <td>-0.483545</td>\n",
       "      <td>-0.412959</td>\n",
       "      <td>0.004575</td>\n",
       "      <td>0.363398</td>\n",
       "      <td>0.762623</td>\n",
       "      <td>0.931117</td>\n",
       "      <td>1.000000</td>\n",
       "      <td>0.228543</td>\n",
       "      <td>0.243277</td>\n",
       "      <td>...</td>\n",
       "      <td>0.754705</td>\n",
       "      <td>0.117374</td>\n",
       "      <td>0.548257</td>\n",
       "      <td>0.795016</td>\n",
       "      <td>0.817034</td>\n",
       "      <td>0.836080</td>\n",
       "      <td>0.840061</td>\n",
       "      <td>0.750014</td>\n",
       "      <td>0.765259</td>\n",
       "      <td>0.804633</td>\n",
       "    </tr>\n",
       "    <tr>\n",
       "      <th>marking</th>\n",
       "      <td>0.236843</td>\n",
       "      <td>-0.042485</td>\n",
       "      <td>-0.030512</td>\n",
       "      <td>0.131425</td>\n",
       "      <td>0.026950</td>\n",
       "      <td>0.032811</td>\n",
       "      <td>0.355429</td>\n",
       "      <td>0.228543</td>\n",
       "      <td>1.000000</td>\n",
       "      <td>0.959955</td>\n",
       "      <td>...</td>\n",
       "      <td>0.085645</td>\n",
       "      <td>0.258669</td>\n",
       "      <td>0.546994</td>\n",
       "      <td>0.219159</td>\n",
       "      <td>-0.096066</td>\n",
       "      <td>0.116621</td>\n",
       "      <td>0.206493</td>\n",
       "      <td>0.233461</td>\n",
       "      <td>0.062951</td>\n",
       "      <td>0.013556</td>\n",
       "    </tr>\n",
       "    <tr>\n",
       "      <th>sliding_tackle</th>\n",
       "      <td>0.215385</td>\n",
       "      <td>-0.069602</td>\n",
       "      <td>-0.062312</td>\n",
       "      <td>0.096679</td>\n",
       "      <td>0.025865</td>\n",
       "      <td>0.043037</td>\n",
       "      <td>0.357025</td>\n",
       "      <td>0.243277</td>\n",
       "      <td>0.959955</td>\n",
       "      <td>1.000000</td>\n",
       "      <td>...</td>\n",
       "      <td>0.103459</td>\n",
       "      <td>0.254936</td>\n",
       "      <td>0.523946</td>\n",
       "      <td>0.217468</td>\n",
       "      <td>-0.098796</td>\n",
       "      <td>0.117163</td>\n",
       "      <td>0.216875</td>\n",
       "      <td>0.241188</td>\n",
       "      <td>0.059355</td>\n",
       "      <td>0.015133</td>\n",
       "    </tr>\n",
       "    <tr>\n",
       "      <th>standing_tackle</th>\n",
       "      <td>0.249156</td>\n",
       "      <td>-0.054282</td>\n",
       "      <td>-0.047097</td>\n",
       "      <td>0.116847</td>\n",
       "      <td>0.043656</td>\n",
       "      <td>0.070841</td>\n",
       "      <td>0.391689</td>\n",
       "      <td>0.270005</td>\n",
       "      <td>0.960272</td>\n",
       "      <td>0.971730</td>\n",
       "      <td>...</td>\n",
       "      <td>0.110567</td>\n",
       "      <td>0.255130</td>\n",
       "      <td>0.555447</td>\n",
       "      <td>0.256805</td>\n",
       "      <td>-0.058670</td>\n",
       "      <td>0.156849</td>\n",
       "      <td>0.247088</td>\n",
       "      <td>0.274715</td>\n",
       "      <td>0.096483</td>\n",
       "      <td>0.053435</td>\n",
       "    </tr>\n",
       "    <tr>\n",
       "      <th>aggression</th>\n",
       "      <td>0.404422</td>\n",
       "      <td>-0.049009</td>\n",
       "      <td>0.017366</td>\n",
       "      <td>0.259413</td>\n",
       "      <td>0.134120</td>\n",
       "      <td>0.230424</td>\n",
       "      <td>0.543142</td>\n",
       "      <td>0.426393</td>\n",
       "      <td>0.708671</td>\n",
       "      <td>0.702852</td>\n",
       "      <td>...</td>\n",
       "      <td>0.239329</td>\n",
       "      <td>0.352169</td>\n",
       "      <td>0.677640</td>\n",
       "      <td>0.496297</td>\n",
       "      <td>0.230695</td>\n",
       "      <td>0.386260</td>\n",
       "      <td>0.395877</td>\n",
       "      <td>0.402368</td>\n",
       "      <td>0.329841</td>\n",
       "      <td>0.318366</td>\n",
       "    </tr>\n",
       "    <tr>\n",
       "      <th>reactions</th>\n",
       "      <td>0.828329</td>\n",
       "      <td>-0.016407</td>\n",
       "      <td>0.079019</td>\n",
       "      <td>0.456724</td>\n",
       "      <td>0.207098</td>\n",
       "      <td>0.223236</td>\n",
       "      <td>0.424991</td>\n",
       "      <td>0.349111</td>\n",
       "      <td>0.218235</td>\n",
       "      <td>0.200828</td>\n",
       "      <td>...</td>\n",
       "      <td>0.283719</td>\n",
       "      <td>0.260403</td>\n",
       "      <td>0.305042</td>\n",
       "      <td>0.404946</td>\n",
       "      <td>0.316802</td>\n",
       "      <td>0.408545</td>\n",
       "      <td>0.405543</td>\n",
       "      <td>0.390557</td>\n",
       "      <td>0.333713</td>\n",
       "      <td>0.382709</td>\n",
       "    </tr>\n",
       "    <tr>\n",
       "      <th>attacking_position</th>\n",
       "      <td>0.354501</td>\n",
       "      <td>-0.419544</td>\n",
       "      <td>-0.344840</td>\n",
       "      <td>0.073873</td>\n",
       "      <td>0.354699</td>\n",
       "      <td>0.719577</td>\n",
       "      <td>0.855487</td>\n",
       "      <td>0.888391</td>\n",
       "      <td>0.089095</td>\n",
       "      <td>0.097474</td>\n",
       "      <td>...</td>\n",
       "      <td>0.690857</td>\n",
       "      <td>0.116465</td>\n",
       "      <td>0.532394</td>\n",
       "      <td>0.795237</td>\n",
       "      <td>0.880495</td>\n",
       "      <td>0.850896</td>\n",
       "      <td>0.804621</td>\n",
       "      <td>0.727188</td>\n",
       "      <td>0.798127</td>\n",
       "      <td>0.841600</td>\n",
       "    </tr>\n",
       "    <tr>\n",
       "      <th>interceptions</th>\n",
       "      <td>0.319504</td>\n",
       "      <td>-0.050358</td>\n",
       "      <td>-0.028947</td>\n",
       "      <td>0.192667</td>\n",
       "      <td>0.058148</td>\n",
       "      <td>0.067407</td>\n",
       "      <td>0.392803</td>\n",
       "      <td>0.264903</td>\n",
       "      <td>0.922118</td>\n",
       "      <td>0.915207</td>\n",
       "      <td>...</td>\n",
       "      <td>0.126500</td>\n",
       "      <td>0.279615</td>\n",
       "      <td>0.536809</td>\n",
       "      <td>0.264911</td>\n",
       "      <td>-0.044888</td>\n",
       "      <td>0.181337</td>\n",
       "      <td>0.260755</td>\n",
       "      <td>0.292869</td>\n",
       "      <td>0.104781</td>\n",
       "      <td>0.071093</td>\n",
       "    </tr>\n",
       "    <tr>\n",
       "      <th>vision</th>\n",
       "      <td>0.489277</td>\n",
       "      <td>-0.359610</td>\n",
       "      <td>-0.283098</td>\n",
       "      <td>0.189982</td>\n",
       "      <td>0.352235</td>\n",
       "      <td>0.591623</td>\n",
       "      <td>0.732518</td>\n",
       "      <td>0.736197</td>\n",
       "      <td>0.097899</td>\n",
       "      <td>0.108223</td>\n",
       "      <td>...</td>\n",
       "      <td>0.594925</td>\n",
       "      <td>0.054090</td>\n",
       "      <td>0.305804</td>\n",
       "      <td>0.679237</td>\n",
       "      <td>0.695177</td>\n",
       "      <td>0.754865</td>\n",
       "      <td>0.750496</td>\n",
       "      <td>0.718754</td>\n",
       "      <td>0.647055</td>\n",
       "      <td>0.700223</td>\n",
       "    </tr>\n",
       "    <tr>\n",
       "      <th>composure</th>\n",
       "      <td>0.613612</td>\n",
       "      <td>-0.169460</td>\n",
       "      <td>-0.083541</td>\n",
       "      <td>0.355588</td>\n",
       "      <td>0.316486</td>\n",
       "      <td>0.490854</td>\n",
       "      <td>0.704726</td>\n",
       "      <td>0.627388</td>\n",
       "      <td>0.327939</td>\n",
       "      <td>0.314994</td>\n",
       "      <td>...</td>\n",
       "      <td>0.463008</td>\n",
       "      <td>0.243641</td>\n",
       "      <td>0.542475</td>\n",
       "      <td>0.673363</td>\n",
       "      <td>0.562688</td>\n",
       "      <td>0.642917</td>\n",
       "      <td>0.641637</td>\n",
       "      <td>0.606544</td>\n",
       "      <td>0.590273</td>\n",
       "      <td>0.622623</td>\n",
       "    </tr>\n",
       "    <tr>\n",
       "      <th>crossing</th>\n",
       "      <td>0.401851</td>\n",
       "      <td>-0.471327</td>\n",
       "      <td>-0.389293</td>\n",
       "      <td>0.134576</td>\n",
       "      <td>0.324117</td>\n",
       "      <td>0.644761</td>\n",
       "      <td>0.838775</td>\n",
       "      <td>0.848864</td>\n",
       "      <td>0.384596</td>\n",
       "      <td>0.400583</td>\n",
       "      <td>...</td>\n",
       "      <td>0.681712</td>\n",
       "      <td>0.117779</td>\n",
       "      <td>0.482777</td>\n",
       "      <td>0.704200</td>\n",
       "      <td>0.644380</td>\n",
       "      <td>0.740554</td>\n",
       "      <td>0.826872</td>\n",
       "      <td>0.761017</td>\n",
       "      <td>0.648078</td>\n",
       "      <td>0.684915</td>\n",
       "    </tr>\n",
       "    <tr>\n",
       "      <th>short_pass</th>\n",
       "      <td>0.496239</td>\n",
       "      <td>-0.356768</td>\n",
       "      <td>-0.299264</td>\n",
       "      <td>0.127537</td>\n",
       "      <td>0.338919</td>\n",
       "      <td>0.628088</td>\n",
       "      <td>0.904398</td>\n",
       "      <td>0.833578</td>\n",
       "      <td>0.476693</td>\n",
       "      <td>0.479273</td>\n",
       "      <td>...</td>\n",
       "      <td>0.606182</td>\n",
       "      <td>0.174645</td>\n",
       "      <td>0.632108</td>\n",
       "      <td>0.771737</td>\n",
       "      <td>0.653929</td>\n",
       "      <td>0.761394</td>\n",
       "      <td>0.779465</td>\n",
       "      <td>0.742423</td>\n",
       "      <td>0.675478</td>\n",
       "      <td>0.691174</td>\n",
       "    </tr>\n",
       "    <tr>\n",
       "      <th>long_pass</th>\n",
       "      <td>0.483217</td>\n",
       "      <td>-0.323575</td>\n",
       "      <td>-0.261611</td>\n",
       "      <td>0.179109</td>\n",
       "      <td>0.298103</td>\n",
       "      <td>0.515631</td>\n",
       "      <td>0.793084</td>\n",
       "      <td>0.717857</td>\n",
       "      <td>0.535364</td>\n",
       "      <td>0.540317</td>\n",
       "      <td>...</td>\n",
       "      <td>0.522242</td>\n",
       "      <td>0.141914</td>\n",
       "      <td>0.518379</td>\n",
       "      <td>0.679311</td>\n",
       "      <td>0.507594</td>\n",
       "      <td>0.674009</td>\n",
       "      <td>0.716427</td>\n",
       "      <td>0.710268</td>\n",
       "      <td>0.550959</td>\n",
       "      <td>0.569566</td>\n",
       "    </tr>\n",
       "    <tr>\n",
       "      <th>acceleration</th>\n",
       "      <td>0.206392</td>\n",
       "      <td>-0.521688</td>\n",
       "      <td>-0.465558</td>\n",
       "      <td>-0.175966</td>\n",
       "      <td>0.257156</td>\n",
       "      <td>0.619623</td>\n",
       "      <td>0.669026</td>\n",
       "      <td>0.740657</td>\n",
       "      <td>0.138092</td>\n",
       "      <td>0.159178</td>\n",
       "      <td>...</td>\n",
       "      <td>0.792586</td>\n",
       "      <td>0.209320</td>\n",
       "      <td>0.345955</td>\n",
       "      <td>0.538325</td>\n",
       "      <td>0.591831</td>\n",
       "      <td>0.571502</td>\n",
       "      <td>0.595826</td>\n",
       "      <td>0.486247</td>\n",
       "      <td>0.522338</td>\n",
       "      <td>0.563226</td>\n",
       "    </tr>\n",
       "    <tr>\n",
       "      <th>speed</th>\n",
       "      <td>0.224253</td>\n",
       "      <td>-0.451128</td>\n",
       "      <td>-0.404240</td>\n",
       "      <td>-0.168440</td>\n",
       "      <td>0.240919</td>\n",
       "      <td>0.598727</td>\n",
       "      <td>0.665755</td>\n",
       "      <td>0.725716</td>\n",
       "      <td>0.163242</td>\n",
       "      <td>0.181316</td>\n",
       "      <td>...</td>\n",
       "      <td>0.748592</td>\n",
       "      <td>0.232382</td>\n",
       "      <td>0.398331</td>\n",
       "      <td>0.548975</td>\n",
       "      <td>0.582587</td>\n",
       "      <td>0.558026</td>\n",
       "      <td>0.576378</td>\n",
       "      <td>0.462375</td>\n",
       "      <td>0.515824</td>\n",
       "      <td>0.555322</td>\n",
       "    </tr>\n",
       "    <tr>\n",
       "      <th>stamina</th>\n",
       "      <td>0.355335</td>\n",
       "      <td>-0.293564</td>\n",
       "      <td>-0.241365</td>\n",
       "      <td>0.070685</td>\n",
       "      <td>0.228619</td>\n",
       "      <td>0.469200</td>\n",
       "      <td>0.724758</td>\n",
       "      <td>0.676495</td>\n",
       "      <td>0.538772</td>\n",
       "      <td>0.538313</td>\n",
       "      <td>...</td>\n",
       "      <td>0.557333</td>\n",
       "      <td>0.331521</td>\n",
       "      <td>0.640626</td>\n",
       "      <td>0.620266</td>\n",
       "      <td>0.495899</td>\n",
       "      <td>0.591168</td>\n",
       "      <td>0.586883</td>\n",
       "      <td>0.537091</td>\n",
       "      <td>0.516367</td>\n",
       "      <td>0.523170</td>\n",
       "    </tr>\n",
       "    <tr>\n",
       "      <th>strength</th>\n",
       "      <td>0.369045</td>\n",
       "      <td>0.537223</td>\n",
       "      <td>0.613829</td>\n",
       "      <td>0.329289</td>\n",
       "      <td>-0.004841</td>\n",
       "      <td>-0.117029</td>\n",
       "      <td>0.079898</td>\n",
       "      <td>-0.046376</td>\n",
       "      <td>0.327395</td>\n",
       "      <td>0.287903</td>\n",
       "      <td>...</td>\n",
       "      <td>-0.243772</td>\n",
       "      <td>0.268866</td>\n",
       "      <td>0.458370</td>\n",
       "      <td>0.172875</td>\n",
       "      <td>-0.012010</td>\n",
       "      <td>0.045462</td>\n",
       "      <td>-0.036263</td>\n",
       "      <td>-0.003688</td>\n",
       "      <td>0.052389</td>\n",
       "      <td>0.022775</td>\n",
       "    </tr>\n",
       "    <tr>\n",
       "      <th>balance</th>\n",
       "      <td>0.087811</td>\n",
       "      <td>-0.799775</td>\n",
       "      <td>-0.680791</td>\n",
       "      <td>-0.100131</td>\n",
       "      <td>0.253466</td>\n",
       "      <td>0.542743</td>\n",
       "      <td>0.573786</td>\n",
       "      <td>0.638638</td>\n",
       "      <td>0.117471</td>\n",
       "      <td>0.145242</td>\n",
       "      <td>...</td>\n",
       "      <td>0.748228</td>\n",
       "      <td>0.167705</td>\n",
       "      <td>0.157088</td>\n",
       "      <td>0.429301</td>\n",
       "      <td>0.486708</td>\n",
       "      <td>0.504732</td>\n",
       "      <td>0.558874</td>\n",
       "      <td>0.493454</td>\n",
       "      <td>0.453402</td>\n",
       "      <td>0.484856</td>\n",
       "    </tr>\n",
       "    <tr>\n",
       "      <th>agility</th>\n",
       "      <td>0.283309</td>\n",
       "      <td>-0.611198</td>\n",
       "      <td>-0.535404</td>\n",
       "      <td>-0.019459</td>\n",
       "      <td>0.306049</td>\n",
       "      <td>0.637400</td>\n",
       "      <td>0.695569</td>\n",
       "      <td>0.754705</td>\n",
       "      <td>0.085645</td>\n",
       "      <td>0.103459</td>\n",
       "      <td>...</td>\n",
       "      <td>1.000000</td>\n",
       "      <td>0.208837</td>\n",
       "      <td>0.266705</td>\n",
       "      <td>0.563776</td>\n",
       "      <td>0.627152</td>\n",
       "      <td>0.637318</td>\n",
       "      <td>0.668396</td>\n",
       "      <td>0.577702</td>\n",
       "      <td>0.552681</td>\n",
       "      <td>0.616572</td>\n",
       "    </tr>\n",
       "    <tr>\n",
       "      <th>jumping</th>\n",
       "      <td>0.289840</td>\n",
       "      <td>-0.063048</td>\n",
       "      <td>0.005842</td>\n",
       "      <td>0.168694</td>\n",
       "      <td>0.064655</td>\n",
       "      <td>0.035166</td>\n",
       "      <td>0.172802</td>\n",
       "      <td>0.117374</td>\n",
       "      <td>0.258669</td>\n",
       "      <td>0.254936</td>\n",
       "      <td>...</td>\n",
       "      <td>0.208837</td>\n",
       "      <td>1.000000</td>\n",
       "      <td>0.360225</td>\n",
       "      <td>0.170115</td>\n",
       "      <td>0.070301</td>\n",
       "      <td>0.111898</td>\n",
       "      <td>0.087956</td>\n",
       "      <td>0.063666</td>\n",
       "      <td>0.109438</td>\n",
       "      <td>0.102458</td>\n",
       "    </tr>\n",
       "    <tr>\n",
       "      <th>heading</th>\n",
       "      <td>0.343265</td>\n",
       "      <td>0.005367</td>\n",
       "      <td>0.019235</td>\n",
       "      <td>0.137785</td>\n",
       "      <td>0.190847</td>\n",
       "      <td>0.391626</td>\n",
       "      <td>0.658111</td>\n",
       "      <td>0.548257</td>\n",
       "      <td>0.546994</td>\n",
       "      <td>0.523946</td>\n",
       "      <td>...</td>\n",
       "      <td>0.266705</td>\n",
       "      <td>0.360225</td>\n",
       "      <td>1.000000</td>\n",
       "      <td>0.619807</td>\n",
       "      <td>0.476265</td>\n",
       "      <td>0.506579</td>\n",
       "      <td>0.451545</td>\n",
       "      <td>0.425968</td>\n",
       "      <td>0.553426</td>\n",
       "      <td>0.502497</td>\n",
       "    </tr>\n",
       "    <tr>\n",
       "      <th>shot_power</th>\n",
       "      <td>0.441773</td>\n",
       "      <td>-0.273413</td>\n",
       "      <td>-0.188739</td>\n",
       "      <td>0.151174</td>\n",
       "      <td>0.334897</td>\n",
       "      <td>0.640183</td>\n",
       "      <td>0.829902</td>\n",
       "      <td>0.795016</td>\n",
       "      <td>0.219159</td>\n",
       "      <td>0.217468</td>\n",
       "      <td>...</td>\n",
       "      <td>0.563776</td>\n",
       "      <td>0.170115</td>\n",
       "      <td>0.619807</td>\n",
       "      <td>1.000000</td>\n",
       "      <td>0.797201</td>\n",
       "      <td>0.880013</td>\n",
       "      <td>0.784935</td>\n",
       "      <td>0.749059</td>\n",
       "      <td>0.786514</td>\n",
       "      <td>0.817316</td>\n",
       "    </tr>\n",
       "    <tr>\n",
       "      <th>finishing</th>\n",
       "      <td>0.328576</td>\n",
       "      <td>-0.347154</td>\n",
       "      <td>-0.281775</td>\n",
       "      <td>0.064487</td>\n",
       "      <td>0.361983</td>\n",
       "      <td>0.715228</td>\n",
       "      <td>0.781218</td>\n",
       "      <td>0.817034</td>\n",
       "      <td>-0.096066</td>\n",
       "      <td>-0.098796</td>\n",
       "      <td>...</td>\n",
       "      <td>0.627152</td>\n",
       "      <td>0.070301</td>\n",
       "      <td>0.476265</td>\n",
       "      <td>0.797201</td>\n",
       "      <td>1.000000</td>\n",
       "      <td>0.863186</td>\n",
       "      <td>0.750697</td>\n",
       "      <td>0.687716</td>\n",
       "      <td>0.834705</td>\n",
       "      <td>0.876136</td>\n",
       "    </tr>\n",
       "    <tr>\n",
       "      <th>long_shots</th>\n",
       "      <td>0.419517</td>\n",
       "      <td>-0.364182</td>\n",
       "      <td>-0.274446</td>\n",
       "      <td>0.149635</td>\n",
       "      <td>0.365637</td>\n",
       "      <td>0.680434</td>\n",
       "      <td>0.831846</td>\n",
       "      <td>0.836080</td>\n",
       "      <td>0.116621</td>\n",
       "      <td>0.117163</td>\n",
       "      <td>...</td>\n",
       "      <td>0.637318</td>\n",
       "      <td>0.111898</td>\n",
       "      <td>0.506579</td>\n",
       "      <td>0.880013</td>\n",
       "      <td>0.863186</td>\n",
       "      <td>1.000000</td>\n",
       "      <td>0.830707</td>\n",
       "      <td>0.801342</td>\n",
       "      <td>0.806805</td>\n",
       "      <td>0.857302</td>\n",
       "    </tr>\n",
       "    <tr>\n",
       "      <th>curve</th>\n",
       "      <td>0.420796</td>\n",
       "      <td>-0.423115</td>\n",
       "      <td>-0.343380</td>\n",
       "      <td>0.139101</td>\n",
       "      <td>0.359044</td>\n",
       "      <td>0.689265</td>\n",
       "      <td>0.832009</td>\n",
       "      <td>0.840061</td>\n",
       "      <td>0.206493</td>\n",
       "      <td>0.216875</td>\n",
       "      <td>...</td>\n",
       "      <td>0.668396</td>\n",
       "      <td>0.087956</td>\n",
       "      <td>0.451545</td>\n",
       "      <td>0.784935</td>\n",
       "      <td>0.750697</td>\n",
       "      <td>0.830707</td>\n",
       "      <td>1.000000</td>\n",
       "      <td>0.856065</td>\n",
       "      <td>0.750694</td>\n",
       "      <td>0.799441</td>\n",
       "    </tr>\n",
       "    <tr>\n",
       "      <th>freekick_accuracy</th>\n",
       "      <td>0.399575</td>\n",
       "      <td>-0.380217</td>\n",
       "      <td>-0.293956</td>\n",
       "      <td>0.195338</td>\n",
       "      <td>0.345745</td>\n",
       "      <td>0.634867</td>\n",
       "      <td>0.763315</td>\n",
       "      <td>0.750014</td>\n",
       "      <td>0.233461</td>\n",
       "      <td>0.241188</td>\n",
       "      <td>...</td>\n",
       "      <td>0.577702</td>\n",
       "      <td>0.063666</td>\n",
       "      <td>0.425968</td>\n",
       "      <td>0.749059</td>\n",
       "      <td>0.687716</td>\n",
       "      <td>0.801342</td>\n",
       "      <td>0.856065</td>\n",
       "      <td>1.000000</td>\n",
       "      <td>0.732686</td>\n",
       "      <td>0.737697</td>\n",
       "    </tr>\n",
       "    <tr>\n",
       "      <th>penalties</th>\n",
       "      <td>0.339898</td>\n",
       "      <td>-0.321246</td>\n",
       "      <td>-0.246189</td>\n",
       "      <td>0.131469</td>\n",
       "      <td>0.340757</td>\n",
       "      <td>0.662108</td>\n",
       "      <td>0.767803</td>\n",
       "      <td>0.765259</td>\n",
       "      <td>0.062951</td>\n",
       "      <td>0.059355</td>\n",
       "      <td>...</td>\n",
       "      <td>0.552681</td>\n",
       "      <td>0.109438</td>\n",
       "      <td>0.553426</td>\n",
       "      <td>0.786514</td>\n",
       "      <td>0.834705</td>\n",
       "      <td>0.806805</td>\n",
       "      <td>0.750694</td>\n",
       "      <td>0.732686</td>\n",
       "      <td>1.000000</td>\n",
       "      <td>0.816956</td>\n",
       "    </tr>\n",
       "    <tr>\n",
       "      <th>volleys</th>\n",
       "      <td>0.386494</td>\n",
       "      <td>-0.333576</td>\n",
       "      <td>-0.258932</td>\n",
       "      <td>0.133950</td>\n",
       "      <td>0.366610</td>\n",
       "      <td>0.701017</td>\n",
       "      <td>0.789287</td>\n",
       "      <td>0.804633</td>\n",
       "      <td>0.013556</td>\n",
       "      <td>0.015133</td>\n",
       "      <td>...</td>\n",
       "      <td>0.616572</td>\n",
       "      <td>0.102458</td>\n",
       "      <td>0.502497</td>\n",
       "      <td>0.817316</td>\n",
       "      <td>0.876136</td>\n",
       "      <td>0.857302</td>\n",
       "      <td>0.799441</td>\n",
       "      <td>0.737697</td>\n",
       "      <td>0.816956</td>\n",
       "      <td>1.000000</td>\n",
       "    </tr>\n",
       "  </tbody>\n",
       "</table>\n",
       "<p>35 rows × 35 columns</p>\n",
       "</div>"
      ],
      "text/plain": [
       "                      rating    height    weight       age  weak_foot  \\\n",
       "rating              1.000000  0.046937  0.139703  0.458098   0.226263   \n",
       "height              0.046937  1.000000  0.758208  0.076727  -0.180431   \n",
       "weight              0.139703  0.758208  1.000000  0.223432  -0.135402   \n",
       "age                 0.458098  0.076727  0.223432  1.000000   0.086137   \n",
       "weak_foot           0.226263 -0.180431 -0.135402  0.086137   1.000000   \n",
       "skill_moves         0.251926 -0.431177 -0.375163 -0.016088   0.336905   \n",
       "ball_control        0.463211 -0.402596 -0.338460  0.082875   0.367420   \n",
       "dribbling           0.368565 -0.483545 -0.412959  0.004575   0.363398   \n",
       "marking             0.236843 -0.042485 -0.030512  0.131425   0.026950   \n",
       "sliding_tackle      0.215385 -0.069602 -0.062312  0.096679   0.025865   \n",
       "standing_tackle     0.249156 -0.054282 -0.047097  0.116847   0.043656   \n",
       "aggression          0.404422 -0.049009  0.017366  0.259413   0.134120   \n",
       "reactions           0.828329 -0.016407  0.079019  0.456724   0.207098   \n",
       "attacking_position  0.354501 -0.419544 -0.344840  0.073873   0.354699   \n",
       "interceptions       0.319504 -0.050358 -0.028947  0.192667   0.058148   \n",
       "vision              0.489277 -0.359610 -0.283098  0.189982   0.352235   \n",
       "composure           0.613612 -0.169460 -0.083541  0.355588   0.316486   \n",
       "crossing            0.401851 -0.471327 -0.389293  0.134576   0.324117   \n",
       "short_pass          0.496239 -0.356768 -0.299264  0.127537   0.338919   \n",
       "long_pass           0.483217 -0.323575 -0.261611  0.179109   0.298103   \n",
       "acceleration        0.206392 -0.521688 -0.465558 -0.175966   0.257156   \n",
       "speed               0.224253 -0.451128 -0.404240 -0.168440   0.240919   \n",
       "stamina             0.355335 -0.293564 -0.241365  0.070685   0.228619   \n",
       "strength            0.369045  0.537223  0.613829  0.329289  -0.004841   \n",
       "balance             0.087811 -0.799775 -0.680791 -0.100131   0.253466   \n",
       "agility             0.283309 -0.611198 -0.535404 -0.019459   0.306049   \n",
       "jumping             0.289840 -0.063048  0.005842  0.168694   0.064655   \n",
       "heading             0.343265  0.005367  0.019235  0.137785   0.190847   \n",
       "shot_power          0.441773 -0.273413 -0.188739  0.151174   0.334897   \n",
       "finishing           0.328576 -0.347154 -0.281775  0.064487   0.361983   \n",
       "long_shots          0.419517 -0.364182 -0.274446  0.149635   0.365637   \n",
       "curve               0.420796 -0.423115 -0.343380  0.139101   0.359044   \n",
       "freekick_accuracy   0.399575 -0.380217 -0.293956  0.195338   0.345745   \n",
       "penalties           0.339898 -0.321246 -0.246189  0.131469   0.340757   \n",
       "volleys             0.386494 -0.333576 -0.258932  0.133950   0.366610   \n",
       "\n",
       "                    skill_moves  ball_control  dribbling   marking  \\\n",
       "rating                 0.251926      0.463211   0.368565  0.236843   \n",
       "height                -0.431177     -0.402596  -0.483545 -0.042485   \n",
       "weight                -0.375163     -0.338460  -0.412959 -0.030512   \n",
       "age                   -0.016088      0.082875   0.004575  0.131425   \n",
       "weak_foot              0.336905      0.367420   0.363398  0.026950   \n",
       "skill_moves            1.000000      0.727123   0.762623  0.032811   \n",
       "ball_control           0.727123      1.000000   0.931117  0.355429   \n",
       "dribbling              0.762623      0.931117   1.000000  0.228543   \n",
       "marking                0.032811      0.355429   0.228543  1.000000   \n",
       "sliding_tackle         0.043037      0.357025   0.243277  0.959955   \n",
       "standing_tackle        0.070841      0.391689   0.270005  0.960272   \n",
       "aggression             0.230424      0.543142   0.426393  0.708671   \n",
       "reactions              0.223236      0.424991   0.349111  0.218235   \n",
       "attacking_position     0.719577      0.855487   0.888391  0.089095   \n",
       "interceptions          0.067407      0.392803   0.264903  0.922118   \n",
       "vision                 0.591623      0.732518   0.736197  0.097899   \n",
       "composure              0.490854      0.704726   0.627388  0.327939   \n",
       "crossing               0.644761      0.838775   0.848864  0.384596   \n",
       "short_pass             0.628088      0.904398   0.833578  0.476693   \n",
       "long_pass              0.515631      0.793084   0.717857  0.535364   \n",
       "acceleration           0.619623      0.669026   0.740657  0.138092   \n",
       "speed                  0.598727      0.665755   0.725716  0.163242   \n",
       "stamina                0.469200      0.724758   0.676495  0.538772   \n",
       "strength              -0.117029      0.079898  -0.046376  0.327395   \n",
       "balance                0.542743      0.573786   0.638638  0.117471   \n",
       "agility                0.637400      0.695569   0.754705  0.085645   \n",
       "jumping                0.035166      0.172802   0.117374  0.258669   \n",
       "heading                0.391626      0.658111   0.548257  0.546994   \n",
       "shot_power             0.640183      0.829902   0.795016  0.219159   \n",
       "finishing              0.715228      0.781218   0.817034 -0.096066   \n",
       "long_shots             0.680434      0.831846   0.836080  0.116621   \n",
       "curve                  0.689265      0.832009   0.840061  0.206493   \n",
       "freekick_accuracy      0.634867      0.763315   0.750014  0.233461   \n",
       "penalties              0.662108      0.767803   0.765259  0.062951   \n",
       "volleys                0.701017      0.789287   0.804633  0.013556   \n",
       "\n",
       "                    sliding_tackle    ...      agility   jumping   heading  \\\n",
       "rating                    0.215385    ...     0.283309  0.289840  0.343265   \n",
       "height                   -0.069602    ...    -0.611198 -0.063048  0.005367   \n",
       "weight                   -0.062312    ...    -0.535404  0.005842  0.019235   \n",
       "age                       0.096679    ...    -0.019459  0.168694  0.137785   \n",
       "weak_foot                 0.025865    ...     0.306049  0.064655  0.190847   \n",
       "skill_moves               0.043037    ...     0.637400  0.035166  0.391626   \n",
       "ball_control              0.357025    ...     0.695569  0.172802  0.658111   \n",
       "dribbling                 0.243277    ...     0.754705  0.117374  0.548257   \n",
       "marking                   0.959955    ...     0.085645  0.258669  0.546994   \n",
       "sliding_tackle            1.000000    ...     0.103459  0.254936  0.523946   \n",
       "standing_tackle           0.971730    ...     0.110567  0.255130  0.555447   \n",
       "aggression                0.702852    ...     0.239329  0.352169  0.677640   \n",
       "reactions                 0.200828    ...     0.283719  0.260403  0.305042   \n",
       "attacking_position        0.097474    ...     0.690857  0.116465  0.532394   \n",
       "interceptions             0.915207    ...     0.126500  0.279615  0.536809   \n",
       "vision                    0.108223    ...     0.594925  0.054090  0.305804   \n",
       "composure                 0.314994    ...     0.463008  0.243641  0.542475   \n",
       "crossing                  0.400583    ...     0.681712  0.117779  0.482777   \n",
       "short_pass                0.479273    ...     0.606182  0.174645  0.632108   \n",
       "long_pass                 0.540317    ...     0.522242  0.141914  0.518379   \n",
       "acceleration              0.159178    ...     0.792586  0.209320  0.345955   \n",
       "speed                     0.181316    ...     0.748592  0.232382  0.398331   \n",
       "stamina                   0.538313    ...     0.557333  0.331521  0.640626   \n",
       "strength                  0.287903    ...    -0.243772  0.268866  0.458370   \n",
       "balance                   0.145242    ...     0.748228  0.167705  0.157088   \n",
       "agility                   0.103459    ...     1.000000  0.208837  0.266705   \n",
       "jumping                   0.254936    ...     0.208837  1.000000  0.360225   \n",
       "heading                   0.523946    ...     0.266705  0.360225  1.000000   \n",
       "shot_power                0.217468    ...     0.563776  0.170115  0.619807   \n",
       "finishing                -0.098796    ...     0.627152  0.070301  0.476265   \n",
       "long_shots                0.117163    ...     0.637318  0.111898  0.506579   \n",
       "curve                     0.216875    ...     0.668396  0.087956  0.451545   \n",
       "freekick_accuracy         0.241188    ...     0.577702  0.063666  0.425968   \n",
       "penalties                 0.059355    ...     0.552681  0.109438  0.553426   \n",
       "volleys                   0.015133    ...     0.616572  0.102458  0.502497   \n",
       "\n",
       "                    shot_power  finishing  long_shots     curve  \\\n",
       "rating                0.441773   0.328576    0.419517  0.420796   \n",
       "height               -0.273413  -0.347154   -0.364182 -0.423115   \n",
       "weight               -0.188739  -0.281775   -0.274446 -0.343380   \n",
       "age                   0.151174   0.064487    0.149635  0.139101   \n",
       "weak_foot             0.334897   0.361983    0.365637  0.359044   \n",
       "skill_moves           0.640183   0.715228    0.680434  0.689265   \n",
       "ball_control          0.829902   0.781218    0.831846  0.832009   \n",
       "dribbling             0.795016   0.817034    0.836080  0.840061   \n",
       "marking               0.219159  -0.096066    0.116621  0.206493   \n",
       "sliding_tackle        0.217468  -0.098796    0.117163  0.216875   \n",
       "standing_tackle       0.256805  -0.058670    0.156849  0.247088   \n",
       "aggression            0.496297   0.230695    0.386260  0.395877   \n",
       "reactions             0.404946   0.316802    0.408545  0.405543   \n",
       "attacking_position    0.795237   0.880495    0.850896  0.804621   \n",
       "interceptions         0.264911  -0.044888    0.181337  0.260755   \n",
       "vision                0.679237   0.695177    0.754865  0.750496   \n",
       "composure             0.673363   0.562688    0.642917  0.641637   \n",
       "crossing              0.704200   0.644380    0.740554  0.826872   \n",
       "short_pass            0.771737   0.653929    0.761394  0.779465   \n",
       "long_pass             0.679311   0.507594    0.674009  0.716427   \n",
       "acceleration          0.538325   0.591831    0.571502  0.595826   \n",
       "speed                 0.548975   0.582587    0.558026  0.576378   \n",
       "stamina               0.620266   0.495899    0.591168  0.586883   \n",
       "strength              0.172875  -0.012010    0.045462 -0.036263   \n",
       "balance               0.429301   0.486708    0.504732  0.558874   \n",
       "agility               0.563776   0.627152    0.637318  0.668396   \n",
       "jumping               0.170115   0.070301    0.111898  0.087956   \n",
       "heading               0.619807   0.476265    0.506579  0.451545   \n",
       "shot_power            1.000000   0.797201    0.880013  0.784935   \n",
       "finishing             0.797201   1.000000    0.863186  0.750697   \n",
       "long_shots            0.880013   0.863186    1.000000  0.830707   \n",
       "curve                 0.784935   0.750697    0.830707  1.000000   \n",
       "freekick_accuracy     0.749059   0.687716    0.801342  0.856065   \n",
       "penalties             0.786514   0.834705    0.806805  0.750694   \n",
       "volleys               0.817316   0.876136    0.857302  0.799441   \n",
       "\n",
       "                    freekick_accuracy  penalties   volleys  \n",
       "rating                       0.399575   0.339898  0.386494  \n",
       "height                      -0.380217  -0.321246 -0.333576  \n",
       "weight                      -0.293956  -0.246189 -0.258932  \n",
       "age                          0.195338   0.131469  0.133950  \n",
       "weak_foot                    0.345745   0.340757  0.366610  \n",
       "skill_moves                  0.634867   0.662108  0.701017  \n",
       "ball_control                 0.763315   0.767803  0.789287  \n",
       "dribbling                    0.750014   0.765259  0.804633  \n",
       "marking                      0.233461   0.062951  0.013556  \n",
       "sliding_tackle               0.241188   0.059355  0.015133  \n",
       "standing_tackle              0.274715   0.096483  0.053435  \n",
       "aggression                   0.402368   0.329841  0.318366  \n",
       "reactions                    0.390557   0.333713  0.382709  \n",
       "attacking_position           0.727188   0.798127  0.841600  \n",
       "interceptions                0.292869   0.104781  0.071093  \n",
       "vision                       0.718754   0.647055  0.700223  \n",
       "composure                    0.606544   0.590273  0.622623  \n",
       "crossing                     0.761017   0.648078  0.684915  \n",
       "short_pass                   0.742423   0.675478  0.691174  \n",
       "long_pass                    0.710268   0.550959  0.569566  \n",
       "acceleration                 0.486247   0.522338  0.563226  \n",
       "speed                        0.462375   0.515824  0.555322  \n",
       "stamina                      0.537091   0.516367  0.523170  \n",
       "strength                    -0.003688   0.052389  0.022775  \n",
       "balance                      0.493454   0.453402  0.484856  \n",
       "agility                      0.577702   0.552681  0.616572  \n",
       "jumping                      0.063666   0.109438  0.102458  \n",
       "heading                      0.425968   0.553426  0.502497  \n",
       "shot_power                   0.749059   0.786514  0.817316  \n",
       "finishing                    0.687716   0.834705  0.876136  \n",
       "long_shots                   0.801342   0.806805  0.857302  \n",
       "curve                        0.856065   0.750694  0.799441  \n",
       "freekick_accuracy            1.000000   0.732686  0.737697  \n",
       "penalties                    0.732686   1.000000  0.816956  \n",
       "volleys                      0.737697   0.816956  1.000000  \n",
       "\n",
       "[35 rows x 35 columns]"
      ]
     },
     "execution_count": 24,
     "metadata": {},
     "output_type": "execute_result"
    }
   ],
   "source": [
    "fifa.corr()"
   ]
  },
  {
   "cell_type": "markdown",
   "metadata": {},
   "source": [
    "### 5. Make a heatmap of the dataset's correlation table"
   ]
  },
  {
   "cell_type": "code",
   "execution_count": 23,
   "metadata": {},
   "outputs": [
    {
     "data": {
      "image/png": "[encoded data removed]",
      "text/plain": [
       "<matplotlib.figure.Figure at 0x1168b4e50>"
      ]
     },
     "metadata": {},
     "output_type": "display_data"
    }
   ],
   "source": [
    "sns.heatmap(fifa.corr());"
   ]
  },
  {
   "cell_type": "markdown",
   "metadata": {},
   "source": [
    "### 6. Return a dataframe with only players from the following clubs. Call the dataframe fifa2. From now on we'll be using fifa2"
   ]
  },
  {
   "cell_type": "code",
   "execution_count": 31,
   "metadata": {
    "collapsed": true
   },
   "outputs": [],
   "source": [
    "clubs_list = ['Real Madrid', 'FC Barcelona', 'FC Bayern', 'Manchester Utd',\n",
    "       'Chelsea', 'Arsenal', 'Juventus', 'PSG', 'Manchester City',\n",
    "              'Bor. Dortmund', 'Liverpool', 'Roma']"
   ]
  },
  {
   "cell_type": "code",
   "execution_count": 32,
   "metadata": {},
   "outputs": [
    {
     "data": {
      "text/html": [
       "<div>\n",
       "<style>\n",
       "    .dataframe thead tr:only-child th {\n",
       "        text-align: right;\n",
       "    }\n",
       "\n",
       "    .dataframe thead th {\n",
       "        text-align: left;\n",
       "    }\n",
       "\n",
       "    .dataframe tbody tr th {\n",
       "        vertical-align: top;\n",
       "    }\n",
       "</style>\n",
       "<table border=\"1\" class=\"dataframe\">\n",
       "  <thead>\n",
       "    <tr style=\"text-align: right;\">\n",
       "      <th></th>\n",
       "      <th>nationality</th>\n",
       "      <th>club</th>\n",
       "      <th>club_position</th>\n",
       "      <th>rating</th>\n",
       "      <th>height</th>\n",
       "      <th>weight</th>\n",
       "      <th>preffered_foot</th>\n",
       "      <th>birth_date</th>\n",
       "      <th>age</th>\n",
       "      <th>preffered_position</th>\n",
       "      <th>...</th>\n",
       "      <th>agility</th>\n",
       "      <th>jumping</th>\n",
       "      <th>heading</th>\n",
       "      <th>shot_power</th>\n",
       "      <th>finishing</th>\n",
       "      <th>long_shots</th>\n",
       "      <th>curve</th>\n",
       "      <th>freekick_accuracy</th>\n",
       "      <th>penalties</th>\n",
       "      <th>volleys</th>\n",
       "    </tr>\n",
       "    <tr>\n",
       "      <th>name</th>\n",
       "      <th></th>\n",
       "      <th></th>\n",
       "      <th></th>\n",
       "      <th></th>\n",
       "      <th></th>\n",
       "      <th></th>\n",
       "      <th></th>\n",
       "      <th></th>\n",
       "      <th></th>\n",
       "      <th></th>\n",
       "      <th></th>\n",
       "      <th></th>\n",
       "      <th></th>\n",
       "      <th></th>\n",
       "      <th></th>\n",
       "      <th></th>\n",
       "      <th></th>\n",
       "      <th></th>\n",
       "      <th></th>\n",
       "      <th></th>\n",
       "      <th></th>\n",
       "    </tr>\n",
       "  </thead>\n",
       "  <tbody>\n",
       "    <tr>\n",
       "      <th>Cristiano Ronaldo</th>\n",
       "      <td>Portugal</td>\n",
       "      <td>Real Madrid</td>\n",
       "      <td>LW</td>\n",
       "      <td>94</td>\n",
       "      <td>185.0</td>\n",
       "      <td>80.0</td>\n",
       "      <td>Right</td>\n",
       "      <td>02/05/1985</td>\n",
       "      <td>32</td>\n",
       "      <td>LW/ST</td>\n",
       "      <td>...</td>\n",
       "      <td>90</td>\n",
       "      <td>95</td>\n",
       "      <td>85</td>\n",
       "      <td>92</td>\n",
       "      <td>93</td>\n",
       "      <td>90</td>\n",
       "      <td>81</td>\n",
       "      <td>76</td>\n",
       "      <td>85</td>\n",
       "      <td>88</td>\n",
       "    </tr>\n",
       "    <tr>\n",
       "      <th>Lionel Messi</th>\n",
       "      <td>Argentina</td>\n",
       "      <td>FC Barcelona</td>\n",
       "      <td>RW</td>\n",
       "      <td>93</td>\n",
       "      <td>170.0</td>\n",
       "      <td>72.0</td>\n",
       "      <td>Left</td>\n",
       "      <td>06/24/1987</td>\n",
       "      <td>29</td>\n",
       "      <td>RW</td>\n",
       "      <td>...</td>\n",
       "      <td>90</td>\n",
       "      <td>68</td>\n",
       "      <td>71</td>\n",
       "      <td>85</td>\n",
       "      <td>95</td>\n",
       "      <td>88</td>\n",
       "      <td>89</td>\n",
       "      <td>90</td>\n",
       "      <td>74</td>\n",
       "      <td>85</td>\n",
       "    </tr>\n",
       "    <tr>\n",
       "      <th>Neymar</th>\n",
       "      <td>Brazil</td>\n",
       "      <td>FC Barcelona</td>\n",
       "      <td>LW</td>\n",
       "      <td>92</td>\n",
       "      <td>174.0</td>\n",
       "      <td>68.0</td>\n",
       "      <td>Right</td>\n",
       "      <td>02/05/1992</td>\n",
       "      <td>25</td>\n",
       "      <td>LW</td>\n",
       "      <td>...</td>\n",
       "      <td>96</td>\n",
       "      <td>61</td>\n",
       "      <td>62</td>\n",
       "      <td>78</td>\n",
       "      <td>89</td>\n",
       "      <td>77</td>\n",
       "      <td>79</td>\n",
       "      <td>84</td>\n",
       "      <td>81</td>\n",
       "      <td>83</td>\n",
       "    </tr>\n",
       "    <tr>\n",
       "      <th>Luis Suárez</th>\n",
       "      <td>Uruguay</td>\n",
       "      <td>FC Barcelona</td>\n",
       "      <td>ST</td>\n",
       "      <td>92</td>\n",
       "      <td>182.0</td>\n",
       "      <td>85.0</td>\n",
       "      <td>Right</td>\n",
       "      <td>01/24/1987</td>\n",
       "      <td>30</td>\n",
       "      <td>ST</td>\n",
       "      <td>...</td>\n",
       "      <td>86</td>\n",
       "      <td>69</td>\n",
       "      <td>77</td>\n",
       "      <td>87</td>\n",
       "      <td>94</td>\n",
       "      <td>86</td>\n",
       "      <td>86</td>\n",
       "      <td>84</td>\n",
       "      <td>85</td>\n",
       "      <td>88</td>\n",
       "    </tr>\n",
       "    <tr>\n",
       "      <th>Manuel Neuer</th>\n",
       "      <td>Germany</td>\n",
       "      <td>FC Bayern</td>\n",
       "      <td>GK</td>\n",
       "      <td>92</td>\n",
       "      <td>193.0</td>\n",
       "      <td>92.0</td>\n",
       "      <td>Right</td>\n",
       "      <td>03/27/1986</td>\n",
       "      <td>31</td>\n",
       "      <td>GK</td>\n",
       "      <td>...</td>\n",
       "      <td>52</td>\n",
       "      <td>78</td>\n",
       "      <td>25</td>\n",
       "      <td>25</td>\n",
       "      <td>13</td>\n",
       "      <td>16</td>\n",
       "      <td>14</td>\n",
       "      <td>11</td>\n",
       "      <td>47</td>\n",
       "      <td>11</td>\n",
       "    </tr>\n",
       "  </tbody>\n",
       "</table>\n",
       "<p>5 rows × 42 columns</p>\n",
       "</div>"
      ],
      "text/plain": [
       "                  nationality          club club_position  rating  height  \\\n",
       "name                                                                        \n",
       "Cristiano Ronaldo    Portugal   Real Madrid            LW      94   185.0   \n",
       "Lionel Messi        Argentina  FC Barcelona            RW      93   170.0   \n",
       "Neymar                 Brazil  FC Barcelona            LW      92   174.0   \n",
       "Luis Suárez           Uruguay  FC Barcelona            ST      92   182.0   \n",
       "Manuel Neuer          Germany     FC Bayern            GK      92   193.0   \n",
       "\n",
       "                   weight preffered_foot  birth_date  age preffered_position  \\\n",
       "name                                                                           \n",
       "Cristiano Ronaldo    80.0          Right  02/05/1985   32              LW/ST   \n",
       "Lionel Messi         72.0           Left  06/24/1987   29                 RW   \n",
       "Neymar               68.0          Right  02/05/1992   25                 LW   \n",
       "Luis Suárez          85.0          Right  01/24/1987   30                 ST   \n",
       "Manuel Neuer         92.0          Right  03/27/1986   31                 GK   \n",
       "\n",
       "                    ...    agility  jumping  heading  shot_power  finishing  \\\n",
       "name                ...                                                       \n",
       "Cristiano Ronaldo   ...         90       95       85          92         93   \n",
       "Lionel Messi        ...         90       68       71          85         95   \n",
       "Neymar              ...         96       61       62          78         89   \n",
       "Luis Suárez         ...         86       69       77          87         94   \n",
       "Manuel Neuer        ...         52       78       25          25         13   \n",
       "\n",
       "                   long_shots  curve  freekick_accuracy  penalties  volleys  \n",
       "name                                                                         \n",
       "Cristiano Ronaldo          90     81                 76         85       88  \n",
       "Lionel Messi               88     89                 90         74       85  \n",
       "Neymar                     77     79                 84         81       83  \n",
       "Luis Suárez                86     86                 84         85       88  \n",
       "Manuel Neuer               16     14                 11         47       11  \n",
       "\n",
       "[5 rows x 42 columns]"
      ]
     },
     "execution_count": 32,
     "metadata": {},
     "output_type": "execute_result"
    }
   ],
   "source": [
    "#fifa2 =fifa[fifa.club == clubs_list]\n",
    "#fifa2.head()drinks.info()\n",
    "fifa2 = fifa[fifa.club.isin(clubs_list)]\n",
    "fifa2.head()"
   ]
  },
  {
   "cell_type": "markdown",
   "metadata": {},
   "source": [
    "### 7. Make a bar plot of the average long_shots, curve, and dribbling attributes of the clubs in the data"
   ]
  },
  {
   "cell_type": "code",
   "execution_count": 33,
   "metadata": {},
   "outputs": [
    {
     "data": {
      "image/png": "[encoded data removed]",
      "text/plain": [
       "<matplotlib.figure.Figure at 0x111fb7b50>"
      ]
     },
     "metadata": {},
     "output_type": "display_data"
    }
   ],
   "source": [
    "cols = [\"long_shots\", \"curve\", \"dribbling\"]\n",
    "fifa2.groupby(\"club\")[cols].mean().plot(kind=\"bar\", figsize=(10,8), \n",
    "                                           title = \"Grouped Bar plots\")\n",
    "plt.show()"
   ]
  },
  {
   "cell_type": "markdown",
   "metadata": {},
   "source": [
    "### 8. Make a scatter plot of short_pass vs marking and use the preffered_foot column to color-encode the dots."
   ]
  },
  {
   "cell_type": "code",
   "execution_count": 41,
   "metadata": {},
   "outputs": [
    {
     "data": {
      "image/png": "[encoded data removed]",
      "text/plain": [
       "<matplotlib.figure.Figure at 0x118cc2c90>"
      ]
     },
     "metadata": {},
     "output_type": "display_data"
    }
   ],
   "source": [
    "color_dict = {\"Left\":\"r\", \"Right\":\"b\"}\n",
    "colors = fifa2.preffered_foot.map(color_dict)\n",
    "\n",
    "fifa.plot(x=\"short_pass\", y = \"marking\", kind=\"scatter\", c=colors, figsize=(10, 7))\n",
    "plt.show()"
   ]
  },
  {
   "cell_type": "markdown",
   "metadata": {},
   "source": [
    "### 9. Make a grouped boxplots using club_position as the x axis for the following attributes: dribbling, balance, and sliding_tackle"
   ]
  },
  {
   "cell_type": "code",
   "execution_count": 45,
   "metadata": {},
   "outputs": [
    {
     "data": {
      "image/png": "[encoded data removed]",
      "text/plain": [
       "<matplotlib.figure.Figure at 0x118013310>"
      ]
     },
     "metadata": {},
     "output_type": "display_data"
    }
   ],
   "source": [
    "#Dribbling boxplot\n",
    "sns.boxplot(x=\"club_position\", y = \"dribbling\", data = fifa2);"
   ]
  },
  {
   "cell_type": "code",
   "execution_count": 46,
   "metadata": {},
   "outputs": [
    {
     "data": {
      "text/plain": [
       "<matplotlib.figure.Figure at 0x116ccaa10>"
      ]
     },
     "metadata": {},
     "output_type": "display_data"
    },
    {
     "data": {
      "image/png": "[encoded data removed]",
      "text/plain": [
       "<matplotlib.figure.Figure at 0x118474610>"
      ]
     },
     "metadata": {},
     "output_type": "display_data"
    }
   ],
   "source": [
    "\n",
    "plt.figure(figsize=(24, 24))\n",
    "fifa2.boxplot(column=\"dribbling\", by=\"club_position\")\n",
    "plt.tight_layout()\n",
    "plt.show()"
   ]
  },
  {
   "cell_type": "markdown",
   "metadata": {},
   "source": [
    "Which position is better at dribbling? ST or RCM? Why?"
   ]
  },
  {
   "cell_type": "code",
   "execution_count": null,
   "metadata": {
    "collapsed": true
   },
   "outputs": [],
   "source": []
  },
  {
   "cell_type": "code",
   "execution_count": 39,
   "metadata": {},
   "outputs": [
    {
     "data": {
      "image/png": "[encoded data removed]",
      "text/plain": [
       "<matplotlib.figure.Figure at 0x1185fe050>"
      ]
     },
     "metadata": {},
     "output_type": "display_data"
    }
   ],
   "source": [
    "#Balance boxplot\n",
    "sns.boxplot(x=\"club_position\", y = \"balance\", data = fifa2);"
   ]
  },
  {
   "cell_type": "markdown",
   "metadata": {},
   "source": [
    "Which position is better at balance? LM or LDM? Why?"
   ]
  },
  {
   "cell_type": "code",
   "execution_count": null,
   "metadata": {
    "collapsed": true
   },
   "outputs": [],
   "source": []
  },
  {
   "cell_type": "code",
   "execution_count": 40,
   "metadata": {},
   "outputs": [
    {
     "data": {
      "image/png": "[encoded data removed]",
      "text/plain": [
       "<matplotlib.figure.Figure at 0x11b38c790>"
      ]
     },
     "metadata": {},
     "output_type": "display_data"
    }
   ],
   "source": [
    "#sliding_tackle boxplot\n",
    "sns.boxplot(x=\"club_position\", y = \"sliding_tackle\", data = fifa2);"
   ]
  },
  {
   "cell_type": "markdown",
   "metadata": {},
   "source": [
    "What is the IQR for positions ST, RB, and RM?"
   ]
  },
  {
   "cell_type": "code",
   "execution_count": null,
   "metadata": {
    "collapsed": true
   },
   "outputs": [],
   "source": []
  }
 ],
 "metadata": {
  "anaconda-cloud": {},
  "kernelspec": {
   "display_name": "Python 2",
   "language": "python",
   "name": "python2"
  },
  "language_info": {
   "codemirror_mode": {
    "name": "ipython",
    "version": 2
   },
   "file_extension": ".py",
   "mimetype": "text/x-python",
   "name": "python",
   "nbconvert_exporter": "python",
   "pygments_lexer": "ipython2",
   "version": "2.7.13"
  }
 },
 "nbformat": 4,
 "nbformat_minor": 1
}
